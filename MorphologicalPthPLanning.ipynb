{
  "nbformat": 4,
  "nbformat_minor": 0,
  "metadata": {
    "colab": {
      "name": "MorphPP_(1) (1).ipynb",
      "provenance": [],
      "collapsed_sections": [
        "d4-zIhTvBO-5",
        "Uj5qwAVoCRVZ",
        "U1XcxDlSG1vw",
        "4Q6eLdP-pEzn"
      ],
      "toc_visible": true
    },
    "kernelspec": {
      "name": "python3",
      "display_name": "Python 3"
    },
    "language_info": {
      "name": "python"
    }
  },
  "cells": [
    {
      "cell_type": "markdown",
      "source": [
        "# Libraries\n"
      ],
      "metadata": {
        "id": "d4-zIhTvBO-5"
      }
    },
    {
      "cell_type": "code",
      "execution_count": 3,
      "metadata": {
        "id": "NY0koUClAKWv"
      },
      "outputs": [],
      "source": [
        "#@title\n",
        "from skimage.morphology import thin, skeletonize\n",
        "from skimage.color import rgb2gray\n",
        "from skimage.filters import threshold_otsu\n",
        "import numpy as np\n",
        "import matplotlib.pyplot as plt\n",
        "import cv2\n",
        "from google.colab.patches import cv2_imshow\n",
        "import time\n",
        "from PIL import Image\n",
        "from matplotlib import cm\n",
        "from PIL import Image"
      ]
    },
    {
      "cell_type": "code",
      "source": [
        ""
      ],
      "metadata": {
        "id": "XtCWSkSTBie7"
      },
      "execution_count": null,
      "outputs": []
    },
    {
      "cell_type": "markdown",
      "source": [
        "# v1.1\n",
        "\n"
      ],
      "metadata": {
        "id": "Uj5qwAVoCRVZ"
      }
    },
    {
      "cell_type": "code",
      "source": [
        "world = rgb2gray(cv2.imread('world1.png'))\n",
        "thresh = threshold_otsu(world)\n",
        "world = world > thresh\n",
        "world = 1 - world\n",
        "thinned = thin(world)\n",
        "skel = skeletonize(world)\n",
        "plt.imshow(thinned+world)"
      ],
      "metadata": {
        "colab": {
          "base_uri": "https://localhost:8080/",
          "height": 286
        },
        "id": "mf3lX8_kCT0D",
        "outputId": "db1391b5-6e12-4f43-b8e3-1a5fc3301173"
      },
      "execution_count": null,
      "outputs": [
        {
          "output_type": "execute_result",
          "data": {
            "text/plain": [
              "<matplotlib.image.AxesImage at 0x7f33e9915710>"
            ]
          },
          "metadata": {},
          "execution_count": 15
        },
        {
          "output_type": "display_data",
          "data": {
            "image/png": "[encoded data removed]",
            "text/plain": [
              "<Figure size 432x288 with 1 Axes>"
            ]
          },
          "metadata": {
            "needs_background": "light"
          }
        }
      ]
    },
    {
      "cell_type": "code",
      "source": [
        "thinned"
      ],
      "metadata": {
        "colab": {
          "base_uri": "https://localhost:8080/"
        },
        "id": "FHv6uKW_Eho-",
        "outputId": "c7987a22-136b-4669-f328-5a4234211382"
      },
      "execution_count": null,
      "outputs": [
        {
          "output_type": "execute_result",
          "data": {
            "text/plain": [
              "array([[False, False, False, ..., False, False, False],\n",
              "       [False, False, False, ..., False, False, False],\n",
              "       [False, False, False, ..., False, False, False],\n",
              "       ...,\n",
              "       [False, False, False, ..., False, False, False],\n",
              "       [False, False, False, ..., False, False, False],\n",
              "       [False, False, False, ..., False, False, False]])"
            ]
          },
          "metadata": {},
          "execution_count": 16
        }
      ]
    },
    {
      "cell_type": "code",
      "source": [
        "thinned.shape[1]"
      ],
      "metadata": {
        "colab": {
          "base_uri": "https://localhost:8080/"
        },
        "id": "bnN81sn-Fjy-",
        "outputId": "a7ae13ca-1af1-47ef-9887-c72b021e33bd"
      },
      "execution_count": null,
      "outputs": [
        {
          "output_type": "execute_result",
          "data": {
            "text/plain": [
              "602"
            ]
          },
          "metadata": {},
          "execution_count": 24
        }
      ]
    },
    {
      "cell_type": "code",
      "source": [
        ""
      ],
      "metadata": {
        "id": "70WVaeVtG0h4"
      },
      "execution_count": null,
      "outputs": []
    },
    {
      "cell_type": "markdown",
      "source": [
        "# World 2"
      ],
      "metadata": {
        "id": "U1XcxDlSG1vw"
      }
    },
    {
      "cell_type": "code",
      "source": [
        "world = rgb2gray(cv2.imread('world2.png'))\n",
        "thresh = threshold_otsu(world)\n",
        "world = world > thresh\n",
        "world = 1 - world\n",
        "thinned = thin(world)\n",
        "skel = skeletonize(world)\n",
        "plt.imshow(thinned+world)"
      ],
      "metadata": {
        "colab": {
          "base_uri": "https://localhost:8080/"
        },
        "id": "86lbjbNcGzvp",
        "outputId": "0820bcce-430d-4ee1-8a68-132ffba94a9b"
      },
      "execution_count": null,
      "outputs": [
        {
          "output_type": "execute_result",
          "data": {
            "text/plain": [
              "<matplotlib.image.AxesImage at 0x7f33e811eb90>"
            ]
          },
          "metadata": {},
          "execution_count": 256
        },
        {
          "output_type": "display_data",
          "data": {
            "image/png": "[encoded data removed]",
            "text/plain": [
              "<Figure size 432x288 with 1 Axes>"
            ]
          },
          "metadata": {
            "needs_background": "light"
          }
        }
      ]
    },
    {
      "cell_type": "code",
      "source": [
        "waypoints = [];\n",
        "waypointsR = [];\n",
        "waypointsC = [];\n",
        "for i in range(thinned.shape[0]-1):\n",
        "  for j in range(thinned.shape[1]-1):\n",
        "    if thinned[i,j] == True:\n",
        "      waypoints.append([i,j])\n",
        "      waypointsR.append(i);\n",
        "      waypointsC.append(j);\n"
      ],
      "metadata": {
        "id": "Txi8HCkLE1f_"
      },
      "execution_count": null,
      "outputs": []
    },
    {
      "cell_type": "code",
      "source": [
        "len(waypoints)"
      ],
      "metadata": {
        "colab": {
          "base_uri": "https://localhost:8080/"
        },
        "id": "2pPv22z-H-uk",
        "outputId": "64973ef0-7b06-4d1e-e536-442c95403953"
      },
      "execution_count": null,
      "outputs": [
        {
          "output_type": "execute_result",
          "data": {
            "text/plain": [
              "899"
            ]
          },
          "metadata": {},
          "execution_count": 258
        }
      ]
    },
    {
      "cell_type": "code",
      "source": [
        "plt.scatter(waypointsR,waypointsC)"
      ],
      "metadata": {
        "colab": {
          "base_uri": "https://localhost:8080/"
        },
        "id": "oQq6V8QXHYn6",
        "outputId": "b384d3ac-1368-47ff-c07d-ca34a06e34d3"
      },
      "execution_count": null,
      "outputs": [
        {
          "output_type": "execute_result",
          "data": {
            "text/plain": [
              "<matplotlib.collections.PathCollection at 0x7f33e80a1f50>"
            ]
          },
          "metadata": {},
          "execution_count": 259
        },
        {
          "output_type": "display_data",
          "data": {
            "image/png": "[encoded data removed]",
            "text/plain": [
              "<Figure size 432x288 with 1 Axes>"
            ]
          },
          "metadata": {
            "needs_background": "light"
          }
        }
      ]
    },
    {
      "cell_type": "code",
      "source": [
        "start = waypoints[0]\n",
        "Currentloc = []\n",
        "tree = {}\n",
        "for i in range(len(waypoints)):\n",
        "  x = waypoints[i][0]\n",
        "  y = waypoints[i][1]\n",
        "  neighbours = []\n",
        "  for j in range(len(waypoints)):\n",
        "    x_new = waypoints[j][0]\n",
        "    y_new = waypoints[j][1]\n",
        "    #              left                        right                 \n",
        "    if ((x == x_new + 1) and (y == y_new)) or ((x == x_new -1) and (y == y_new)) or ((x == x_new) and (y == y_new +1)) or ((x == x_new) and (y == y_new - 1)) or ((x == x_new+1) and (y == y_new+1)) or ((x == x_new - 1) and (y == y_new - 1)) or ((x == x_new+1) and (y == y_new-1)) or ((x == x_new - 1) and (y == y_new + 1)):\n",
        "      neighbours.append(waypoints[j])\n",
        "      #print(neighbours)\n",
        "  tree[str(waypoints[i])]  = neighbours\n",
        "\n"
      ],
      "metadata": {
        "id": "p2FqIfTfIRKb"
      },
      "execution_count": null,
      "outputs": []
    },
    {
      "cell_type": "code",
      "source": [
        "tree"
      ],
      "metadata": {
        "colab": {
          "base_uri": "https://localhost:8080/"
        },
        "id": "Wqq0FVl6NOTM",
        "outputId": "50f265c2-8560-488b-ca6b-2aad241db363"
      },
      "execution_count": null,
      "outputs": [
        {
          "output_type": "execute_result",
          "data": {
            "text/plain": [
              "{'[100, 280]': [[99, 280], [101, 280]],\n",
              " '[100, 32]': [[99, 32], [101, 32]],\n",
              " '[101, 280]': [[100, 280], [102, 280]],\n",
              " '[101, 32]': [[100, 32], [102, 32]],\n",
              " '[102, 280]': [[101, 280], [103, 280]],\n",
              " '[102, 32]': [[101, 32], [103, 32]],\n",
              " '[103, 280]': [[102, 280], [104, 280]],\n",
              " '[103, 32]': [[102, 32], [104, 32]],\n",
              " '[104, 280]': [[103, 280], [105, 280]],\n",
              " '[104, 32]': [[103, 32], [105, 32]],\n",
              " '[105, 280]': [[104, 280], [106, 280]],\n",
              " '[105, 32]': [[104, 32], [106, 32]],\n",
              " '[106, 280]': [[105, 280], [107, 280]],\n",
              " '[106, 32]': [[105, 32], [107, 32]],\n",
              " '[107, 280]': [[106, 280], [108, 280]],\n",
              " '[107, 32]': [[106, 32], [108, 32]],\n",
              " '[108, 280]': [[107, 280], [109, 280]],\n",
              " '[108, 32]': [[107, 32], [109, 32]],\n",
              " '[109, 280]': [[108, 280], [110, 280]],\n",
              " '[109, 32]': [[108, 32], [110, 32]],\n",
              " '[110, 280]': [[109, 280], [111, 280]],\n",
              " '[110, 32]': [[109, 32], [111, 32]],\n",
              " '[111, 280]': [[110, 280], [112, 280]],\n",
              " '[111, 32]': [[110, 32], [112, 32]],\n",
              " '[112, 280]': [[111, 280], [113, 280]],\n",
              " '[112, 32]': [[111, 32], [113, 32]],\n",
              " '[113, 280]': [[112, 280], [114, 280]],\n",
              " '[113, 32]': [[112, 32], [114, 32]],\n",
              " '[114, 280]': [[113, 280], [115, 280]],\n",
              " '[114, 32]': [[113, 32], [115, 32]],\n",
              " '[115, 280]': [[114, 280], [116, 280]],\n",
              " '[115, 32]': [[114, 32], [116, 32]],\n",
              " '[116, 280]': [[115, 280], [117, 280]],\n",
              " '[116, 32]': [[115, 32], [117, 32]],\n",
              " '[117, 280]': [[116, 280], [118, 280]],\n",
              " '[117, 32]': [[116, 32], [118, 32]],\n",
              " '[118, 280]': [[117, 280], [119, 280]],\n",
              " '[118, 32]': [[117, 32], [119, 32]],\n",
              " '[119, 280]': [[118, 280], [120, 280]],\n",
              " '[119, 32]': [[118, 32], [120, 32]],\n",
              " '[120, 280]': [[119, 280], [121, 280]],\n",
              " '[120, 32]': [[119, 32], [121, 32]],\n",
              " '[121, 280]': [[120, 280], [122, 280]],\n",
              " '[121, 32]': [[120, 32], [122, 32]],\n",
              " '[122, 280]': [[121, 280], [123, 280]],\n",
              " '[122, 32]': [[121, 32], [123, 32]],\n",
              " '[123, 280]': [[122, 280], [124, 280]],\n",
              " '[123, 32]': [[122, 32], [124, 32]],\n",
              " '[124, 280]': [[123, 280], [125, 280]],\n",
              " '[124, 32]': [[123, 32], [125, 32]],\n",
              " '[125, 280]': [[124, 280], [126, 280]],\n",
              " '[125, 32]': [[124, 32], [126, 32]],\n",
              " '[126, 280]': [[125, 280], [127, 280]],\n",
              " '[126, 32]': [[125, 32], [127, 32]],\n",
              " '[127, 280]': [[126, 280], [128, 280]],\n",
              " '[127, 32]': [[126, 32], [128, 32]],\n",
              " '[128, 280]': [[127, 280], [129, 280]],\n",
              " '[128, 32]': [[127, 32], [129, 32]],\n",
              " '[129, 280]': [[128, 280], [130, 280]],\n",
              " '[129, 32]': [[128, 32], [130, 32]],\n",
              " '[130, 280]': [[129, 280], [131, 280]],\n",
              " '[130, 32]': [[129, 32], [131, 32]],\n",
              " '[131, 280]': [[130, 280], [132, 280]],\n",
              " '[131, 32]': [[130, 32], [132, 32]],\n",
              " '[132, 280]': [[131, 280], [133, 280]],\n",
              " '[132, 32]': [[131, 32], [133, 32]],\n",
              " '[133, 280]': [[132, 280], [134, 280]],\n",
              " '[133, 32]': [[132, 32], [134, 32]],\n",
              " '[134, 280]': [[133, 280], [135, 280]],\n",
              " '[134, 32]': [[133, 32], [135, 32]],\n",
              " '[135, 280]': [[134, 280], [136, 280]],\n",
              " '[135, 32]': [[134, 32], [136, 32]],\n",
              " '[136, 280]': [[135, 280], [137, 280]],\n",
              " '[136, 32]': [[135, 32], [137, 32]],\n",
              " '[137, 280]': [[136, 280], [138, 280]],\n",
              " '[137, 32]': [[136, 32], [138, 32]],\n",
              " '[138, 280]': [[137, 280], [139, 280]],\n",
              " '[138, 32]': [[137, 32], [139, 32]],\n",
              " '[139, 280]': [[138, 280], [140, 280]],\n",
              " '[139, 32]': [[138, 32], [140, 32]],\n",
              " '[140, 280]': [[139, 280], [141, 280]],\n",
              " '[140, 32]': [[139, 32], [141, 32]],\n",
              " '[141, 280]': [[140, 280], [142, 280]],\n",
              " '[141, 32]': [[140, 32], [142, 32]],\n",
              " '[142, 280]': [[141, 280], [143, 280]],\n",
              " '[142, 32]': [[141, 32], [143, 32]],\n",
              " '[143, 280]': [[142, 280], [144, 280]],\n",
              " '[143, 32]': [[142, 32], [144, 32]],\n",
              " '[144, 280]': [[143, 280], [145, 280]],\n",
              " '[144, 32]': [[143, 32], [145, 32]],\n",
              " '[145, 280]': [[144, 280], [146, 280]],\n",
              " '[145, 32]': [[144, 32], [146, 32]],\n",
              " '[146, 280]': [[145, 280], [147, 280]],\n",
              " '[146, 32]': [[145, 32], [147, 32]],\n",
              " '[147, 280]': [[146, 280], [148, 280]],\n",
              " '[147, 32]': [[146, 32], [148, 32]],\n",
              " '[148, 280]': [[147, 280], [149, 280]],\n",
              " '[148, 32]': [[147, 32], [149, 32]],\n",
              " '[149, 280]': [[148, 280], [150, 280]],\n",
              " '[149, 32]': [[148, 32], [150, 32]],\n",
              " '[150, 280]': [[149, 280], [151, 280]],\n",
              " '[150, 32]': [[149, 32], [151, 32]],\n",
              " '[151, 280]': [[150, 280], [152, 280]],\n",
              " '[151, 32]': [[150, 32], [152, 32]],\n",
              " '[152, 280]': [[151, 280], [153, 280]],\n",
              " '[152, 32]': [[151, 32], [153, 32]],\n",
              " '[153, 280]': [[152, 280], [154, 280]],\n",
              " '[153, 32]': [[152, 32], [154, 32]],\n",
              " '[154, 280]': [[153, 280], [155, 280]],\n",
              " '[154, 32]': [[153, 32], [155, 32]],\n",
              " '[155, 280]': [[154, 280], [156, 280]],\n",
              " '[155, 32]': [[154, 32], [156, 32]],\n",
              " '[156, 280]': [[155, 280], [157, 280]],\n",
              " '[156, 32]': [[155, 32], [157, 32]],\n",
              " '[157, 280]': [[156, 280], [158, 280]],\n",
              " '[157, 32]': [[156, 32], [158, 32]],\n",
              " '[158, 280]': [[157, 280], [159, 280]],\n",
              " '[158, 32]': [[157, 32], [159, 32]],\n",
              " '[159, 280]': [[158, 280], [160, 280]],\n",
              " '[159, 32]': [[158, 32], [160, 32]],\n",
              " '[160, 280]': [[159, 280], [161, 280]],\n",
              " '[160, 32]': [[159, 32], [161, 32]],\n",
              " '[161, 280]': [[160, 280], [162, 280]],\n",
              " '[161, 32]': [[160, 32], [162, 32]],\n",
              " '[162, 280]': [[161, 280], [163, 280]],\n",
              " '[162, 32]': [[161, 32], [163, 32]],\n",
              " '[163, 280]': [[162, 280], [164, 280]],\n",
              " '[163, 32]': [[162, 32], [164, 32]],\n",
              " '[164, 280]': [[163, 280], [165, 280]],\n",
              " '[164, 32]': [[163, 32], [165, 32]],\n",
              " '[165, 280]': [[164, 280], [166, 280]],\n",
              " '[165, 32]': [[164, 32], [166, 32]],\n",
              " '[166, 280]': [[165, 280], [167, 280]],\n",
              " '[166, 32]': [[165, 32], [167, 32]],\n",
              " '[167, 280]': [[166, 280], [168, 280]],\n",
              " '[167, 32]': [[166, 32], [168, 32]],\n",
              " '[168, 280]': [[167, 280], [169, 280]],\n",
              " '[168, 32]': [[167, 32], [169, 32]],\n",
              " '[169, 280]': [[168, 280], [170, 280]],\n",
              " '[169, 32]': [[168, 32], [170, 32]],\n",
              " '[170, 280]': [[169, 280], [171, 280]],\n",
              " '[170, 32]': [[169, 32], [171, 32]],\n",
              " '[171, 280]': [[170, 280], [172, 280]],\n",
              " '[171, 32]': [[170, 32], [172, 32]],\n",
              " '[172, 280]': [[171, 280], [173, 280]],\n",
              " '[172, 32]': [[171, 32], [173, 32]],\n",
              " '[173, 280]': [[172, 280], [174, 280]],\n",
              " '[173, 32]': [[172, 32], [174, 32]],\n",
              " '[174, 280]': [[173, 280], [175, 280]],\n",
              " '[174, 32]': [[173, 32], [175, 32]],\n",
              " '[175, 280]': [[174, 280], [176, 280]],\n",
              " '[175, 32]': [[174, 32], [176, 32]],\n",
              " '[176, 280]': [[175, 280], [177, 280]],\n",
              " '[176, 32]': [[175, 32], [177, 32]],\n",
              " '[177, 280]': [[176, 280], [178, 280]],\n",
              " '[177, 32]': [[176, 32], [178, 32]],\n",
              " '[178, 280]': [[177, 280], [179, 280]],\n",
              " '[178, 32]': [[177, 32], [179, 32]],\n",
              " '[179, 280]': [[178, 280], [180, 280]],\n",
              " '[179, 32]': [[178, 32], [180, 32]],\n",
              " '[180, 280]': [[179, 280], [181, 280]],\n",
              " '[180, 32]': [[179, 32], [181, 32]],\n",
              " '[181, 280]': [[180, 280], [182, 280]],\n",
              " '[181, 32]': [[180, 32], [182, 32]],\n",
              " '[182, 280]': [[181, 280], [183, 280]],\n",
              " '[182, 32]': [[181, 32], [183, 32]],\n",
              " '[183, 280]': [[182, 280], [184, 280]],\n",
              " '[183, 32]': [[182, 32], [184, 32]],\n",
              " '[184, 280]': [[183, 280], [185, 280]],\n",
              " '[184, 32]': [[183, 32], [185, 32]],\n",
              " '[185, 280]': [[184, 280], [186, 280]],\n",
              " '[185, 32]': [[184, 32], [186, 32]],\n",
              " '[186, 280]': [[185, 280], [187, 280]],\n",
              " '[186, 32]': [[185, 32], [187, 32]],\n",
              " '[187, 280]': [[186, 280], [188, 280]],\n",
              " '[187, 32]': [[186, 32], [188, 32]],\n",
              " '[188, 280]': [[187, 280], [189, 280]],\n",
              " '[188, 32]': [[187, 32], [189, 32]],\n",
              " '[189, 280]': [[188, 280], [190, 280]],\n",
              " '[189, 32]': [[188, 32], [190, 32]],\n",
              " '[190, 280]': [[189, 280], [191, 280]],\n",
              " '[190, 32]': [[189, 32], [191, 32]],\n",
              " '[191, 280]': [[190, 280], [192, 280]],\n",
              " '[191, 32]': [[190, 32], [192, 32]],\n",
              " '[192, 280]': [[191, 280], [193, 280]],\n",
              " '[192, 32]': [[191, 32], [193, 32]],\n",
              " '[193, 280]': [[192, 280], [194, 280]],\n",
              " '[193, 32]': [[192, 32], [194, 32]],\n",
              " '[194, 280]': [[193, 280], [195, 280]],\n",
              " '[194, 32]': [[193, 32], [195, 32]],\n",
              " '[195, 280]': [[194, 280], [196, 280]],\n",
              " '[195, 32]': [[194, 32], [196, 32]],\n",
              " '[196, 280]': [[195, 280], [197, 280]],\n",
              " '[196, 32]': [[195, 32], [197, 32]],\n",
              " '[197, 280]': [[196, 280], [198, 280]],\n",
              " '[197, 32]': [[196, 32], [198, 32]],\n",
              " '[198, 280]': [[197, 280], [199, 280]],\n",
              " '[198, 32]': [[197, 32], [199, 32]],\n",
              " '[199, 280]': [[198, 280], [200, 280]],\n",
              " '[199, 32]': [[198, 32], [200, 32]],\n",
              " '[200, 280]': [[199, 280], [201, 280]],\n",
              " '[200, 32]': [[199, 32], [201, 32]],\n",
              " '[201, 280]': [[200, 280], [202, 280]],\n",
              " '[201, 32]': [[200, 32], [202, 32]],\n",
              " '[202, 280]': [[201, 280], [203, 280]],\n",
              " '[202, 32]': [[201, 32], [203, 32]],\n",
              " '[203, 280]': [[202, 280], [204, 280]],\n",
              " '[203, 32]': [[202, 32], [204, 32]],\n",
              " '[204, 280]': [[203, 280], [205, 280]],\n",
              " '[204, 32]': [[203, 32], [205, 32]],\n",
              " '[205, 280]': [[204, 280], [206, 280]],\n",
              " '[205, 32]': [[204, 32], [206, 32]],\n",
              " '[206, 280]': [[205, 280], [207, 280]],\n",
              " '[206, 32]': [[205, 32], [207, 32]],\n",
              " '[207, 280]': [[206, 280], [208, 280]],\n",
              " '[207, 32]': [[206, 32], [208, 32]],\n",
              " '[208, 280]': [[207, 280], [209, 280]],\n",
              " '[208, 32]': [[207, 32], [209, 32]],\n",
              " '[209, 280]': [[208, 280], [210, 280]],\n",
              " '[209, 32]': [[208, 32], [210, 32]],\n",
              " '[210, 280]': [[209, 280], [211, 280]],\n",
              " '[210, 32]': [[209, 32], [211, 32]],\n",
              " '[211, 280]': [[210, 280], [212, 280]],\n",
              " '[211, 32]': [[210, 32], [212, 32]],\n",
              " '[212, 280]': [[211, 280], [213, 280]],\n",
              " '[212, 32]': [[211, 32], [213, 32]],\n",
              " '[213, 280]': [[212, 280], [214, 280]],\n",
              " '[213, 32]': [[212, 32], [214, 32]],\n",
              " '[214, 280]': [[213, 280], [215, 280]],\n",
              " '[214, 32]': [[213, 32], [215, 32]],\n",
              " '[215, 280]': [[214, 280], [216, 280]],\n",
              " '[215, 32]': [[214, 32], [216, 32]],\n",
              " '[216, 280]': [[215, 280], [217, 280]],\n",
              " '[216, 32]': [[215, 32], [217, 32]],\n",
              " '[217, 280]': [[216, 280], [218, 280]],\n",
              " '[217, 32]': [[216, 32], [218, 32]],\n",
              " '[218, 280]': [[217, 280], [219, 280]],\n",
              " '[218, 32]': [[217, 32], [219, 32]],\n",
              " '[219, 280]': [[218, 280], [220, 280]],\n",
              " '[219, 32]': [[218, 32], [220, 32]],\n",
              " '[220, 280]': [[219, 280], [221, 280]],\n",
              " '[220, 32]': [[219, 32], [221, 32]],\n",
              " '[221, 280]': [[220, 280], [222, 280]],\n",
              " '[221, 32]': [[220, 32], [222, 32]],\n",
              " '[222, 280]': [[221, 280], [223, 280]],\n",
              " '[222, 32]': [[221, 32], [223, 32]],\n",
              " '[223, 280]': [[222, 280], [224, 280]],\n",
              " '[223, 32]': [[222, 32], [224, 32]],\n",
              " '[224, 280]': [[223, 280], [225, 280]],\n",
              " '[224, 32]': [[223, 32], [225, 32]],\n",
              " '[225, 280]': [[224, 280], [226, 280]],\n",
              " '[225, 32]': [[224, 32], [226, 32]],\n",
              " '[226, 280]': [[225, 280], [227, 280]],\n",
              " '[226, 32]': [[225, 32], [227, 32]],\n",
              " '[227, 280]': [[226, 280], [228, 280]],\n",
              " '[227, 32]': [[226, 32], [228, 32]],\n",
              " '[228, 280]': [[227, 280], [229, 280]],\n",
              " '[228, 32]': [[227, 32], [229, 32]],\n",
              " '[229, 280]': [[228, 280], [230, 280]],\n",
              " '[229, 32]': [[228, 32], [230, 32]],\n",
              " '[230, 280]': [[229, 280], [231, 280]],\n",
              " '[230, 32]': [[229, 32], [231, 32]],\n",
              " '[231, 280]': [[230, 280], [232, 280]],\n",
              " '[231, 32]': [[230, 32], [232, 32]],\n",
              " '[232, 280]': [[231, 280], [233, 280]],\n",
              " '[232, 32]': [[231, 32], [233, 32]],\n",
              " '[233, 280]': [[232, 280], [234, 280]],\n",
              " '[233, 32]': [[232, 32], [234, 32]],\n",
              " '[234, 280]': [[233, 280], [235, 280]],\n",
              " '[234, 32]': [[233, 32], [235, 32]],\n",
              " '[235, 280]': [[234, 280], [236, 280]],\n",
              " '[235, 32]': [[234, 32], [236, 32]],\n",
              " '[236, 280]': [[235, 280], [237, 280]],\n",
              " '[236, 32]': [[235, 32], [237, 32]],\n",
              " '[237, 280]': [[236, 280], [238, 280]],\n",
              " '[237, 32]': [[236, 32], [238, 32]],\n",
              " '[238, 280]': [[237, 280], [239, 280]],\n",
              " '[238, 32]': [[237, 32], [239, 32]],\n",
              " '[239, 280]': [[238, 280], [240, 280]],\n",
              " '[239, 32]': [[238, 32], [240, 32]],\n",
              " '[240, 280]': [[239, 280], [241, 280]],\n",
              " '[240, 32]': [[239, 32], [241, 32]],\n",
              " '[241, 280]': [[240, 280], [242, 280]],\n",
              " '[241, 32]': [[240, 32], [242, 32]],\n",
              " '[242, 280]': [[241, 280], [243, 280]],\n",
              " '[242, 32]': [[241, 32], [243, 32]],\n",
              " '[243, 280]': [[242, 280], [244, 280]],\n",
              " '[243, 32]': [[242, 32], [244, 32]],\n",
              " '[244, 280]': [[243, 280], [245, 280]],\n",
              " '[244, 32]': [[243, 32], [245, 32]],\n",
              " '[245, 280]': [[244, 280], [246, 280]],\n",
              " '[245, 32]': [[244, 32], [246, 32]],\n",
              " '[246, 280]': [[245, 280], [247, 279]],\n",
              " '[246, 32]': [[245, 32], [247, 33]],\n",
              " '[247, 279]': [[246, 280], [248, 279]],\n",
              " '[247, 33]': [[246, 32], [248, 33]],\n",
              " '[248, 279]': [[247, 279], [249, 278]],\n",
              " '[248, 33]': [[247, 33], [249, 34]],\n",
              " '[249, 278]': [[248, 279], [250, 278]],\n",
              " '[249, 34]': [[248, 33], [250, 34]],\n",
              " '[250, 278]': [[249, 278], [251, 277]],\n",
              " '[250, 34]': [[249, 34], [251, 35]],\n",
              " '[251, 277]': [[250, 278], [252, 277]],\n",
              " '[251, 35]': [[250, 34], [252, 35]],\n",
              " '[252, 277]': [[251, 277], [253, 276]],\n",
              " '[252, 35]': [[251, 35], [253, 36]],\n",
              " '[253, 276]': [[252, 277], [254, 276]],\n",
              " '[253, 36]': [[252, 35], [254, 36]],\n",
              " '[254, 276]': [[253, 276], [255, 275]],\n",
              " '[254, 36]': [[253, 36], [255, 37]],\n",
              " '[255, 275]': [[254, 276], [256, 275]],\n",
              " '[255, 37]': [[254, 36], [256, 37]],\n",
              " '[256, 275]': [[255, 275], [257, 274]],\n",
              " '[256, 37]': [[255, 37], [257, 38]],\n",
              " '[257, 274]': [[256, 275], [258, 274]],\n",
              " '[257, 38]': [[256, 37], [258, 38]],\n",
              " '[258, 274]': [[257, 274], [259, 273]],\n",
              " '[258, 38]': [[257, 38], [259, 39]],\n",
              " '[259, 273]': [[258, 274], [260, 273]],\n",
              " '[259, 39]': [[258, 38], [260, 39]],\n",
              " '[260, 273]': [[259, 273], [261, 272]],\n",
              " '[260, 39]': [[259, 39], [261, 40]],\n",
              " '[261, 272]': [[260, 273], [262, 272]],\n",
              " '[261, 40]': [[260, 39], [262, 40]],\n",
              " '[262, 272]': [[261, 272], [263, 271]],\n",
              " '[262, 40]': [[261, 40], [263, 41]],\n",
              " '[263, 271]': [[262, 272], [264, 271]],\n",
              " '[263, 41]': [[262, 40], [264, 41]],\n",
              " '[264, 271]': [[263, 271], [265, 270]],\n",
              " '[264, 41]': [[263, 41], [265, 42]],\n",
              " '[265, 270]': [[264, 271], [266, 270]],\n",
              " '[265, 42]': [[264, 41], [266, 42]],\n",
              " '[266, 270]': [[265, 270], [267, 269]],\n",
              " '[266, 42]': [[265, 42], [267, 43]],\n",
              " '[267, 269]': [[266, 270], [268, 269]],\n",
              " '[267, 43]': [[266, 42], [268, 43]],\n",
              " '[268, 269]': [[267, 269], [269, 268]],\n",
              " '[268, 43]': [[267, 43], [269, 44]],\n",
              " '[269, 268]': [[268, 269], [270, 268]],\n",
              " '[269, 44]': [[268, 43], [270, 44]],\n",
              " '[270, 268]': [[269, 268], [271, 267]],\n",
              " '[270, 44]': [[269, 44], [271, 45]],\n",
              " '[271, 266]': [[271, 267], [272, 265]],\n",
              " '[271, 267]': [[270, 268], [271, 266]],\n",
              " '[271, 45]': [[270, 44], [272, 45]],\n",
              " '[272, 264]': [[272, 265], [273, 263]],\n",
              " '[272, 265]': [[271, 266], [272, 264]],\n",
              " '[272, 45]': [[271, 45], [273, 46]],\n",
              " '[273, 262]': [[273, 263], [274, 261]],\n",
              " '[273, 263]': [[272, 264], [273, 262]],\n",
              " '[273, 46]': [[272, 45], [274, 47]],\n",
              " '[274, 260]': [[274, 261], [275, 259]],\n",
              " '[274, 261]': [[273, 262], [274, 260]],\n",
              " '[274, 47]': [[273, 46], [274, 48]],\n",
              " '[274, 48]': [[274, 47], [275, 49]],\n",
              " '[275, 258]': [[275, 259], [276, 257]],\n",
              " '[275, 259]': [[274, 260], [275, 258]],\n",
              " '[275, 49]': [[274, 48], [275, 50]],\n",
              " '[275, 50]': [[275, 49], [276, 51]],\n",
              " '[276, 256]': [[276, 257], [277, 255]],\n",
              " '[276, 257]': [[275, 258], [276, 256]],\n",
              " '[276, 51]': [[275, 50], [276, 52]],\n",
              " '[276, 52]': [[276, 51], [277, 53]],\n",
              " '[277, 254]': [[277, 255], [278, 253]],\n",
              " '[277, 255]': [[276, 256], [277, 254]],\n",
              " '[277, 53]': [[276, 52], [277, 54]],\n",
              " '[277, 54]': [[277, 53], [278, 55]],\n",
              " '[278, 252]': [[278, 253], [279, 251]],\n",
              " '[278, 253]': [[277, 254], [278, 252]],\n",
              " '[278, 55]': [[277, 54], [278, 56]],\n",
              " '[278, 56]': [[278, 55], [279, 57]],\n",
              " '[279, 100]': [[279, 99], [279, 101]],\n",
              " '[279, 101]': [[279, 100], [279, 102]],\n",
              " '[279, 102]': [[279, 101], [279, 103]],\n",
              " '[279, 103]': [[279, 102], [279, 104]],\n",
              " '[279, 104]': [[279, 103], [279, 105]],\n",
              " '[279, 105]': [[279, 104], [279, 106]],\n",
              " '[279, 106]': [[279, 105], [279, 107]],\n",
              " '[279, 107]': [[279, 106], [279, 108]],\n",
              " '[279, 108]': [[279, 107], [279, 109]],\n",
              " '[279, 109]': [[279, 108], [279, 110]],\n",
              " '[279, 110]': [[279, 109], [279, 111]],\n",
              " '[279, 111]': [[279, 110], [279, 112]],\n",
              " '[279, 112]': [[279, 111], [279, 113]],\n",
              " '[279, 113]': [[279, 112], [279, 114]],\n",
              " '[279, 114]': [[279, 113], [279, 115]],\n",
              " '[279, 115]': [[279, 114], [279, 116]],\n",
              " '[279, 116]': [[279, 115], [279, 117]],\n",
              " '[279, 117]': [[279, 116], [279, 118]],\n",
              " '[279, 118]': [[279, 117], [279, 119]],\n",
              " '[279, 119]': [[279, 118], [279, 120]],\n",
              " '[279, 120]': [[279, 119], [279, 121]],\n",
              " '[279, 121]': [[279, 120], [279, 122]],\n",
              " '[279, 122]': [[279, 121], [279, 123]],\n",
              " '[279, 123]': [[279, 122], [279, 124]],\n",
              " '[279, 124]': [[279, 123], [279, 125]],\n",
              " '[279, 125]': [[279, 124], [279, 126]],\n",
              " '[279, 126]': [[279, 125], [279, 127]],\n",
              " '[279, 127]': [[279, 126], [279, 128]],\n",
              " '[279, 128]': [[279, 127], [279, 129]],\n",
              " '[279, 129]': [[279, 128], [279, 130]],\n",
              " '[279, 130]': [[279, 129], [279, 131]],\n",
              " '[279, 131]': [[279, 130], [279, 132]],\n",
              " '[279, 132]': [[279, 131], [279, 133]],\n",
              " '[279, 133]': [[279, 132], [279, 134]],\n",
              " '[279, 134]': [[279, 133], [279, 135]],\n",
              " '[279, 135]': [[279, 134], [279, 136]],\n",
              " '[279, 136]': [[279, 135], [279, 137]],\n",
              " '[279, 137]': [[279, 136], [279, 138]],\n",
              " '[279, 138]': [[279, 137], [279, 139]],\n",
              " '[279, 139]': [[279, 138], [279, 140]],\n",
              " '[279, 140]': [[279, 139], [279, 141]],\n",
              " '[279, 141]': [[279, 140], [279, 142]],\n",
              " '[279, 142]': [[279, 141], [279, 143]],\n",
              " '[279, 143]': [[279, 142], [279, 144]],\n",
              " '[279, 144]': [[279, 143], [279, 145]],\n",
              " '[279, 145]': [[279, 144], [279, 146]],\n",
              " '[279, 146]': [[279, 145], [279, 147]],\n",
              " '[279, 147]': [[279, 146], [279, 148]],\n",
              " '[279, 148]': [[279, 147], [279, 149]],\n",
              " '[279, 149]': [[279, 148], [279, 150]],\n",
              " '[279, 150]': [[279, 149], [279, 151]],\n",
              " '[279, 151]': [[279, 150], [279, 152]],\n",
              " '[279, 152]': [[279, 151], [279, 153]],\n",
              " '[279, 153]': [[279, 152], [279, 154]],\n",
              " '[279, 154]': [[279, 153], [279, 155]],\n",
              " '[279, 155]': [[279, 154], [279, 156]],\n",
              " '[279, 156]': [[279, 155], [279, 157]],\n",
              " '[279, 157]': [[279, 156], [279, 158]],\n",
              " '[279, 158]': [[279, 157], [279, 159]],\n",
              " '[279, 159]': [[279, 158], [279, 160]],\n",
              " '[279, 160]': [[279, 159], [279, 161]],\n",
              " '[279, 161]': [[279, 160], [279, 162]],\n",
              " '[279, 162]': [[279, 161], [279, 163]],\n",
              " '[279, 163]': [[279, 162], [279, 164]],\n",
              " '[279, 164]': [[279, 163], [279, 165]],\n",
              " '[279, 165]': [[279, 164], [279, 166]],\n",
              " '[279, 166]': [[279, 165], [279, 167]],\n",
              " '[279, 167]': [[279, 166], [279, 168]],\n",
              " '[279, 168]': [[279, 167], [279, 169]],\n",
              " '[279, 169]': [[279, 168], [279, 170]],\n",
              " '[279, 170]': [[279, 169], [279, 171]],\n",
              " '[279, 171]': [[279, 170], [279, 172]],\n",
              " '[279, 172]': [[279, 171], [279, 173]],\n",
              " '[279, 173]': [[279, 172], [279, 174]],\n",
              " '[279, 174]': [[279, 173], [279, 175]],\n",
              " '[279, 175]': [[279, 174], [279, 176]],\n",
              " '[279, 176]': [[279, 175], [279, 177]],\n",
              " '[279, 177]': [[279, 176], [279, 178]],\n",
              " '[279, 178]': [[279, 177], [279, 179]],\n",
              " '[279, 179]': [[279, 178], [279, 180]],\n",
              " '[279, 180]': [[279, 179], [279, 181]],\n",
              " '[279, 181]': [[279, 180], [279, 182]],\n",
              " '[279, 182]': [[279, 181], [279, 183]],\n",
              " '[279, 183]': [[279, 182], [279, 184]],\n",
              " '[279, 184]': [[279, 183], [279, 185]],\n",
              " '[279, 185]': [[279, 184], [279, 186]],\n",
              " '[279, 186]': [[279, 185], [279, 187]],\n",
              " '[279, 187]': [[279, 186], [279, 188]],\n",
              " '[279, 188]': [[279, 187], [279, 189]],\n",
              " '[279, 189]': [[279, 188], [279, 190]],\n",
              " '[279, 190]': [[279, 189], [279, 191]],\n",
              " '[279, 191]': [[279, 190], [279, 192]],\n",
              " '[279, 192]': [[279, 191], [279, 193]],\n",
              " '[279, 193]': [[279, 192], [279, 194]],\n",
              " '[279, 194]': [[279, 193], [279, 195]],\n",
              " '[279, 195]': [[279, 194], [279, 196]],\n",
              " '[279, 196]': [[279, 195], [279, 197]],\n",
              " '[279, 197]': [[279, 196], [279, 198]],\n",
              " '[279, 198]': [[279, 197], [279, 199]],\n",
              " '[279, 199]': [[279, 198], [279, 200]],\n",
              " '[279, 200]': [[279, 199], [279, 201]],\n",
              " '[279, 201]': [[279, 200], [279, 202]],\n",
              " '[279, 202]': [[279, 201], [279, 203]],\n",
              " '[279, 203]': [[279, 202], [279, 204]],\n",
              " '[279, 204]': [[279, 203], [279, 205]],\n",
              " '[279, 205]': [[279, 204], [279, 206]],\n",
              " '[279, 206]': [[279, 205], [279, 207]],\n",
              " '[279, 207]': [[279, 206], [279, 208]],\n",
              " '[279, 208]': [[279, 207], [279, 209]],\n",
              " '[279, 209]': [[279, 208], [279, 210]],\n",
              " '[279, 210]': [[279, 209], [279, 211]],\n",
              " '[279, 211]': [[279, 210], [279, 212]],\n",
              " '[279, 212]': [[279, 211], [279, 213]],\n",
              " '[279, 213]': [[279, 212], [279, 214]],\n",
              " '[279, 214]': [[279, 213], [279, 215]],\n",
              " '[279, 215]': [[279, 214], [279, 216]],\n",
              " '[279, 216]': [[279, 215], [279, 217]],\n",
              " '[279, 217]': [[279, 216], [279, 218]],\n",
              " '[279, 218]': [[279, 217], [279, 219]],\n",
              " '[279, 219]': [[279, 218], [279, 220]],\n",
              " '[279, 220]': [[279, 219], [279, 221]],\n",
              " '[279, 221]': [[279, 220], [279, 222]],\n",
              " '[279, 222]': [[279, 221], [279, 223]],\n",
              " '[279, 223]': [[279, 222], [279, 224]],\n",
              " '[279, 224]': [[279, 223], [279, 225]],\n",
              " '[279, 225]': [[279, 224], [279, 226]],\n",
              " '[279, 226]': [[279, 225], [279, 227]],\n",
              " '[279, 227]': [[279, 226], [279, 228]],\n",
              " '[279, 228]': [[279, 227], [279, 229]],\n",
              " '[279, 229]': [[279, 228], [279, 230]],\n",
              " '[279, 230]': [[279, 229], [279, 231]],\n",
              " '[279, 231]': [[279, 230], [279, 232]],\n",
              " '[279, 232]': [[279, 231], [279, 233]],\n",
              " '[279, 233]': [[279, 232], [279, 234]],\n",
              " '[279, 234]': [[279, 233], [279, 235]],\n",
              " '[279, 235]': [[279, 234], [279, 236]],\n",
              " '[279, 236]': [[279, 235], [279, 237]],\n",
              " '[279, 237]': [[279, 236], [279, 238]],\n",
              " '[279, 238]': [[279, 237], [279, 239]],\n",
              " '[279, 239]': [[279, 238], [279, 240]],\n",
              " '[279, 240]': [[279, 239], [279, 241]],\n",
              " '[279, 241]': [[279, 240], [279, 242]],\n",
              " '[279, 242]': [[279, 241], [279, 243]],\n",
              " '[279, 243]': [[279, 242], [279, 244]],\n",
              " '[279, 244]': [[279, 243], [279, 245]],\n",
              " '[279, 245]': [[279, 244], [279, 246]],\n",
              " '[279, 246]': [[279, 245], [279, 247]],\n",
              " '[279, 247]': [[279, 246], [279, 248]],\n",
              " '[279, 248]': [[279, 247], [279, 249]],\n",
              " '[279, 249]': [[279, 248], [279, 250]],\n",
              " '[279, 250]': [[279, 249], [279, 251]],\n",
              " '[279, 251]': [[278, 252], [279, 250]],\n",
              " '[279, 57]': [[278, 56], [279, 58]],\n",
              " '[279, 58]': [[279, 57], [279, 59]],\n",
              " '[279, 59]': [[279, 58], [279, 60]],\n",
              " '[279, 60]': [[279, 59], [279, 61]],\n",
              " '[279, 61]': [[279, 60], [279, 62]],\n",
              " '[279, 62]': [[279, 61], [279, 63]],\n",
              " '[279, 63]': [[279, 62], [279, 64]],\n",
              " '[279, 64]': [[279, 63], [279, 65]],\n",
              " '[279, 65]': [[279, 64], [279, 66]],\n",
              " '[279, 66]': [[279, 65], [279, 67]],\n",
              " '[279, 67]': [[279, 66], [279, 68]],\n",
              " '[279, 68]': [[279, 67], [279, 69]],\n",
              " '[279, 69]': [[279, 68], [279, 70]],\n",
              " '[279, 70]': [[279, 69], [279, 71]],\n",
              " '[279, 71]': [[279, 70], [279, 72]],\n",
              " '[279, 72]': [[279, 71], [279, 73]],\n",
              " '[279, 73]': [[279, 72], [279, 74]],\n",
              " '[279, 74]': [[279, 73], [279, 75]],\n",
              " '[279, 75]': [[279, 74], [279, 76]],\n",
              " '[279, 76]': [[279, 75], [279, 77]],\n",
              " '[279, 77]': [[279, 76], [279, 78]],\n",
              " '[279, 78]': [[279, 77], [279, 79]],\n",
              " '[279, 79]': [[279, 78], [279, 80]],\n",
              " '[279, 80]': [[279, 79], [279, 81]],\n",
              " '[279, 81]': [[279, 80], [279, 82]],\n",
              " '[279, 82]': [[279, 81], [279, 83]],\n",
              " '[279, 83]': [[279, 82], [279, 84]],\n",
              " '[279, 84]': [[279, 83], [279, 85]],\n",
              " '[279, 85]': [[279, 84], [279, 86]],\n",
              " '[279, 86]': [[279, 85], [279, 87]],\n",
              " '[279, 87]': [[279, 86], [279, 88]],\n",
              " '[279, 88]': [[279, 87], [279, 89]],\n",
              " '[279, 89]': [[279, 88], [279, 90]],\n",
              " '[279, 90]': [[279, 89], [279, 91]],\n",
              " '[279, 91]': [[279, 90], [279, 92]],\n",
              " '[279, 92]': [[279, 91], [279, 93]],\n",
              " '[279, 93]': [[279, 92], [279, 94]],\n",
              " '[279, 94]': [[279, 93], [279, 95]],\n",
              " '[279, 95]': [[279, 94], [279, 96]],\n",
              " '[279, 96]': [[279, 95], [279, 97]],\n",
              " '[279, 97]': [[279, 96], [279, 98]],\n",
              " '[279, 98]': [[279, 97], [279, 99]],\n",
              " '[279, 99]': [[279, 98], [279, 100]],\n",
              " '[38, 100]': [[38, 99], [38, 101]],\n",
              " '[38, 101]': [[38, 100], [38, 102]],\n",
              " '[38, 102]': [[38, 101], [38, 103]],\n",
              " '[38, 103]': [[38, 102], [38, 104]],\n",
              " '[38, 104]': [[38, 103], [38, 105]],\n",
              " '[38, 105]': [[38, 104], [38, 106]],\n",
              " '[38, 106]': [[38, 105], [38, 107]],\n",
              " '[38, 107]': [[38, 106], [38, 108]],\n",
              " '[38, 108]': [[38, 107], [38, 109]],\n",
              " '[38, 109]': [[38, 108], [38, 110]],\n",
              " '[38, 110]': [[38, 109], [38, 111]],\n",
              " '[38, 111]': [[38, 110], [38, 112]],\n",
              " '[38, 112]': [[38, 111], [38, 113]],\n",
              " '[38, 113]': [[38, 112], [38, 114]],\n",
              " '[38, 114]': [[38, 113], [38, 115]],\n",
              " '[38, 115]': [[38, 114], [38, 116]],\n",
              " '[38, 116]': [[38, 115], [38, 117]],\n",
              " '[38, 117]': [[38, 116], [38, 118]],\n",
              " '[38, 118]': [[38, 117], [38, 119]],\n",
              " '[38, 119]': [[38, 118], [38, 120]],\n",
              " '[38, 120]': [[38, 119], [38, 121]],\n",
              " '[38, 121]': [[38, 120], [38, 122]],\n",
              " '[38, 122]': [[38, 121], [38, 123]],\n",
              " '[38, 123]': [[38, 122], [38, 124]],\n",
              " '[38, 124]': [[38, 123], [38, 125]],\n",
              " '[38, 125]': [[38, 124], [38, 126]],\n",
              " '[38, 126]': [[38, 125], [38, 127]],\n",
              " '[38, 127]': [[38, 126], [38, 128]],\n",
              " '[38, 128]': [[38, 127], [38, 129]],\n",
              " '[38, 129]': [[38, 128], [38, 130]],\n",
              " '[38, 130]': [[38, 129], [38, 131]],\n",
              " '[38, 131]': [[38, 130], [38, 132]],\n",
              " '[38, 132]': [[38, 131], [38, 133]],\n",
              " '[38, 133]': [[38, 132], [38, 134]],\n",
              " '[38, 134]': [[38, 133], [38, 135]],\n",
              " '[38, 135]': [[38, 134], [38, 136]],\n",
              " '[38, 136]': [[38, 135], [38, 137]],\n",
              " '[38, 137]': [[38, 136], [38, 138]],\n",
              " '[38, 138]': [[38, 137], [38, 139]],\n",
              " '[38, 139]': [[38, 138], [38, 140]],\n",
              " '[38, 140]': [[38, 139], [38, 141]],\n",
              " '[38, 141]': [[38, 140], [38, 142]],\n",
              " '[38, 142]': [[38, 141], [38, 143]],\n",
              " '[38, 143]': [[38, 142], [38, 144]],\n",
              " '[38, 144]': [[38, 143], [38, 145]],\n",
              " '[38, 145]': [[38, 144], [38, 146]],\n",
              " '[38, 146]': [[38, 145], [38, 147]],\n",
              " '[38, 147]': [[38, 146], [38, 148]],\n",
              " '[38, 148]': [[38, 147], [38, 149]],\n",
              " '[38, 149]': [[38, 148], [38, 150]],\n",
              " '[38, 150]': [[38, 149], [38, 151]],\n",
              " '[38, 151]': [[38, 150], [38, 152]],\n",
              " '[38, 152]': [[38, 151], [38, 153]],\n",
              " '[38, 153]': [[38, 152], [38, 154]],\n",
              " '[38, 154]': [[38, 153], [38, 155]],\n",
              " '[38, 155]': [[38, 154], [38, 156]],\n",
              " '[38, 156]': [[38, 155], [38, 157]],\n",
              " '[38, 157]': [[38, 156], [38, 158]],\n",
              " '[38, 158]': [[38, 157], [38, 159]],\n",
              " '[38, 159]': [[38, 158], [38, 160]],\n",
              " '[38, 160]': [[38, 159], [38, 161]],\n",
              " '[38, 161]': [[38, 160], [38, 162]],\n",
              " '[38, 162]': [[38, 161], [38, 163]],\n",
              " '[38, 163]': [[38, 162], [38, 164]],\n",
              " '[38, 164]': [[38, 163], [38, 165]],\n",
              " '[38, 165]': [[38, 164], [38, 166]],\n",
              " '[38, 166]': [[38, 165], [38, 167]],\n",
              " '[38, 167]': [[38, 166], [38, 168]],\n",
              " '[38, 168]': [[38, 167], [38, 169]],\n",
              " '[38, 169]': [[38, 168], [38, 170]],\n",
              " '[38, 170]': [[38, 169], [38, 171]],\n",
              " '[38, 171]': [[38, 170], [38, 172]],\n",
              " '[38, 172]': [[38, 171], [38, 173]],\n",
              " '[38, 173]': [[38, 172], [38, 174]],\n",
              " '[38, 174]': [[38, 173], [38, 175]],\n",
              " '[38, 175]': [[38, 174], [38, 176]],\n",
              " '[38, 176]': [[38, 175], [38, 177]],\n",
              " '[38, 177]': [[38, 176], [38, 178]],\n",
              " '[38, 178]': [[38, 177], [38, 179]],\n",
              " '[38, 179]': [[38, 178], [38, 180]],\n",
              " '[38, 180]': [[38, 179], [38, 181]],\n",
              " '[38, 181]': [[38, 180], [38, 182]],\n",
              " '[38, 182]': [[38, 181], [38, 183]],\n",
              " '[38, 183]': [[38, 182], [38, 184]],\n",
              " '[38, 184]': [[38, 183], [38, 185]],\n",
              " '[38, 185]': [[38, 184], [38, 186]],\n",
              " '[38, 186]': [[38, 185], [38, 187]],\n",
              " '[38, 187]': [[38, 186], [38, 188]],\n",
              " '[38, 188]': [[38, 187], [38, 189]],\n",
              " '[38, 189]': [[38, 188], [38, 190]],\n",
              " '[38, 190]': [[38, 189], [38, 191]],\n",
              " '[38, 191]': [[38, 190], [38, 192]],\n",
              " '[38, 192]': [[38, 191], [38, 193]],\n",
              " '[38, 193]': [[38, 192], [38, 194]],\n",
              " '[38, 194]': [[38, 193], [38, 195]],\n",
              " '[38, 195]': [[38, 194], [38, 196]],\n",
              " '[38, 196]': [[38, 195], [38, 197]],\n",
              " '[38, 197]': [[38, 196], [38, 198]],\n",
              " '[38, 198]': [[38, 197], [38, 199]],\n",
              " '[38, 199]': [[38, 198], [38, 200]],\n",
              " '[38, 200]': [[38, 199], [38, 201]],\n",
              " '[38, 201]': [[38, 200], [38, 202]],\n",
              " '[38, 202]': [[38, 201], [38, 203]],\n",
              " '[38, 203]': [[38, 202], [38, 204]],\n",
              " '[38, 204]': [[38, 203], [38, 205]],\n",
              " '[38, 205]': [[38, 204], [38, 206]],\n",
              " '[38, 206]': [[38, 205], [38, 207]],\n",
              " '[38, 207]': [[38, 206], [38, 208]],\n",
              " '[38, 208]': [[38, 207], [38, 209]],\n",
              " '[38, 209]': [[38, 208], [38, 210]],\n",
              " '[38, 210]': [[38, 209], [38, 211]],\n",
              " '[38, 211]': [[38, 210], [38, 212]],\n",
              " '[38, 212]': [[38, 211], [38, 213]],\n",
              " '[38, 213]': [[38, 212], [38, 214]],\n",
              " '[38, 214]': [[38, 213], [38, 215]],\n",
              " '[38, 215]': [[38, 214], [38, 216]],\n",
              " '[38, 216]': [[38, 215], [38, 217]],\n",
              " '[38, 217]': [[38, 216], [38, 218]],\n",
              " '[38, 218]': [[38, 217], [38, 219]],\n",
              " '[38, 219]': [[38, 218], [38, 220]],\n",
              " '[38, 220]': [[38, 219], [38, 221]],\n",
              " '[38, 221]': [[38, 220], [38, 222]],\n",
              " '[38, 222]': [[38, 221], [38, 223]],\n",
              " '[38, 223]': [[38, 222], [38, 224]],\n",
              " '[38, 224]': [[38, 223], [38, 225]],\n",
              " '[38, 225]': [[38, 224], [38, 226]],\n",
              " '[38, 226]': [[38, 225], [38, 227]],\n",
              " '[38, 227]': [[38, 226], [38, 228]],\n",
              " '[38, 228]': [[38, 227], [38, 229]],\n",
              " '[38, 229]': [[38, 228], [38, 230]],\n",
              " '[38, 230]': [[38, 229], [38, 231]],\n",
              " '[38, 231]': [[38, 230], [38, 232]],\n",
              " '[38, 232]': [[38, 231], [38, 233]],\n",
              " '[38, 233]': [[38, 232], [38, 234]],\n",
              " '[38, 234]': [[38, 233], [38, 235]],\n",
              " '[38, 235]': [[38, 234], [38, 236]],\n",
              " '[38, 236]': [[38, 235], [38, 237]],\n",
              " '[38, 237]': [[38, 236], [38, 238]],\n",
              " '[38, 238]': [[38, 237], [38, 239]],\n",
              " '[38, 239]': [[38, 238], [38, 240]],\n",
              " '[38, 240]': [[38, 239], [38, 241]],\n",
              " '[38, 241]': [[38, 240], [38, 242]],\n",
              " '[38, 242]': [[38, 241], [38, 243]],\n",
              " '[38, 243]': [[38, 242], [38, 244]],\n",
              " '[38, 244]': [[38, 243], [38, 245]],\n",
              " '[38, 245]': [[38, 244], [38, 246]],\n",
              " '[38, 246]': [[38, 245], [38, 247]],\n",
              " '[38, 247]': [[38, 246], [38, 248]],\n",
              " '[38, 248]': [[38, 247], [38, 249]],\n",
              " '[38, 249]': [[38, 248], [38, 250]],\n",
              " '[38, 250]': [[38, 249], [38, 251]],\n",
              " '[38, 251]': [[38, 250], [39, 252]],\n",
              " '[38, 56]': [[38, 57], [39, 55]],\n",
              " '[38, 57]': [[38, 56], [38, 58]],\n",
              " '[38, 58]': [[38, 57], [38, 59]],\n",
              " '[38, 59]': [[38, 58], [38, 60]],\n",
              " '[38, 60]': [[38, 59], [38, 61]],\n",
              " '[38, 61]': [[38, 60], [38, 62]],\n",
              " '[38, 62]': [[38, 61], [38, 63]],\n",
              " '[38, 63]': [[38, 62], [38, 64]],\n",
              " '[38, 64]': [[38, 63], [38, 65]],\n",
              " '[38, 65]': [[38, 64], [38, 66]],\n",
              " '[38, 66]': [[38, 65], [38, 67]],\n",
              " '[38, 67]': [[38, 66], [38, 68]],\n",
              " '[38, 68]': [[38, 67], [38, 69]],\n",
              " '[38, 69]': [[38, 68], [38, 70]],\n",
              " '[38, 70]': [[38, 69], [38, 71]],\n",
              " '[38, 71]': [[38, 70], [38, 72]],\n",
              " '[38, 72]': [[38, 71], [38, 73]],\n",
              " '[38, 73]': [[38, 72], [38, 74]],\n",
              " '[38, 74]': [[38, 73], [38, 75]],\n",
              " '[38, 75]': [[38, 74], [38, 76]],\n",
              " '[38, 76]': [[38, 75], [38, 77]],\n",
              " '[38, 77]': [[38, 76], [38, 78]],\n",
              " '[38, 78]': [[38, 77], [38, 79]],\n",
              " '[38, 79]': [[38, 78], [38, 80]],\n",
              " '[38, 80]': [[38, 79], [38, 81]],\n",
              " '[38, 81]': [[38, 80], [38, 82]],\n",
              " '[38, 82]': [[38, 81], [38, 83]],\n",
              " '[38, 83]': [[38, 82], [38, 84]],\n",
              " '[38, 84]': [[38, 83], [38, 85]],\n",
              " '[38, 85]': [[38, 84], [38, 86]],\n",
              " '[38, 86]': [[38, 85], [38, 87]],\n",
              " '[38, 87]': [[38, 86], [38, 88]],\n",
              " '[38, 88]': [[38, 87], [38, 89]],\n",
              " '[38, 89]': [[38, 88], [38, 90]],\n",
              " '[38, 90]': [[38, 89], [38, 91]],\n",
              " '[38, 91]': [[38, 90], [38, 92]],\n",
              " '[38, 92]': [[38, 91], [38, 93]],\n",
              " '[38, 93]': [[38, 92], [38, 94]],\n",
              " '[38, 94]': [[38, 93], [38, 95]],\n",
              " '[38, 95]': [[38, 94], [38, 96]],\n",
              " '[38, 96]': [[38, 95], [38, 97]],\n",
              " '[38, 97]': [[38, 96], [38, 98]],\n",
              " '[38, 98]': [[38, 97], [38, 99]],\n",
              " '[38, 99]': [[38, 98], [38, 100]],\n",
              " '[39, 252]': [[38, 251], [39, 253]],\n",
              " '[39, 253]': [[39, 252], [40, 254]],\n",
              " '[39, 54]': [[39, 55], [40, 53]],\n",
              " '[39, 55]': [[38, 56], [39, 54]],\n",
              " '[40, 254]': [[39, 253], [40, 255]],\n",
              " '[40, 255]': [[40, 254], [41, 256]],\n",
              " '[40, 52]': [[40, 53], [41, 51]],\n",
              " '[40, 53]': [[39, 54], [40, 52]],\n",
              " '[41, 256]': [[40, 255], [41, 257]],\n",
              " '[41, 257]': [[41, 256], [42, 258]],\n",
              " '[41, 50]': [[41, 51], [42, 49]],\n",
              " '[41, 51]': [[40, 52], [41, 50]],\n",
              " '[42, 258]': [[41, 257], [42, 259]],\n",
              " '[42, 259]': [[42, 258], [43, 260]],\n",
              " '[42, 48]': [[42, 49], [43, 47]],\n",
              " '[42, 49]': [[41, 50], [42, 48]],\n",
              " '[43, 260]': [[42, 259], [43, 261]],\n",
              " '[43, 261]': [[43, 260], [44, 262]],\n",
              " '[43, 46]': [[43, 47], [44, 45]],\n",
              " '[43, 47]': [[42, 48], [43, 46]],\n",
              " '[44, 262]': [[43, 261], [44, 263]],\n",
              " '[44, 263]': [[44, 262], [45, 264]],\n",
              " '[44, 44]': [[44, 45], [45, 43]],\n",
              " '[44, 45]': [[43, 46], [44, 44]],\n",
              " '[45, 264]': [[44, 263], [45, 265]],\n",
              " '[45, 265]': [[45, 264], [46, 266]],\n",
              " '[45, 43]': [[44, 44], [46, 42]],\n",
              " '[46, 266]': [[45, 265], [46, 267]],\n",
              " '[46, 267]': [[46, 266], [47, 268]],\n",
              " '[46, 42]': [[45, 43], [47, 42]],\n",
              " '[47, 268]': [[46, 267], [47, 269]],\n",
              " '[47, 269]': [[47, 268], [48, 270]],\n",
              " '[47, 42]': [[46, 42], [48, 41]],\n",
              " '[48, 270]': [[47, 269], [49, 271]],\n",
              " '[48, 41]': [[47, 42], [49, 41]],\n",
              " '[49, 271]': [[48, 270], [50, 272]],\n",
              " '[49, 41]': [[48, 41], [50, 40]],\n",
              " '[50, 272]': [[49, 271], [51, 272]],\n",
              " '[50, 40]': [[49, 41], [51, 40]],\n",
              " '[51, 272]': [[50, 272], [52, 273]],\n",
              " '[51, 40]': [[50, 40], [52, 39]],\n",
              " '[52, 273]': [[51, 272], [53, 273]],\n",
              " '[52, 39]': [[51, 40], [53, 39]],\n",
              " '[53, 273]': [[52, 273], [54, 274]],\n",
              " '[53, 39]': [[52, 39], [54, 38]],\n",
              " '[54, 274]': [[53, 273], [55, 274]],\n",
              " '[54, 38]': [[53, 39], [55, 38]],\n",
              " '[55, 274]': [[54, 274], [56, 275]],\n",
              " '[55, 38]': [[54, 38], [56, 37]],\n",
              " '[56, 275]': [[55, 274], [57, 275]],\n",
              " '[56, 37]': [[55, 38], [57, 37]],\n",
              " '[57, 275]': [[56, 275], [58, 276]],\n",
              " '[57, 37]': [[56, 37], [58, 36]],\n",
              " '[58, 276]': [[57, 275], [59, 276]],\n",
              " '[58, 36]': [[57, 37], [59, 36]],\n",
              " '[59, 276]': [[58, 276], [60, 277]],\n",
              " '[59, 36]': [[58, 36], [60, 35]],\n",
              " '[60, 277]': [[59, 276], [61, 277]],\n",
              " '[60, 35]': [[59, 36], [61, 35]],\n",
              " '[61, 277]': [[60, 277], [62, 278]],\n",
              " '[61, 35]': [[60, 35], [62, 34]],\n",
              " '[62, 278]': [[61, 277], [63, 278]],\n",
              " '[62, 34]': [[61, 35], [63, 34]],\n",
              " '[63, 278]': [[62, 278], [64, 279]],\n",
              " '[63, 34]': [[62, 34], [64, 33]],\n",
              " '[64, 279]': [[63, 278], [65, 279]],\n",
              " '[64, 33]': [[63, 34], [65, 33]],\n",
              " '[65, 279]': [[64, 279], [66, 280]],\n",
              " '[65, 33]': [[64, 33], [66, 32]],\n",
              " '[66, 280]': [[65, 279], [67, 280]],\n",
              " '[66, 32]': [[65, 33], [67, 32]],\n",
              " '[67, 280]': [[66, 280], [68, 280]],\n",
              " '[67, 32]': [[66, 32], [68, 32]],\n",
              " '[68, 280]': [[67, 280], [69, 280]],\n",
              " '[68, 32]': [[67, 32], [69, 32]],\n",
              " '[69, 280]': [[68, 280], [70, 280]],\n",
              " '[69, 32]': [[68, 32], [70, 32]],\n",
              " '[70, 280]': [[69, 280], [71, 280]],\n",
              " '[70, 32]': [[69, 32], [71, 32]],\n",
              " '[71, 280]': [[70, 280], [72, 280]],\n",
              " '[71, 32]': [[70, 32], [72, 32]],\n",
              " '[72, 280]': [[71, 280], [73, 280]],\n",
              " '[72, 32]': [[71, 32], [73, 32]],\n",
              " '[73, 280]': [[72, 280], [74, 280]],\n",
              " '[73, 32]': [[72, 32], [74, 32]],\n",
              " '[74, 280]': [[73, 280], [75, 280]],\n",
              " '[74, 32]': [[73, 32], [75, 32]],\n",
              " '[75, 280]': [[74, 280], [76, 280]],\n",
              " '[75, 32]': [[74, 32], [76, 32]],\n",
              " '[76, 280]': [[75, 280], [77, 280]],\n",
              " '[76, 32]': [[75, 32], [77, 32]],\n",
              " '[77, 280]': [[76, 280], [78, 280]],\n",
              " '[77, 32]': [[76, 32], [78, 32]],\n",
              " '[78, 280]': [[77, 280], [79, 280]],\n",
              " '[78, 32]': [[77, 32], [79, 32]],\n",
              " '[79, 280]': [[78, 280], [80, 280]],\n",
              " '[79, 32]': [[78, 32], [80, 32]],\n",
              " '[80, 280]': [[79, 280], [81, 280]],\n",
              " '[80, 32]': [[79, 32], [81, 32]],\n",
              " '[81, 280]': [[80, 280], [82, 280]],\n",
              " '[81, 32]': [[80, 32], [82, 32]],\n",
              " '[82, 280]': [[81, 280], [83, 280]],\n",
              " '[82, 32]': [[81, 32], [83, 32]],\n",
              " '[83, 280]': [[82, 280], [84, 280]],\n",
              " '[83, 32]': [[82, 32], [84, 32]],\n",
              " '[84, 280]': [[83, 280], [85, 280]],\n",
              " '[84, 32]': [[83, 32], [85, 32]],\n",
              " '[85, 280]': [[84, 280], [86, 280]],\n",
              " '[85, 32]': [[84, 32], [86, 32]],\n",
              " '[86, 280]': [[85, 280], [87, 280]],\n",
              " '[86, 32]': [[85, 32], [87, 32]],\n",
              " '[87, 280]': [[86, 280], [88, 280]],\n",
              " '[87, 32]': [[86, 32], [88, 32]],\n",
              " '[88, 280]': [[87, 280], [89, 280]],\n",
              " '[88, 32]': [[87, 32], [89, 32]],\n",
              " '[89, 280]': [[88, 280], [90, 280]],\n",
              " '[89, 32]': [[88, 32], [90, 32]],\n",
              " '[90, 280]': [[89, 280], [91, 280]],\n",
              " '[90, 32]': [[89, 32], [91, 32]],\n",
              " '[91, 280]': [[90, 280], [92, 280]],\n",
              " '[91, 32]': [[90, 32], [92, 32]],\n",
              " '[92, 280]': [[91, 280], [93, 280]],\n",
              " '[92, 32]': [[91, 32], [93, 32]],\n",
              " '[93, 280]': [[92, 280], [94, 280]],\n",
              " '[93, 32]': [[92, 32], [94, 32]],\n",
              " '[94, 280]': [[93, 280], [95, 280]],\n",
              " '[94, 32]': [[93, 32], [95, 32]],\n",
              " '[95, 280]': [[94, 280], [96, 280]],\n",
              " '[95, 32]': [[94, 32], [96, 32]],\n",
              " '[96, 280]': [[95, 280], [97, 280]],\n",
              " '[96, 32]': [[95, 32], [97, 32]],\n",
              " '[97, 280]': [[96, 280], [98, 280]],\n",
              " '[97, 32]': [[96, 32], [98, 32]],\n",
              " '[98, 280]': [[97, 280], [99, 280]],\n",
              " '[98, 32]': [[97, 32], [99, 32]],\n",
              " '[99, 280]': [[98, 280], [100, 280]],\n",
              " '[99, 32]': [[98, 32], [100, 32]]}"
            ]
          },
          "metadata": {},
          "execution_count": 261
        }
      ]
    },
    {
      "cell_type": "code",
      "source": [
        "start = waypoints[0]\n",
        "next = tree[str(start)][0]\n",
        "prev = start\n",
        "seen = [prev, next]\n",
        "\n",
        "  "
      ],
      "metadata": {
        "id": "0uEjIZS-O8r7"
      },
      "execution_count": null,
      "outputs": []
    },
    {
      "cell_type": "code",
      "source": [
        "seen"
      ],
      "metadata": {
        "colab": {
          "base_uri": "https://localhost:8080/"
        },
        "id": "TfF1VltDQ6Wu",
        "outputId": "600dd138-4cb3-4aeb-d724-e5d9dde9377a"
      },
      "execution_count": null,
      "outputs": [
        {
          "output_type": "execute_result",
          "data": {
            "text/plain": [
              "[[38, 56], [38, 57]]"
            ]
          },
          "metadata": {},
          "execution_count": 102
        }
      ]
    },
    {
      "cell_type": "code",
      "source": [
        "len(waypoints)"
      ],
      "metadata": {
        "colab": {
          "base_uri": "https://localhost:8080/"
        },
        "id": "PhLAcL69TNRf",
        "outputId": "a7f7a527-8d78-48ab-df00-861a594287f3"
      },
      "execution_count": null,
      "outputs": [
        {
          "output_type": "execute_result",
          "data": {
            "text/plain": [
              "899"
            ]
          },
          "metadata": {},
          "execution_count": 108
        }
      ]
    },
    {
      "cell_type": "code",
      "source": [
        "start = waypoints[0]\n",
        "next = tree[str(start)][0]\n",
        "prev = start\n",
        "seen = [prev, next]\n",
        "while 1==1:\n",
        "  if not(tree[str(next)][0] in seen):\n",
        "    next = tree[str(next)][0]\n",
        "  elif not(tree[str(next)][1] in seen):\n",
        "    next = tree[str(next)][1]\n",
        "  else:\n",
        "    break\n",
        "  seen.append(next)\n",
        "print(len(seen))"
      ],
      "metadata": {
        "colab": {
          "base_uri": "https://localhost:8080/"
        },
        "id": "BZYhCqaIPQ5g",
        "outputId": "92145688-994b-4505-cb92-19d089a04aa2"
      },
      "execution_count": null,
      "outputs": [
        {
          "output_type": "stream",
          "name": "stdout",
          "text": [
            "899\n"
          ]
        }
      ]
    },
    {
      "cell_type": "code",
      "source": [
        "image = cv2.UMat.get(cv2.circle(world, (start[0],start[1]), radius=10,color=(0, 0, 255), thickness=-1))\n",
        "plt.imshow(image)"
      ],
      "metadata": {
        "colab": {
          "base_uri": "https://localhost:8080/"
        },
        "id": "wQp5xw47WTyj",
        "outputId": "c9365bf3-40fe-4289-8d34-348c2c743103"
      },
      "execution_count": null,
      "outputs": [
        {
          "output_type": "execute_result",
          "data": {
            "text/plain": [
              "<matplotlib.image.AxesImage at 0x7f33e80ae950>"
            ]
          },
          "metadata": {},
          "execution_count": 263
        },
        {
          "output_type": "display_data",
          "data": {
            "image/png": "[encoded data removed]",
            "text/plain": [
              "<Figure size 432x288 with 1 Axes>"
            ]
          },
          "metadata": {
            "needs_background": "light"
          }
        }
      ]
    },
    {
      "cell_type": "code",
      "source": [
        "seen[1][0]"
      ],
      "metadata": {
        "colab": {
          "base_uri": "https://localhost:8080/"
        },
        "id": "P6fTupgVYUwx",
        "outputId": "0b53b8b9-e6dc-4f74-fa6c-bdf5dd85c0c8"
      },
      "execution_count": null,
      "outputs": [
        {
          "output_type": "execute_result",
          "data": {
            "text/plain": [
              "38"
            ]
          },
          "metadata": {},
          "execution_count": 172
        }
      ]
    },
    {
      "cell_type": "code",
      "source": [
        "image = cv2.UMat.get(cv2.circle(world, (seen[0][0],seen[0][1]), radius=10,color=(0, 0, 255), thickness=-1))\n",
        "plt.figure()\n",
        "plt.imshow(image)\n",
        "plt.show()\n",
        "time.sleep(1)\n",
        "image = cv2.UMat.get(cv2.circle(world, (seen[200][0],seen[200][1]), radius=10,color=(0, 0, 255), thickness=-1))\n",
        "plt.figure().clear()\n",
        "plt.imshow(image)\n",
        "plt.show()"
      ],
      "metadata": {
        "colab": {
          "base_uri": "https://localhost:8080/"
        },
        "id": "HiiYcHcBZNRO",
        "outputId": "7fe53a7b-96b9-4e1c-abca-f73a62d009ab"
      },
      "execution_count": null,
      "outputs": [
        {
          "output_type": "display_data",
          "data": {
            "image/png": "[encoded data removed]",
            "text/plain": [
              "<Figure size 432x288 with 1 Axes>"
            ]
          },
          "metadata": {
            "needs_background": "light"
          }
        },
        {
          "output_type": "display_data",
          "data": {
            "image/png": "[encoded data removed]",
            "text/plain": [
              "<Figure size 432x288 with 1 Axes>"
            ]
          },
          "metadata": {
            "needs_background": "light"
          }
        }
      ]
    },
    {
      "cell_type": "code",
      "source": [
        "len(seen)"
      ],
      "metadata": {
        "colab": {
          "base_uri": "https://localhost:8080/"
        },
        "id": "VFIiy4o9jRpC",
        "outputId": "b97d4cec-be76-45d9-b822-54143cf3a80f"
      },
      "execution_count": null,
      "outputs": [
        {
          "output_type": "execute_result",
          "data": {
            "text/plain": [
              "899"
            ]
          },
          "metadata": {},
          "execution_count": 267
        }
      ]
    },
    {
      "cell_type": "code",
      "source": [
        "image.shape"
      ],
      "metadata": {
        "colab": {
          "base_uri": "https://localhost:8080/"
        },
        "id": "3UBdxfxHkk9g",
        "outputId": "d0c18f6f-e70b-49f1-9d8f-0a4b2306524a"
      },
      "execution_count": null,
      "outputs": [
        {
          "output_type": "execute_result",
          "data": {
            "text/plain": [
              "(322, 320)"
            ]
          },
          "metadata": {},
          "execution_count": 281
        }
      ]
    },
    {
      "cell_type": "code",
      "source": [
        "plt.figure()\n",
        "video = []\n",
        "for i in range(0,len(seen),10):\n",
        "  image = cv2.UMat.get(cv2.circle(world, (seen[i][0],seen[i][1]), radius=10,color=(0, 0, 255), thickness=-1))\n",
        "  plt.imshow(image,cmap='gray')\n",
        "  #plt.show()\n",
        "  plt.imsave('sample_data/'+str(i)+'.png',image,cmap='gray')\n",
        "  plt.clf()"
      ],
      "metadata": {
        "colab": {
          "base_uri": "https://localhost:8080/"
        },
        "id": "s5C180-8L4Yd",
        "outputId": "1700d6ec-e517-4cbf-c401-953aade2f915"
      },
      "execution_count": null,
      "outputs": [
        {
          "output_type": "display_data",
          "data": {
            "text/plain": [
              "<Figure size 432x288 with 0 Axes>"
            ]
          },
          "metadata": {}
        }
      ]
    },
    {
      "cell_type": "code",
      "source": [
        "!zip -r /content/sample_data.zip /content/sample_data"
      ],
      "metadata": {
        "colab": {
          "base_uri": "https://localhost:8080/"
        },
        "id": "F78MZsYQh8UC",
        "outputId": "8f7e2983-394f-44f0-95ab-9d0efe7c2895"
      },
      "execution_count": null,
      "outputs": [
        {
          "output_type": "stream",
          "name": "stdout",
          "text": [
            "  adding: content/sample_data/ (stored 0%)\n",
            "  adding: content/sample_data/README.md (deflated 42%)\n",
            "  adding: content/sample_data/anscombe.json (deflated 83%)\n",
            "  adding: content/sample_data/140.png (deflated 68%)\n",
            "  adding: content/sample_data/360.png (deflated 70%)\n",
            "  adding: content/sample_data/130.png (deflated 68%)\n",
            "  adding: content/sample_data/520.png (deflated 69%)\n",
            "  adding: content/sample_data/670.png (deflated 69%)\n",
            "  adding: content/sample_data/860.png (deflated 68%)\n",
            "  adding: content/sample_data/780.png (deflated 70%)\n",
            "  adding: content/sample_data/840.png (deflated 70%)\n",
            "  adding: content/sample_data/110.png (deflated 68%)\n",
            "  adding: content/sample_data/540.png (deflated 68%)\n",
            "  adding: content/sample_data/0.png (deflated 69%)\n",
            "  adding: content/sample_data/680.png (deflated 70%)\n",
            "  adding: content/sample_data/820.png (deflated 69%)\n",
            "  adding: content/sample_data/690.png (deflated 70%)\n",
            "  adding: content/sample_data/90.png (deflated 68%)\n",
            "  adding: content/sample_data/880.png (deflated 67%)\n",
            "  adding: content/sample_data/660.png (deflated 68%)\n",
            "  adding: content/sample_data/390.png (deflated 70%)\n",
            "  adding: content/sample_data/290.png (deflated 70%)\n",
            "  adding: content/sample_data/570.png (deflated 69%)\n",
            "  adding: content/sample_data/310.png (deflated 69%)\n",
            "  adding: content/sample_data/460.png (deflated 69%)\n",
            "  adding: content/sample_data/600.png (deflated 69%)\n",
            "  adding: content/sample_data/630.png (deflated 70%)\n",
            "  adding: content/sample_data/580.png (deflated 69%)\n",
            "  adding: content/sample_data/20.png (deflated 69%)\n",
            "  adding: content/sample_data/650.png (deflated 70%)\n",
            "  adding: content/sample_data/850.png (deflated 70%)\n",
            "  adding: content/sample_data/760.png (deflated 70%)\n",
            "  adding: content/sample_data/480.png (deflated 69%)\n",
            "  adding: content/sample_data/470.png (deflated 69%)\n",
            "  adding: content/sample_data/250.png (deflated 69%)\n",
            "  adding: content/sample_data/300.png (deflated 70%)\n",
            "  adding: content/sample_data/400.png (deflated 70%)\n",
            "  adding: content/sample_data/240.png (deflated 69%)\n",
            "  adding: content/sample_data/450.png (deflated 69%)\n",
            "  adding: content/sample_data/810.png (deflated 70%)\n",
            "  adding: content/sample_data/530.png (deflated 69%)\n",
            "  adding: content/sample_data/70.png (deflated 68%)\n",
            "  adding: content/sample_data/40.png (deflated 68%)\n",
            "  adding: content/sample_data/150.png (deflated 68%)\n",
            "  adding: content/sample_data/370.png (deflated 70%)\n",
            "  adding: content/sample_data/170.png (deflated 68%)\n",
            "  adding: content/sample_data/870.png (deflated 68%)\n",
            "  adding: content/sample_data/700.png (deflated 70%)\n",
            "  adding: content/sample_data/60.png (deflated 68%)\n",
            "  adding: content/sample_data/770.png (deflated 69%)\n",
            "  adding: content/sample_data/590.png (deflated 69%)\n",
            "  adding: content/sample_data/800.png (deflated 70%)\n",
            "  adding: content/sample_data/830.png (deflated 69%)\n",
            "  adding: content/sample_data/440.png (deflated 69%)\n",
            "  adding: content/sample_data/740.png (deflated 70%)\n",
            "  adding: content/sample_data/160.png (deflated 68%)\n",
            "  adding: content/sample_data/200.png (deflated 68%)\n",
            "  adding: content/sample_data/550.png (deflated 69%)\n",
            "  adding: content/sample_data/30.png (deflated 68%)\n",
            "  adding: content/sample_data/340.png (deflated 69%)\n",
            "  adding: content/sample_data/750.png (deflated 69%)\n",
            "  adding: content/sample_data/640.png (deflated 69%)\n",
            "  adding: content/sample_data/260.png (deflated 69%)\n",
            "  adding: content/sample_data/10.png (deflated 68%)\n",
            "  adding: content/sample_data/380.png (deflated 70%)\n",
            "  adding: content/sample_data/790.png (deflated 69%)\n",
            "  adding: content/sample_data/180.png (deflated 69%)\n",
            "  adding: content/sample_data/330.png (deflated 70%)\n",
            "  adding: content/sample_data/730.png (deflated 70%)\n",
            "  adding: content/sample_data/510.png (deflated 69%)\n",
            "  adding: content/sample_data/100.png (deflated 68%)\n",
            "  adding: content/sample_data/230.png (deflated 68%)\n",
            "  adding: content/sample_data/890.png (deflated 67%)\n",
            "  adding: content/sample_data/490.png (deflated 69%)\n",
            "  adding: content/sample_data/190.png (deflated 69%)\n",
            "  adding: content/sample_data/710.png (deflated 69%)\n",
            "  adding: content/sample_data/320.png (deflated 69%)\n",
            "  adding: content/sample_data/210.png (deflated 67%)\n",
            "  adding: content/sample_data/120.png (deflated 68%)\n",
            "  adding: content/sample_data/560.png (deflated 69%)\n",
            "  adding: content/sample_data/500.png (deflated 69%)\n",
            "  adding: content/sample_data/280.png (deflated 69%)\n",
            "  adding: content/sample_data/50.png (deflated 68%)\n",
            "  adding: content/sample_data/220.png (deflated 68%)\n",
            "  adding: content/sample_data/410.png (deflated 70%)\n",
            "  adding: content/sample_data/420.png (deflated 70%)\n",
            "  adding: content/sample_data/720.png (deflated 70%)\n",
            "  adding: content/sample_data/610.png (deflated 69%)\n",
            "  adding: content/sample_data/620.png (deflated 69%)\n",
            "  adding: content/sample_data/270.png (deflated 69%)\n",
            "  adding: content/sample_data/350.png (deflated 70%)\n",
            "  adding: content/sample_data/430.png (deflated 69%)\n",
            "  adding: content/sample_data/80.png (deflated 68%)\n",
            "  adding: content/sample_data/mnist_train_small.csv (deflated 88%)\n",
            "  adding: content/sample_data/california_housing_test.csv (deflated 76%)\n",
            "  adding: content/sample_data/california_housing_train.csv (deflated 79%)\n",
            "  adding: content/sample_data/mnist_test.csv (deflated 88%)\n"
          ]
        }
      ]
    },
    {
      "cell_type": "code",
      "source": [
        ""
      ],
      "metadata": {
        "id": "7ITA2r3LpEPr"
      },
      "execution_count": null,
      "outputs": []
    },
    {
      "cell_type": "markdown",
      "source": [
        "# World 2"
      ],
      "metadata": {
        "id": "4Q6eLdP-pEzn"
      }
    },
    {
      "cell_type": "code",
      "source": [
        "world = rgb2gray(cv2.imread('world5.png'))\n",
        "thresh = threshold_otsu(world)\n",
        "world = world > thresh\n",
        "world = 1 - world\n",
        "thinned = thin(world)\n",
        "skel = skeletonize(world)\n",
        "plt.imshow(thinned+world)"
      ],
      "metadata": {
        "colab": {
          "base_uri": "https://localhost:8080/",
          "height": 286
        },
        "outputId": "a04c1af9-18da-42fb-bd65-99f63e951be6",
        "id": "SFyue1QCpEzn"
      },
      "execution_count": null,
      "outputs": [
        {
          "output_type": "execute_result",
          "data": {
            "text/plain": [
              "<matplotlib.image.AxesImage at 0x7f33e7c40950>"
            ]
          },
          "metadata": {},
          "execution_count": 382
        },
        {
          "output_type": "display_data",
          "data": {
            "image/png": "[encoded data removed]",
            "text/plain": [
              "<Figure size 432x288 with 1 Axes>"
            ]
          },
          "metadata": {
            "needs_background": "light"
          }
        }
      ]
    },
    {
      "cell_type": "code",
      "source": [
        "waypoints = [];\n",
        "waypointsR = [];\n",
        "waypointsC = [];\n",
        "for i in range(thinned.shape[0]):\n",
        "  for j in range(thinned.shape[1]):\n",
        "    if thinned[i,j] == True:\n",
        "      waypoints.append([j,thinned.shape[0]-i])\n",
        "      waypointsR.append(j);\n",
        "      waypointsC.append(thinned.shape[0]-i);\n"
      ],
      "metadata": {
        "id": "FO5sHWZypEzo"
      },
      "execution_count": null,
      "outputs": []
    },
    {
      "cell_type": "code",
      "source": [
        "len(waypoints)"
      ],
      "metadata": {
        "colab": {
          "base_uri": "https://localhost:8080/"
        },
        "outputId": "0b634476-8de8-4686-cd0d-630ca758cc98",
        "id": "q38NhFf_pEzp"
      },
      "execution_count": null,
      "outputs": [
        {
          "output_type": "execute_result",
          "data": {
            "text/plain": [
              "1732"
            ]
          },
          "metadata": {},
          "execution_count": 413
        }
      ]
    },
    {
      "cell_type": "code",
      "source": [
        "plt.scatter(waypointsR,waypointsC)"
      ],
      "metadata": {
        "colab": {
          "base_uri": "https://localhost:8080/",
          "height": 282
        },
        "outputId": "9100758f-ed24-477d-e587-0c0f84e0c0d2",
        "id": "tzjhwh5ZpEzp"
      },
      "execution_count": null,
      "outputs": [
        {
          "output_type": "execute_result",
          "data": {
            "text/plain": [
              "<matplotlib.collections.PathCollection at 0x7f33e5eb7410>"
            ]
          },
          "metadata": {},
          "execution_count": 414
        },
        {
          "output_type": "display_data",
          "data": {
            "image/png": "[encoded data removed]",
            "text/plain": [
              "<Figure size 432x288 with 1 Axes>"
            ]
          },
          "metadata": {
            "needs_background": "light"
          }
        }
      ]
    },
    {
      "cell_type": "code",
      "source": [
        "start = waypoints[0]\n",
        "Currentloc = []\n",
        "tree = {}\n",
        "for i in range(len(waypoints)):\n",
        "  x = waypoints[i][0]\n",
        "  y = waypoints[i][1]\n",
        "  neighbours = []\n",
        "  for j in range(len(waypoints)):\n",
        "    x_new = waypoints[j][0]\n",
        "    y_new = waypoints[j][1]\n",
        "    #              left                        right                 \n",
        "    if ((x == x_new + 1) and (y == y_new)) or ((x == x_new -1) and (y == y_new)) or ((x == x_new) and (y == y_new +1)) or ((x == x_new) and (y == y_new - 1)) or ((x == x_new+1) and (y == y_new+1)) or ((x == x_new - 1) and (y == y_new - 1)) or ((x == x_new+1) and (y == y_new-1)) or ((x == x_new - 1) and (y == y_new + 1)):\n",
        "      neighbours.append(waypoints[j])\n",
        "      #print(neighbours)\n",
        "  tree[str(waypoints[i])]  = neighbours\n",
        "\n"
      ],
      "metadata": {
        "id": "wBEvCVnjpEzq"
      },
      "execution_count": null,
      "outputs": []
    },
    {
      "cell_type": "code",
      "source": [
        "tree"
      ],
      "metadata": {
        "colab": {
          "base_uri": "https://localhost:8080/"
        },
        "outputId": "8f63388a-1aee-48d8-b35d-521f684b2fcf",
        "id": "I1Fv0cyHpEzq"
      },
      "execution_count": null,
      "outputs": [
        {
          "output_type": "execute_result",
          "data": {
            "text/plain": [
              "{'[83, 508]': [[84, 508], [82, 507]],\n",
              " '[84, 508]': [[83, 508], [85, 508]],\n",
              " '[85, 508]': [[84, 508], [86, 508]],\n",
              " '[86, 508]': [[85, 508], [87, 508]],\n",
              " '[87, 508]': [[86, 508], [88, 508]],\n",
              " '[88, 508]': [[87, 508], [89, 508]],\n",
              " '[89, 508]': [[88, 508], [90, 508]],\n",
              " '[90, 508]': [[89, 508], [91, 508]],\n",
              " '[91, 508]': [[90, 508], [92, 508]],\n",
              " '[92, 508]': [[91, 508], [93, 508]],\n",
              " '[93, 508]': [[92, 508], [94, 508]],\n",
              " '[94, 508]': [[93, 508], [95, 508]],\n",
              " '[95, 508]': [[94, 508], [96, 508]],\n",
              " '[96, 508]': [[95, 508], [97, 508]],\n",
              " '[97, 508]': [[96, 508], [98, 508]],\n",
              " '[98, 508]': [[97, 508], [99, 508]],\n",
              " '[99, 508]': [[98, 508], [100, 508]],\n",
              " '[100, 508]': [[99, 508], [101, 508]],\n",
              " '[101, 508]': [[100, 508], [102, 508]],\n",
              " '[102, 508]': [[101, 508], [103, 508]],\n",
              " '[103, 508]': [[102, 508], [104, 508]],\n",
              " '[104, 508]': [[103, 508], [105, 508]],\n",
              " '[105, 508]': [[104, 508], [106, 508]],\n",
              " '[106, 508]': [[105, 508], [107, 508]],\n",
              " '[107, 508]': [[106, 508], [108, 508]],\n",
              " '[108, 508]': [[107, 508], [109, 508]],\n",
              " '[109, 508]': [[108, 508], [110, 508]],\n",
              " '[110, 508]': [[109, 508], [111, 508]],\n",
              " '[111, 508]': [[110, 508], [112, 508]],\n",
              " '[112, 508]': [[111, 508], [113, 508]],\n",
              " '[113, 508]': [[112, 508], [114, 508]],\n",
              " '[114, 508]': [[113, 508], [115, 508]],\n",
              " '[115, 508]': [[114, 508], [116, 508]],\n",
              " '[116, 508]': [[115, 508], [117, 508]],\n",
              " '[117, 508]': [[116, 508], [118, 508]],\n",
              " '[118, 508]': [[117, 508], [119, 508]],\n",
              " '[119, 508]': [[118, 508], [120, 508]],\n",
              " '[120, 508]': [[119, 508], [121, 508]],\n",
              " '[121, 508]': [[120, 508], [122, 508]],\n",
              " '[122, 508]': [[121, 508], [123, 508]],\n",
              " '[123, 508]': [[122, 508], [124, 508]],\n",
              " '[124, 508]': [[123, 508], [125, 508]],\n",
              " '[125, 508]': [[124, 508], [126, 508]],\n",
              " '[126, 508]': [[125, 508], [127, 508]],\n",
              " '[127, 508]': [[126, 508], [128, 508]],\n",
              " '[128, 508]': [[127, 508], [129, 508]],\n",
              " '[129, 508]': [[128, 508], [130, 508]],\n",
              " '[130, 508]': [[129, 508], [131, 508]],\n",
              " '[131, 508]': [[130, 508], [132, 508]],\n",
              " '[132, 508]': [[131, 508], [133, 508]],\n",
              " '[133, 508]': [[132, 508], [134, 508]],\n",
              " '[134, 508]': [[133, 508], [135, 508]],\n",
              " '[135, 508]': [[134, 508], [136, 508]],\n",
              " '[136, 508]': [[135, 508], [137, 508]],\n",
              " '[137, 508]': [[136, 508], [138, 508]],\n",
              " '[138, 508]': [[137, 508], [139, 508]],\n",
              " '[139, 508]': [[138, 508], [140, 508]],\n",
              " '[140, 508]': [[139, 508], [141, 508]],\n",
              " '[141, 508]': [[140, 508], [142, 508]],\n",
              " '[142, 508]': [[141, 508], [143, 508]],\n",
              " '[143, 508]': [[142, 508], [144, 508]],\n",
              " '[144, 508]': [[143, 508], [145, 508]],\n",
              " '[145, 508]': [[144, 508], [146, 508]],\n",
              " '[146, 508]': [[145, 508], [147, 508]],\n",
              " '[147, 508]': [[146, 508], [148, 508]],\n",
              " '[148, 508]': [[147, 508], [149, 508]],\n",
              " '[149, 508]': [[148, 508], [150, 508]],\n",
              " '[150, 508]': [[149, 508], [151, 508]],\n",
              " '[151, 508]': [[150, 508], [152, 508]],\n",
              " '[152, 508]': [[151, 508], [153, 508]],\n",
              " '[153, 508]': [[152, 508], [154, 508]],\n",
              " '[154, 508]': [[153, 508], [155, 508]],\n",
              " '[155, 508]': [[154, 508], [156, 508]],\n",
              " '[156, 508]': [[155, 508], [157, 508]],\n",
              " '[157, 508]': [[156, 508], [158, 508]],\n",
              " '[158, 508]': [[157, 508], [159, 508]],\n",
              " '[159, 508]': [[158, 508], [160, 508]],\n",
              " '[160, 508]': [[159, 508], [161, 508]],\n",
              " '[161, 508]': [[160, 508], [162, 508]],\n",
              " '[162, 508]': [[161, 508], [163, 508]],\n",
              " '[163, 508]': [[162, 508], [164, 508]],\n",
              " '[164, 508]': [[163, 508], [165, 508]],\n",
              " '[165, 508]': [[164, 508], [166, 508]],\n",
              " '[166, 508]': [[165, 508], [167, 508]],\n",
              " '[167, 508]': [[166, 508], [168, 508]],\n",
              " '[168, 508]': [[167, 508], [169, 508]],\n",
              " '[169, 508]': [[168, 508], [170, 508]],\n",
              " '[170, 508]': [[169, 508], [171, 508]],\n",
              " '[171, 508]': [[170, 508], [172, 508]],\n",
              " '[172, 508]': [[171, 508], [173, 508]],\n",
              " '[173, 508]': [[172, 508], [174, 508]],\n",
              " '[174, 508]': [[173, 508], [175, 508]],\n",
              " '[175, 508]': [[174, 508], [176, 508]],\n",
              " '[176, 508]': [[175, 508], [177, 508]],\n",
              " '[177, 508]': [[176, 508], [178, 508]],\n",
              " '[178, 508]': [[177, 508], [179, 508]],\n",
              " '[179, 508]': [[178, 508], [180, 508]],\n",
              " '[180, 508]': [[179, 508], [181, 508]],\n",
              " '[181, 508]': [[180, 508], [182, 508]],\n",
              " '[182, 508]': [[181, 508], [183, 508]],\n",
              " '[183, 508]': [[182, 508], [184, 507]],\n",
              " '[416, 508]': [[417, 508], [415, 507]],\n",
              " '[417, 508]': [[416, 508], [418, 508]],\n",
              " '[418, 508]': [[417, 508], [419, 508]],\n",
              " '[419, 508]': [[418, 508], [420, 508]],\n",
              " '[420, 508]': [[419, 508], [421, 508]],\n",
              " '[421, 508]': [[420, 508], [422, 508]],\n",
              " '[422, 508]': [[421, 508], [423, 508]],\n",
              " '[423, 508]': [[422, 508], [424, 508]],\n",
              " '[424, 508]': [[423, 508], [425, 508]],\n",
              " '[425, 508]': [[424, 508], [426, 508]],\n",
              " '[426, 508]': [[425, 508], [427, 508]],\n",
              " '[427, 508]': [[426, 508], [428, 508]],\n",
              " '[428, 508]': [[427, 508], [429, 508]],\n",
              " '[429, 508]': [[428, 508], [430, 508]],\n",
              " '[430, 508]': [[429, 508], [431, 508]],\n",
              " '[431, 508]': [[430, 508], [432, 508]],\n",
              " '[432, 508]': [[431, 508], [433, 508]],\n",
              " '[433, 508]': [[432, 508], [434, 508]],\n",
              " '[434, 508]': [[433, 508], [435, 508]],\n",
              " '[435, 508]': [[434, 508], [436, 508]],\n",
              " '[436, 508]': [[435, 508], [437, 508]],\n",
              " '[437, 508]': [[436, 508], [438, 508]],\n",
              " '[438, 508]': [[437, 508], [439, 508]],\n",
              " '[439, 508]': [[438, 508], [440, 508]],\n",
              " '[440, 508]': [[439, 508], [441, 508]],\n",
              " '[441, 508]': [[440, 508], [442, 508]],\n",
              " '[442, 508]': [[441, 508], [443, 508]],\n",
              " '[443, 508]': [[442, 508], [444, 508]],\n",
              " '[444, 508]': [[443, 508], [445, 508]],\n",
              " '[445, 508]': [[444, 508], [446, 508]],\n",
              " '[446, 508]': [[445, 508], [447, 508]],\n",
              " '[447, 508]': [[446, 508], [448, 508]],\n",
              " '[448, 508]': [[447, 508], [449, 508]],\n",
              " '[449, 508]': [[448, 508], [450, 508]],\n",
              " '[450, 508]': [[449, 508], [451, 508]],\n",
              " '[451, 508]': [[450, 508], [452, 508]],\n",
              " '[452, 508]': [[451, 508], [453, 508]],\n",
              " '[453, 508]': [[452, 508], [454, 508]],\n",
              " '[454, 508]': [[453, 508], [455, 508]],\n",
              " '[455, 508]': [[454, 508], [456, 508]],\n",
              " '[456, 508]': [[455, 508], [457, 508]],\n",
              " '[457, 508]': [[456, 508], [458, 508]],\n",
              " '[458, 508]': [[457, 508], [459, 508]],\n",
              " '[459, 508]': [[458, 508], [460, 508]],\n",
              " '[460, 508]': [[459, 508], [461, 508]],\n",
              " '[461, 508]': [[460, 508], [462, 508]],\n",
              " '[462, 508]': [[461, 508], [463, 508]],\n",
              " '[463, 508]': [[462, 508], [464, 508]],\n",
              " '[464, 508]': [[463, 508], [465, 508]],\n",
              " '[465, 508]': [[464, 508], [466, 508]],\n",
              " '[466, 508]': [[465, 508], [467, 508]],\n",
              " '[467, 508]': [[466, 508], [468, 508]],\n",
              " '[468, 508]': [[467, 508], [469, 508]],\n",
              " '[469, 508]': [[468, 508], [470, 508]],\n",
              " '[470, 508]': [[469, 508], [471, 508]],\n",
              " '[471, 508]': [[470, 508], [472, 508]],\n",
              " '[472, 508]': [[471, 508], [473, 508]],\n",
              " '[473, 508]': [[472, 508], [474, 508]],\n",
              " '[474, 508]': [[473, 508], [475, 508]],\n",
              " '[475, 508]': [[474, 508], [476, 508]],\n",
              " '[476, 508]': [[475, 508], [477, 508]],\n",
              " '[477, 508]': [[476, 508], [478, 508]],\n",
              " '[478, 508]': [[477, 508], [479, 508]],\n",
              " '[479, 508]': [[478, 508], [480, 508]],\n",
              " '[480, 508]': [[479, 508], [481, 508]],\n",
              " '[481, 508]': [[480, 508], [482, 508]],\n",
              " '[482, 508]': [[481, 508], [483, 508]],\n",
              " '[483, 508]': [[482, 508], [484, 508]],\n",
              " '[484, 508]': [[483, 508], [485, 508]],\n",
              " '[485, 508]': [[484, 508], [486, 508]],\n",
              " '[486, 508]': [[485, 508], [487, 508]],\n",
              " '[487, 508]': [[486, 508], [488, 508]],\n",
              " '[488, 508]': [[487, 508], [489, 508]],\n",
              " '[489, 508]': [[488, 508], [490, 508]],\n",
              " '[490, 508]': [[489, 508], [491, 508]],\n",
              " '[491, 508]': [[490, 508], [492, 508]],\n",
              " '[492, 508]': [[491, 508], [493, 508]],\n",
              " '[493, 508]': [[492, 508], [494, 508]],\n",
              " '[494, 508]': [[493, 508], [495, 508]],\n",
              " '[495, 508]': [[494, 508], [496, 508]],\n",
              " '[496, 508]': [[495, 508], [497, 508]],\n",
              " '[497, 508]': [[496, 508], [498, 508]],\n",
              " '[498, 508]': [[497, 508], [499, 508]],\n",
              " '[499, 508]': [[498, 508], [500, 507]],\n",
              " '[82, 507]': [[83, 508], [81, 506]],\n",
              " '[184, 507]': [[183, 508], [185, 506]],\n",
              " '[415, 507]': [[416, 508], [414, 506]],\n",
              " '[500, 507]': [[499, 508], [501, 507]],\n",
              " '[501, 507]': [[500, 507], [502, 506]],\n",
              " '[81, 506]': [[82, 507], [80, 505]],\n",
              " '[185, 506]': [[184, 507], [186, 505]],\n",
              " '[414, 506]': [[415, 507], [413, 505]],\n",
              " '[502, 506]': [[501, 507], [503, 505]],\n",
              " '[80, 505]': [[81, 506], [79, 504]],\n",
              " '[186, 505]': [[185, 506], [187, 505]],\n",
              " '[187, 505]': [[186, 505], [188, 504]],\n",
              " '[412, 505]': [[413, 505], [411, 504]],\n",
              " '[413, 505]': [[414, 506], [412, 505]],\n",
              " '[503, 505]': [[502, 506], [504, 504]],\n",
              " '[79, 504]': [[80, 505], [78, 503]],\n",
              " '[188, 504]': [[187, 505], [189, 504]],\n",
              " '[189, 504]': [[188, 504], [190, 503]],\n",
              " '[410, 504]': [[411, 504], [409, 503]],\n",
              " '[411, 504]': [[412, 505], [410, 504]],\n",
              " '[504, 504]': [[503, 505], [504, 503]],\n",
              " '[78, 503]': [[79, 504], [77, 502]],\n",
              " '[190, 503]': [[189, 504], [191, 503]],\n",
              " '[191, 503]': [[190, 503], [192, 502]],\n",
              " '[408, 503]': [[409, 503], [407, 502]],\n",
              " '[409, 503]': [[410, 504], [408, 503]],\n",
              " '[504, 503]': [[504, 504], [505, 502]],\n",
              " '[77, 502]': [[78, 503], [76, 501]],\n",
              " '[192, 502]': [[191, 503], [193, 502]],\n",
              " '[193, 502]': [[192, 502], [194, 501]],\n",
              " '[406, 502]': [[407, 502], [405, 501]],\n",
              " '[407, 502]': [[408, 503], [406, 502]],\n",
              " '[505, 502]': [[504, 503], [505, 501]],\n",
              " '[76, 501]': [[77, 502], [75, 500]],\n",
              " '[194, 501]': [[193, 502], [195, 501]],\n",
              " '[195, 501]': [[194, 501], [196, 500]],\n",
              " '[404, 501]': [[405, 501], [403, 500]],\n",
              " '[405, 501]': [[406, 502], [404, 501]],\n",
              " '[505, 501]': [[505, 502], [506, 500]],\n",
              " '[75, 500]': [[76, 501], [74, 499]],\n",
              " '[196, 500]': [[195, 501], [197, 500]],\n",
              " '[197, 500]': [[196, 500], [198, 499]],\n",
              " '[402, 500]': [[403, 500], [401, 499]],\n",
              " '[403, 500]': [[404, 501], [402, 500]],\n",
              " '[506, 500]': [[505, 501], [506, 499]],\n",
              " '[74, 499]': [[75, 500], [73, 498]],\n",
              " '[198, 499]': [[197, 500], [199, 499]],\n",
              " '[199, 499]': [[198, 499], [200, 498]],\n",
              " '[400, 499]': [[401, 499], [399, 498]],\n",
              " '[401, 499]': [[402, 500], [400, 499]],\n",
              " '[506, 499]': [[506, 500], [507, 498]],\n",
              " '[73, 498]': [[74, 499], [72, 497]],\n",
              " '[200, 498]': [[199, 499], [201, 498]],\n",
              " '[201, 498]': [[200, 498], [202, 497]],\n",
              " '[398, 498]': [[399, 498], [397, 497]],\n",
              " '[399, 498]': [[400, 499], [398, 498]],\n",
              " '[507, 498]': [[506, 499], [507, 497]],\n",
              " '[72, 497]': [[73, 498], [71, 496]],\n",
              " '[202, 497]': [[201, 498], [203, 497]],\n",
              " '[203, 497]': [[202, 497], [204, 496]],\n",
              " '[396, 497]': [[397, 497], [395, 496]],\n",
              " '[397, 497]': [[398, 498], [396, 497]],\n",
              " '[507, 497]': [[507, 498], [508, 496]],\n",
              " '[71, 496]': [[72, 497], [70, 495]],\n",
              " '[204, 496]': [[203, 497], [205, 496]],\n",
              " '[205, 496]': [[204, 496], [206, 495]],\n",
              " '[394, 496]': [[395, 496], [393, 495]],\n",
              " '[395, 496]': [[396, 497], [394, 496]],\n",
              " '[508, 496]': [[507, 497], [508, 495]],\n",
              " '[70, 495]': [[71, 496], [69, 494]],\n",
              " '[206, 495]': [[205, 496], [207, 495]],\n",
              " '[207, 495]': [[206, 495], [208, 494]],\n",
              " '[392, 495]': [[393, 495], [391, 494]],\n",
              " '[393, 495]': [[394, 496], [392, 495]],\n",
              " '[508, 495]': [[508, 496], [509, 494]],\n",
              " '[69, 494]': [[70, 495], [68, 493]],\n",
              " '[208, 494]': [[207, 495], [209, 494]],\n",
              " '[209, 494]': [[208, 494], [210, 493]],\n",
              " '[390, 494]': [[391, 494], [389, 493]],\n",
              " '[391, 494]': [[392, 495], [390, 494]],\n",
              " '[509, 494]': [[508, 495], [509, 493]],\n",
              " '[68, 493]': [[69, 494], [67, 492]],\n",
              " '[210, 493]': [[209, 494], [211, 493]],\n",
              " '[211, 493]': [[210, 493], [212, 492]],\n",
              " '[388, 493]': [[389, 493], [387, 492]],\n",
              " '[389, 493]': [[390, 494], [388, 493]],\n",
              " '[509, 493]': [[509, 494], [510, 492]],\n",
              " '[67, 492]': [[68, 493], [66, 491]],\n",
              " '[212, 492]': [[211, 493], [213, 492]],\n",
              " '[213, 492]': [[212, 492], [214, 491]],\n",
              " '[386, 492]': [[387, 492], [385, 491]],\n",
              " '[387, 492]': [[388, 493], [386, 492]],\n",
              " '[510, 492]': [[509, 493], [510, 491]],\n",
              " '[66, 491]': [[67, 492], [65, 490]],\n",
              " '[214, 491]': [[213, 492], [215, 491]],\n",
              " '[215, 491]': [[214, 491], [216, 490]],\n",
              " '[384, 491]': [[385, 491], [383, 490]],\n",
              " '[385, 491]': [[386, 492], [384, 491]],\n",
              " '[510, 491]': [[510, 492], [511, 490]],\n",
              " '[65, 490]': [[66, 491], [64, 489]],\n",
              " '[216, 490]': [[215, 491], [217, 490]],\n",
              " '[217, 490]': [[216, 490], [218, 489]],\n",
              " '[382, 490]': [[383, 490], [381, 489]],\n",
              " '[383, 490]': [[384, 491], [382, 490]],\n",
              " '[511, 490]': [[510, 491], [511, 489]],\n",
              " '[64, 489]': [[65, 490], [63, 488]],\n",
              " '[218, 489]': [[217, 490], [219, 489]],\n",
              " '[219, 489]': [[218, 489], [220, 488]],\n",
              " '[380, 489]': [[381, 489], [379, 488]],\n",
              " '[381, 489]': [[382, 490], [380, 489]],\n",
              " '[511, 489]': [[511, 490], [512, 488]],\n",
              " '[63, 488]': [[64, 489], [63, 487]],\n",
              " '[220, 488]': [[219, 489], [221, 488]],\n",
              " '[221, 488]': [[220, 488], [222, 487]],\n",
              " '[378, 488]': [[379, 488], [377, 487]],\n",
              " '[379, 488]': [[380, 489], [378, 488]],\n",
              " '[512, 488]': [[511, 489], [512, 487]],\n",
              " '[63, 487]': [[63, 488], [62, 486]],\n",
              " '[222, 487]': [[221, 488], [223, 487]],\n",
              " '[223, 487]': [[222, 487], [224, 486]],\n",
              " '[376, 487]': [[377, 487], [375, 486]],\n",
              " '[377, 487]': [[378, 488], [376, 487]],\n",
              " '[512, 487]': [[512, 488], [513, 486]],\n",
              " '[62, 486]': [[63, 487], [62, 485]],\n",
              " '[224, 486]': [[223, 487], [225, 486]],\n",
              " '[225, 486]': [[224, 486], [226, 485]],\n",
              " '[374, 486]': [[375, 486], [373, 485]],\n",
              " '[375, 486]': [[376, 487], [374, 486]],\n",
              " '[513, 486]': [[512, 487], [513, 485]],\n",
              " '[62, 485]': [[62, 486], [61, 484]],\n",
              " '[226, 485]': [[225, 486], [227, 485]],\n",
              " '[227, 485]': [[226, 485], [228, 484]],\n",
              " '[372, 485]': [[373, 485], [371, 484]],\n",
              " '[373, 485]': [[374, 486], [372, 485]],\n",
              " '[513, 485]': [[513, 486], [514, 484]],\n",
              " '[61, 484]': [[62, 485], [61, 483]],\n",
              " '[228, 484]': [[227, 485], [229, 484]],\n",
              " '[229, 484]': [[228, 484], [230, 483]],\n",
              " '[370, 484]': [[371, 484], [369, 483]],\n",
              " '[371, 484]': [[372, 485], [370, 484]],\n",
              " '[514, 484]': [[513, 485], [514, 483]],\n",
              " '[61, 483]': [[61, 484], [60, 482]],\n",
              " '[230, 483]': [[229, 484], [231, 483]],\n",
              " '[231, 483]': [[230, 483], [232, 482]],\n",
              " '[368, 483]': [[369, 483], [367, 482]],\n",
              " '[369, 483]': [[370, 484], [368, 483]],\n",
              " '[514, 483]': [[514, 484], [515, 482]],\n",
              " '[60, 482]': [[61, 483], [60, 481]],\n",
              " '[232, 482]': [[231, 483], [233, 482]],\n",
              " '[233, 482]': [[232, 482], [234, 481]],\n",
              " '[366, 482]': [[367, 482], [365, 481]],\n",
              " '[367, 482]': [[368, 483], [366, 482]],\n",
              " '[515, 482]': [[514, 483], [515, 481]],\n",
              " '[60, 481]': [[60, 482], [59, 480]],\n",
              " '[234, 481]': [[233, 482], [235, 481]],\n",
              " '[235, 481]': [[234, 481], [236, 480]],\n",
              " '[364, 481]': [[365, 481], [363, 480]],\n",
              " '[365, 481]': [[366, 482], [364, 481]],\n",
              " '[515, 481]': [[515, 482], [516, 480]],\n",
              " '[59, 480]': [[60, 481], [59, 479]],\n",
              " '[236, 480]': [[235, 481], [237, 480]],\n",
              " '[237, 480]': [[236, 480], [238, 479]],\n",
              " '[362, 480]': [[363, 480], [361, 479]],\n",
              " '[363, 480]': [[364, 481], [362, 480]],\n",
              " '[516, 480]': [[515, 481], [516, 479]],\n",
              " '[59, 479]': [[59, 480], [58, 478]],\n",
              " '[238, 479]': [[237, 480], [239, 479]],\n",
              " '[239, 479]': [[238, 479], [240, 478]],\n",
              " '[360, 479]': [[361, 479], [359, 478]],\n",
              " '[361, 479]': [[362, 480], [360, 479]],\n",
              " '[516, 479]': [[516, 480], [517, 478]],\n",
              " '[58, 478]': [[59, 479], [58, 477]],\n",
              " '[240, 478]': [[239, 479], [241, 478]],\n",
              " '[241, 478]': [[240, 478], [242, 477]],\n",
              " '[358, 478]': [[359, 478], [357, 477]],\n",
              " '[359, 478]': [[360, 479], [358, 478]],\n",
              " '[517, 478]': [[516, 479], [517, 477]],\n",
              " '[58, 477]': [[58, 478], [57, 476]],\n",
              " '[242, 477]': [[241, 478], [243, 477]],\n",
              " '[243, 477]': [[242, 477], [244, 476]],\n",
              " '[356, 477]': [[357, 477], [355, 476]],\n",
              " '[357, 477]': [[358, 478], [356, 477]],\n",
              " '[517, 477]': [[517, 478], [518, 476]],\n",
              " '[57, 476]': [[58, 477], [57, 475]],\n",
              " '[244, 476]': [[243, 477], [245, 476]],\n",
              " '[245, 476]': [[244, 476], [246, 475]],\n",
              " '[354, 476]': [[355, 476], [353, 475]],\n",
              " '[355, 476]': [[356, 477], [354, 476]],\n",
              " '[518, 476]': [[517, 477], [518, 475]],\n",
              " '[57, 475]': [[57, 476], [56, 474]],\n",
              " '[246, 475]': [[245, 476], [247, 475]],\n",
              " '[247, 475]': [[246, 475], [248, 474]],\n",
              " '[352, 475]': [[353, 475], [351, 474]],\n",
              " '[353, 475]': [[354, 476], [352, 475]],\n",
              " '[518, 475]': [[518, 476], [519, 474]],\n",
              " '[56, 474]': [[57, 475], [56, 473]],\n",
              " '[248, 474]': [[247, 475], [249, 474]],\n",
              " '[249, 474]': [[248, 474], [250, 473]],\n",
              " '[350, 474]': [[351, 474], [349, 473]],\n",
              " '[351, 474]': [[352, 475], [350, 474]],\n",
              " '[519, 474]': [[518, 475], [519, 473]],\n",
              " '[56, 473]': [[56, 474], [55, 472]],\n",
              " '[250, 473]': [[249, 474], [251, 473]],\n",
              " '[251, 473]': [[250, 473], [252, 472]],\n",
              " '[348, 473]': [[349, 473], [347, 472]],\n",
              " '[349, 473]': [[350, 474], [348, 473]],\n",
              " '[519, 473]': [[519, 474], [520, 472]],\n",
              " '[55, 472]': [[56, 473], [55, 471]],\n",
              " '[252, 472]': [[251, 473], [253, 472]],\n",
              " '[253, 472]': [[252, 472], [254, 472]],\n",
              " '[254, 472]': [[253, 472], [255, 472]],\n",
              " '[255, 472]': [[254, 472], [256, 472]],\n",
              " '[256, 472]': [[255, 472], [257, 472]],\n",
              " '[257, 472]': [[256, 472], [258, 472]],\n",
              " '[258, 472]': [[257, 472], [259, 472]],\n",
              " '[259, 472]': [[258, 472], [260, 472]],\n",
              " '[260, 472]': [[259, 472], [261, 472]],\n",
              " '[261, 472]': [[260, 472], [262, 472]],\n",
              " '[262, 472]': [[261, 472], [263, 472]],\n",
              " '[263, 472]': [[262, 472], [264, 472]],\n",
              " '[264, 472]': [[263, 472], [265, 472]],\n",
              " '[265, 472]': [[264, 472], [266, 472]],\n",
              " '[266, 472]': [[265, 472], [267, 472]],\n",
              " '[267, 472]': [[266, 472], [268, 472]],\n",
              " '[268, 472]': [[267, 472], [269, 472]],\n",
              " '[269, 472]': [[268, 472], [270, 472]],\n",
              " '[270, 472]': [[269, 472], [271, 472]],\n",
              " '[271, 472]': [[270, 472], [272, 472]],\n",
              " '[272, 472]': [[271, 472], [273, 472]],\n",
              " '[273, 472]': [[272, 472], [274, 472]],\n",
              " '[274, 472]': [[273, 472], [275, 472]],\n",
              " '[275, 472]': [[274, 472], [276, 472]],\n",
              " '[276, 472]': [[275, 472], [277, 472]],\n",
              " '[277, 472]': [[276, 472], [278, 472]],\n",
              " '[278, 472]': [[277, 472], [279, 472]],\n",
              " '[279, 472]': [[278, 472], [280, 472]],\n",
              " '[280, 472]': [[279, 472], [281, 472]],\n",
              " '[281, 472]': [[280, 472], [282, 472]],\n",
              " '[282, 472]': [[281, 472], [283, 472]],\n",
              " '[283, 472]': [[282, 472], [284, 472]],\n",
              " '[284, 472]': [[283, 472], [285, 472]],\n",
              " '[285, 472]': [[284, 472], [286, 472]],\n",
              " '[286, 472]': [[285, 472], [287, 472]],\n",
              " '[287, 472]': [[286, 472], [288, 472]],\n",
              " '[288, 472]': [[287, 472], [289, 472]],\n",
              " '[289, 472]': [[288, 472], [290, 472]],\n",
              " '[290, 472]': [[289, 472], [291, 472]],\n",
              " '[291, 472]': [[290, 472], [292, 472]],\n",
              " '[292, 472]': [[291, 472], [293, 472]],\n",
              " '[293, 472]': [[292, 472], [294, 472]],\n",
              " '[294, 472]': [[293, 472], [295, 472]],\n",
              " '[295, 472]': [[294, 472], [296, 472]],\n",
              " '[296, 472]': [[295, 472], [297, 472]],\n",
              " '[297, 472]': [[296, 472], [298, 472]],\n",
              " '[298, 472]': [[297, 472], [299, 472]],\n",
              " '[299, 472]': [[298, 472], [300, 472]],\n",
              " '[300, 472]': [[299, 472], [301, 472]],\n",
              " '[301, 472]': [[300, 472], [302, 472]],\n",
              " '[302, 472]': [[301, 472], [303, 472]],\n",
              " '[303, 472]': [[302, 472], [304, 472]],\n",
              " '[304, 472]': [[303, 472], [305, 472]],\n",
              " '[305, 472]': [[304, 472], [306, 472]],\n",
              " '[306, 472]': [[305, 472], [307, 472]],\n",
              " '[307, 472]': [[306, 472], [308, 472]],\n",
              " '[308, 472]': [[307, 472], [309, 472]],\n",
              " '[309, 472]': [[308, 472], [310, 472]],\n",
              " '[310, 472]': [[309, 472], [311, 472]],\n",
              " '[311, 472]': [[310, 472], [312, 472]],\n",
              " '[312, 472]': [[311, 472], [313, 472]],\n",
              " '[313, 472]': [[312, 472], [314, 472]],\n",
              " '[314, 472]': [[313, 472], [315, 472]],\n",
              " '[315, 472]': [[314, 472], [316, 472]],\n",
              " '[316, 472]': [[315, 472], [317, 472]],\n",
              " '[317, 472]': [[316, 472], [318, 472]],\n",
              " '[318, 472]': [[317, 472], [319, 472]],\n",
              " '[319, 472]': [[318, 472], [320, 472]],\n",
              " '[320, 472]': [[319, 472], [321, 472]],\n",
              " '[321, 472]': [[320, 472], [322, 472]],\n",
              " '[322, 472]': [[321, 472], [323, 472]],\n",
              " '[323, 472]': [[322, 472], [324, 472]],\n",
              " '[324, 472]': [[323, 472], [325, 472]],\n",
              " '[325, 472]': [[324, 472], [326, 472]],\n",
              " '[326, 472]': [[325, 472], [327, 472]],\n",
              " '[327, 472]': [[326, 472], [328, 472]],\n",
              " '[328, 472]': [[327, 472], [329, 472]],\n",
              " '[329, 472]': [[328, 472], [330, 472]],\n",
              " '[330, 472]': [[329, 472], [331, 472]],\n",
              " '[331, 472]': [[330, 472], [332, 472]],\n",
              " '[332, 472]': [[331, 472], [333, 472]],\n",
              " '[333, 472]': [[332, 472], [334, 472]],\n",
              " '[334, 472]': [[333, 472], [335, 472]],\n",
              " '[335, 472]': [[334, 472], [336, 472]],\n",
              " '[336, 472]': [[335, 472], [337, 472]],\n",
              " '[337, 472]': [[336, 472], [338, 472]],\n",
              " '[338, 472]': [[337, 472], [339, 472]],\n",
              " '[339, 472]': [[338, 472], [340, 472]],\n",
              " '[340, 472]': [[339, 472], [341, 472]],\n",
              " '[341, 472]': [[340, 472], [342, 472]],\n",
              " '[342, 472]': [[341, 472], [343, 472]],\n",
              " '[343, 472]': [[342, 472], [344, 472]],\n",
              " '[344, 472]': [[343, 472], [345, 472]],\n",
              " '[345, 472]': [[344, 472], [346, 472]],\n",
              " '[346, 472]': [[345, 472], [347, 472]],\n",
              " '[347, 472]': [[348, 473], [346, 472]],\n",
              " '[520, 472]': [[519, 473], [520, 471]],\n",
              " '[55, 471]': [[55, 472], [54, 470]],\n",
              " '[520, 471]': [[520, 472], [521, 470]],\n",
              " '[54, 470]': [[55, 471], [54, 469]],\n",
              " '[521, 470]': [[520, 471], [521, 469]],\n",
              " '[54, 469]': [[54, 470], [53, 468]],\n",
              " '[521, 469]': [[521, 470], [522, 468]],\n",
              " '[53, 468]': [[54, 469], [53, 467]],\n",
              " '[522, 468]': [[521, 469], [522, 467]],\n",
              " '[53, 467]': [[53, 468], [52, 466]],\n",
              " '[522, 467]': [[522, 468], [523, 466]],\n",
              " '[52, 466]': [[53, 467], [52, 465]],\n",
              " '[523, 466]': [[522, 467], [523, 465]],\n",
              " '[52, 465]': [[52, 466], [51, 464]],\n",
              " '[523, 465]': [[523, 466], [524, 464]],\n",
              " '[51, 464]': [[52, 465], [51, 463]],\n",
              " '[524, 464]': [[523, 465], [524, 463]],\n",
              " '[51, 463]': [[51, 464], [50, 462]],\n",
              " '[524, 463]': [[524, 464], [525, 462]],\n",
              " '[50, 462]': [[51, 463], [50, 461]],\n",
              " '[525, 462]': [[524, 463], [525, 461]],\n",
              " '[50, 461]': [[50, 462], [49, 460]],\n",
              " '[525, 461]': [[525, 462], [526, 460]],\n",
              " '[49, 460]': [[50, 461], [49, 459]],\n",
              " '[526, 460]': [[525, 461], [526, 459]],\n",
              " '[49, 459]': [[49, 460], [48, 458]],\n",
              " '[526, 459]': [[526, 460], [527, 458]],\n",
              " '[48, 458]': [[49, 459], [48, 457]],\n",
              " '[527, 458]': [[526, 459], [527, 457]],\n",
              " '[48, 457]': [[48, 458], [47, 456]],\n",
              " '[527, 457]': [[527, 458], [528, 456]],\n",
              " '[47, 456]': [[48, 457], [47, 455]],\n",
              " '[528, 456]': [[527, 457], [528, 455]],\n",
              " '[47, 455]': [[47, 456], [46, 454]],\n",
              " '[528, 455]': [[528, 456], [529, 454]],\n",
              " '[46, 454]': [[47, 455], [46, 453]],\n",
              " '[529, 454]': [[528, 455], [529, 453]],\n",
              " '[46, 453]': [[46, 454], [45, 452]],\n",
              " '[529, 453]': [[529, 454], [530, 452]],\n",
              " '[45, 452]': [[46, 453], [45, 451]],\n",
              " '[530, 452]': [[529, 453], [530, 451]],\n",
              " '[45, 451]': [[45, 452], [44, 450]],\n",
              " '[530, 451]': [[530, 452], [531, 450]],\n",
              " '[44, 450]': [[45, 451], [44, 449]],\n",
              " '[531, 450]': [[530, 451], [531, 449]],\n",
              " '[44, 449]': [[44, 450], [43, 448]],\n",
              " '[531, 449]': [[531, 450], [532, 448]],\n",
              " '[43, 448]': [[44, 449], [43, 447]],\n",
              " '[532, 448]': [[531, 449], [532, 447]],\n",
              " '[43, 447]': [[43, 448], [42, 446]],\n",
              " '[532, 447]': [[532, 448], [533, 446]],\n",
              " '[42, 446]': [[43, 447], [42, 445]],\n",
              " '[533, 446]': [[532, 447], [533, 445]],\n",
              " '[42, 445]': [[42, 446], [41, 444]],\n",
              " '[533, 445]': [[533, 446], [534, 444]],\n",
              " '[41, 444]': [[42, 445], [41, 443]],\n",
              " '[534, 444]': [[533, 445], [534, 443]],\n",
              " '[41, 443]': [[41, 444], [40, 442]],\n",
              " '[534, 443]': [[534, 444], [535, 442]],\n",
              " '[40, 442]': [[41, 443], [40, 441]],\n",
              " '[535, 442]': [[534, 443], [535, 441]],\n",
              " '[40, 441]': [[40, 442], [39, 440]],\n",
              " '[535, 441]': [[535, 442], [536, 440]],\n",
              " '[39, 440]': [[40, 441], [39, 439]],\n",
              " '[536, 440]': [[535, 441], [536, 439]],\n",
              " '[39, 439]': [[39, 440], [39, 438]],\n",
              " '[536, 439]': [[536, 440], [536, 438]],\n",
              " '[39, 438]': [[39, 439], [39, 437]],\n",
              " '[536, 438]': [[536, 439], [536, 437]],\n",
              " '[39, 437]': [[39, 438], [39, 436]],\n",
              " '[536, 437]': [[536, 438], [536, 436]],\n",
              " '[39, 436]': [[39, 437], [39, 435]],\n",
              " '[536, 436]': [[536, 437], [536, 435]],\n",
              " '[39, 435]': [[39, 436], [39, 434]],\n",
              " '[536, 435]': [[536, 436], [536, 434]],\n",
              " '[39, 434]': [[39, 435], [39, 433]],\n",
              " '[536, 434]': [[536, 435], [536, 433]],\n",
              " '[39, 433]': [[39, 434], [39, 432]],\n",
              " '[536, 433]': [[536, 434], [536, 432]],\n",
              " '[39, 432]': [[39, 433], [39, 431]],\n",
              " '[536, 432]': [[536, 433], [536, 431]],\n",
              " '[39, 431]': [[39, 432], [39, 430]],\n",
              " '[536, 431]': [[536, 432], [536, 430]],\n",
              " '[39, 430]': [[39, 431], [39, 429]],\n",
              " '[536, 430]': [[536, 431], [536, 429]],\n",
              " '[39, 429]': [[39, 430], [39, 428]],\n",
              " '[536, 429]': [[536, 430], [536, 428]],\n",
              " '[39, 428]': [[39, 429], [39, 427]],\n",
              " '[536, 428]': [[536, 429], [536, 427]],\n",
              " '[39, 427]': [[39, 428], [39, 426]],\n",
              " '[536, 427]': [[536, 428], [536, 426]],\n",
              " '[39, 426]': [[39, 427], [39, 425]],\n",
              " '[536, 426]': [[536, 427], [536, 425]],\n",
              " '[39, 425]': [[39, 426], [39, 424]],\n",
              " '[536, 425]': [[536, 426], [536, 424]],\n",
              " '[39, 424]': [[39, 425], [39, 423]],\n",
              " '[536, 424]': [[536, 425], [536, 423]],\n",
              " '[39, 423]': [[39, 424], [39, 422]],\n",
              " '[536, 423]': [[536, 424], [536, 422]],\n",
              " '[39, 422]': [[39, 423], [39, 421]],\n",
              " '[536, 422]': [[536, 423], [536, 421]],\n",
              " '[39, 421]': [[39, 422], [39, 420]],\n",
              " '[536, 421]': [[536, 422], [536, 420]],\n",
              " '[39, 420]': [[39, 421], [39, 419]],\n",
              " '[536, 420]': [[536, 421], [536, 419]],\n",
              " '[39, 419]': [[39, 420], [39, 418]],\n",
              " '[536, 419]': [[536, 420], [536, 418]],\n",
              " '[39, 418]': [[39, 419], [39, 417]],\n",
              " '[536, 418]': [[536, 419], [536, 417]],\n",
              " '[39, 417]': [[39, 418], [39, 416]],\n",
              " '[536, 417]': [[536, 418], [536, 416]],\n",
              " '[39, 416]': [[39, 417], [39, 415]],\n",
              " '[536, 416]': [[536, 417], [536, 415]],\n",
              " '[39, 415]': [[39, 416], [39, 414]],\n",
              " '[536, 415]': [[536, 416], [536, 414]],\n",
              " '[39, 414]': [[39, 415], [39, 413]],\n",
              " '[536, 414]': [[536, 415], [536, 413]],\n",
              " '[39, 413]': [[39, 414], [39, 412]],\n",
              " '[536, 413]': [[536, 414], [536, 412]],\n",
              " '[39, 412]': [[39, 413], [39, 411]],\n",
              " '[536, 412]': [[536, 413], [536, 411]],\n",
              " '[39, 411]': [[39, 412], [39, 410]],\n",
              " '[536, 411]': [[536, 412], [536, 410]],\n",
              " '[39, 410]': [[39, 411], [39, 409]],\n",
              " '[536, 410]': [[536, 411], [536, 409]],\n",
              " '[39, 409]': [[39, 410], [39, 408]],\n",
              " '[536, 409]': [[536, 410], [536, 408]],\n",
              " '[39, 408]': [[39, 409], [39, 407]],\n",
              " '[536, 408]': [[536, 409], [536, 407]],\n",
              " '[39, 407]': [[39, 408], [39, 406]],\n",
              " '[536, 407]': [[536, 408], [536, 406]],\n",
              " '[39, 406]': [[39, 407], [39, 405]],\n",
              " '[536, 406]': [[536, 407], [536, 405]],\n",
              " '[39, 405]': [[39, 406], [39, 404]],\n",
              " '[536, 405]': [[536, 406], [536, 404]],\n",
              " '[39, 404]': [[39, 405], [39, 403]],\n",
              " '[536, 404]': [[536, 405], [536, 403]],\n",
              " '[39, 403]': [[39, 404], [39, 402]],\n",
              " '[536, 403]': [[536, 404], [536, 402]],\n",
              " '[39, 402]': [[39, 403], [39, 401]],\n",
              " '[536, 402]': [[536, 403], [536, 401]],\n",
              " '[39, 401]': [[39, 402], [39, 400]],\n",
              " '[536, 401]': [[536, 402], [536, 400]],\n",
              " '[39, 400]': [[39, 401], [39, 399]],\n",
              " '[536, 400]': [[536, 401], [536, 399]],\n",
              " '[39, 399]': [[39, 400], [39, 398]],\n",
              " '[536, 399]': [[536, 400], [536, 398]],\n",
              " '[39, 398]': [[39, 399], [39, 397]],\n",
              " '[536, 398]': [[536, 399], [536, 397]],\n",
              " '[39, 397]': [[39, 398], [39, 396]],\n",
              " '[536, 397]': [[536, 398], [536, 396]],\n",
              " '[39, 396]': [[39, 397], [39, 395]],\n",
              " '[536, 396]': [[536, 397], [536, 395]],\n",
              " '[39, 395]': [[39, 396], [39, 394]],\n",
              " '[536, 395]': [[536, 396], [536, 394]],\n",
              " '[39, 394]': [[39, 395], [39, 393]],\n",
              " '[536, 394]': [[536, 395], [536, 393]],\n",
              " '[39, 393]': [[39, 394], [39, 392]],\n",
              " '[536, 393]': [[536, 394], [536, 392]],\n",
              " '[39, 392]': [[39, 393], [39, 391]],\n",
              " '[536, 392]': [[536, 393], [536, 391]],\n",
              " '[39, 391]': [[39, 392], [39, 390]],\n",
              " '[536, 391]': [[536, 392], [536, 390]],\n",
              " '[39, 390]': [[39, 391], [39, 389]],\n",
              " '[536, 390]': [[536, 391], [536, 389]],\n",
              " '[39, 389]': [[39, 390], [39, 388]],\n",
              " '[536, 389]': [[536, 390], [536, 388]],\n",
              " '[39, 388]': [[39, 389], [39, 387]],\n",
              " '[536, 388]': [[536, 389], [536, 387]],\n",
              " '[39, 387]': [[39, 388], [39, 386]],\n",
              " '[536, 387]': [[536, 388], [536, 386]],\n",
              " '[39, 386]': [[39, 387], [39, 385]],\n",
              " '[536, 386]': [[536, 387], [536, 385]],\n",
              " '[39, 385]': [[39, 386], [39, 384]],\n",
              " '[536, 385]': [[536, 386], [536, 384]],\n",
              " '[39, 384]': [[39, 385], [39, 383]],\n",
              " '[536, 384]': [[536, 385], [536, 383]],\n",
              " '[39, 383]': [[39, 384], [39, 382]],\n",
              " '[536, 383]': [[536, 384], [536, 382]],\n",
              " '[39, 382]': [[39, 383], [39, 381]],\n",
              " '[536, 382]': [[536, 383], [536, 381]],\n",
              " '[39, 381]': [[39, 382], [39, 380]],\n",
              " '[536, 381]': [[536, 382], [536, 380]],\n",
              " '[39, 380]': [[39, 381], [39, 379]],\n",
              " '[536, 380]': [[536, 381], [536, 379]],\n",
              " '[39, 379]': [[39, 380], [39, 378]],\n",
              " '[536, 379]': [[536, 380], [536, 378]],\n",
              " '[39, 378]': [[39, 379], [39, 377]],\n",
              " '[536, 378]': [[536, 379], [536, 377]],\n",
              " '[39, 377]': [[39, 378], [39, 376]],\n",
              " '[536, 377]': [[536, 378], [536, 376]],\n",
              " '[39, 376]': [[39, 377], [39, 375]],\n",
              " '[536, 376]': [[536, 377], [536, 375]],\n",
              " '[39, 375]': [[39, 376], [39, 374]],\n",
              " '[536, 375]': [[536, 376], [536, 374]],\n",
              " '[39, 374]': [[39, 375], [39, 373]],\n",
              " '[536, 374]': [[536, 375], [536, 373]],\n",
              " '[39, 373]': [[39, 374], [39, 372]],\n",
              " '[536, 373]': [[536, 374], [536, 372]],\n",
              " '[39, 372]': [[39, 373], [39, 371]],\n",
              " '[536, 372]': [[536, 373], [536, 371]],\n",
              " '[39, 371]': [[39, 372], [39, 370]],\n",
              " '[536, 371]': [[536, 372], [536, 370]],\n",
              " '[39, 370]': [[39, 371], [39, 369]],\n",
              " '[536, 370]': [[536, 371], [536, 369]],\n",
              " '[39, 369]': [[39, 370], [39, 368]],\n",
              " '[536, 369]': [[536, 370], [536, 368]],\n",
              " '[39, 368]': [[39, 369], [39, 367]],\n",
              " '[536, 368]': [[536, 369], [536, 367]],\n",
              " '[39, 367]': [[39, 368], [39, 366]],\n",
              " '[536, 367]': [[536, 368], [536, 366]],\n",
              " '[39, 366]': [[39, 367], [39, 365]],\n",
              " '[536, 366]': [[536, 367], [536, 365]],\n",
              " '[39, 365]': [[39, 366], [39, 364]],\n",
              " '[536, 365]': [[536, 366], [536, 364]],\n",
              " '[39, 364]': [[39, 365], [39, 363]],\n",
              " '[536, 364]': [[536, 365], [536, 363]],\n",
              " '[39, 363]': [[39, 364], [39, 362]],\n",
              " '[536, 363]': [[536, 364], [536, 362]],\n",
              " '[39, 362]': [[39, 363], [39, 361]],\n",
              " '[536, 362]': [[536, 363], [536, 361]],\n",
              " '[39, 361]': [[39, 362], [39, 360]],\n",
              " '[536, 361]': [[536, 362], [536, 360]],\n",
              " '[39, 360]': [[39, 361], [39, 359]],\n",
              " '[536, 360]': [[536, 361], [536, 359]],\n",
              " '[39, 359]': [[39, 360], [39, 358]],\n",
              " '[536, 359]': [[536, 360], [536, 358]],\n",
              " '[39, 358]': [[39, 359], [39, 357]],\n",
              " '[536, 358]': [[536, 359], [536, 357]],\n",
              " '[39, 357]': [[39, 358], [39, 356]],\n",
              " '[536, 357]': [[536, 358], [536, 356]],\n",
              " '[39, 356]': [[39, 357], [39, 355]],\n",
              " '[536, 356]': [[536, 357], [536, 355]],\n",
              " '[39, 355]': [[39, 356], [39, 354]],\n",
              " '[536, 355]': [[536, 356], [536, 354]],\n",
              " '[39, 354]': [[39, 355], [39, 353]],\n",
              " '[536, 354]': [[536, 355], [536, 353]],\n",
              " '[39, 353]': [[39, 354], [39, 352]],\n",
              " '[536, 353]': [[536, 354], [536, 352]],\n",
              " '[39, 352]': [[39, 353], [39, 351]],\n",
              " '[536, 352]': [[536, 353], [536, 351]],\n",
              " '[39, 351]': [[39, 352], [39, 350]],\n",
              " '[536, 351]': [[536, 352], [536, 350]],\n",
              " '[39, 350]': [[39, 351], [39, 349]],\n",
              " '[536, 350]': [[536, 351], [536, 349]],\n",
              " '[39, 349]': [[39, 350], [39, 348]],\n",
              " '[536, 349]': [[536, 350], [536, 348]],\n",
              " '[39, 348]': [[39, 349], [39, 347]],\n",
              " '[536, 348]': [[536, 349], [536, 347]],\n",
              " '[39, 347]': [[39, 348], [39, 346]],\n",
              " '[536, 347]': [[536, 348], [536, 346]],\n",
              " '[39, 346]': [[39, 347], [39, 345]],\n",
              " '[536, 346]': [[536, 347], [536, 345]],\n",
              " '[39, 345]': [[39, 346], [39, 344]],\n",
              " '[536, 345]': [[536, 346], [536, 344]],\n",
              " '[39, 344]': [[39, 345], [39, 343]],\n",
              " '[536, 344]': [[536, 345], [536, 343]],\n",
              " '[39, 343]': [[39, 344], [39, 342]],\n",
              " '[536, 343]': [[536, 344], [536, 342]],\n",
              " '[39, 342]': [[39, 343], [39, 341]],\n",
              " '[536, 342]': [[536, 343], [536, 341]],\n",
              " '[39, 341]': [[39, 342], [39, 340]],\n",
              " '[536, 341]': [[536, 342], [536, 340]],\n",
              " '[39, 340]': [[39, 341], [39, 339]],\n",
              " '[536, 340]': [[536, 341], [536, 339]],\n",
              " '[39, 339]': [[39, 340], [39, 338]],\n",
              " '[536, 339]': [[536, 340], [536, 338]],\n",
              " '[39, 338]': [[39, 339], [39, 337]],\n",
              " '[536, 338]': [[536, 339], [536, 337]],\n",
              " '[39, 337]': [[39, 338], [39, 336]],\n",
              " '[536, 337]': [[536, 338], [536, 336]],\n",
              " '[39, 336]': [[39, 337], [39, 335]],\n",
              " '[536, 336]': [[536, 337], [536, 335]],\n",
              " '[39, 335]': [[39, 336], [39, 334]],\n",
              " '[536, 335]': [[536, 336], [536, 334]],\n",
              " '[39, 334]': [[39, 335], [39, 333]],\n",
              " '[536, 334]': [[536, 335], [536, 333]],\n",
              " '[39, 333]': [[39, 334], [39, 332]],\n",
              " '[536, 333]': [[536, 334], [536, 332]],\n",
              " '[39, 332]': [[39, 333], [39, 331]],\n",
              " '[536, 332]': [[536, 333], [536, 331]],\n",
              " '[39, 331]': [[39, 332], [39, 330]],\n",
              " '[536, 331]': [[536, 332], [535, 330]],\n",
              " '[39, 330]': [[39, 331], [39, 329]],\n",
              " '[535, 330]': [[536, 331], [535, 329]],\n",
              " '[39, 329]': [[39, 330], [39, 328]],\n",
              " '[535, 329]': [[535, 330], [534, 328]],\n",
              " '[39, 328]': [[39, 329], [39, 327]],\n",
              " '[534, 328]': [[535, 329], [534, 327]],\n",
              " '[39, 327]': [[39, 328], [39, 326]],\n",
              " '[534, 327]': [[534, 328], [533, 326]],\n",
              " '[39, 326]': [[39, 327], [39, 325]],\n",
              " '[533, 326]': [[534, 327], [533, 325]],\n",
              " '[39, 325]': [[39, 326], [39, 324]],\n",
              " '[533, 325]': [[533, 326], [532, 324]],\n",
              " '[39, 324]': [[39, 325], [39, 323]],\n",
              " '[532, 324]': [[533, 325], [532, 323]],\n",
              " '[39, 323]': [[39, 324], [39, 322]],\n",
              " '[532, 323]': [[532, 324], [531, 322]],\n",
              " '[39, 322]': [[39, 323], [39, 321]],\n",
              " '[531, 322]': [[532, 323], [531, 321]],\n",
              " '[39, 321]': [[39, 322], [39, 320]],\n",
              " '[531, 321]': [[531, 322], [530, 320]],\n",
              " '[39, 320]': [[39, 321], [39, 319]],\n",
              " '[530, 320]': [[531, 321], [530, 319]],\n",
              " '[39, 319]': [[39, 320], [39, 318]],\n",
              " '[530, 319]': [[530, 320], [529, 318]],\n",
              " '[39, 318]': [[39, 319], [39, 317]],\n",
              " '[529, 318]': [[530, 319], [529, 317]],\n",
              " '[39, 317]': [[39, 318], [39, 316]],\n",
              " '[529, 317]': [[529, 318], [528, 316]],\n",
              " '[39, 316]': [[39, 317], [39, 315]],\n",
              " '[528, 316]': [[529, 317], [528, 315]],\n",
              " '[39, 315]': [[39, 316], [39, 314]],\n",
              " '[528, 315]': [[528, 316], [527, 314]],\n",
              " '[39, 314]': [[39, 315], [39, 313]],\n",
              " '[527, 314]': [[528, 315], [527, 313]],\n",
              " '[39, 313]': [[39, 314], [39, 312]],\n",
              " '[527, 313]': [[527, 314], [526, 312]],\n",
              " '[39, 312]': [[39, 313], [39, 311]],\n",
              " '[526, 312]': [[527, 313], [526, 311]],\n",
              " '[39, 311]': [[39, 312], [39, 310]],\n",
              " '[526, 311]': [[526, 312], [525, 310]],\n",
              " '[39, 310]': [[39, 311], [39, 309]],\n",
              " '[525, 310]': [[526, 311], [525, 309]],\n",
              " '[39, 309]': [[39, 310], [39, 308]],\n",
              " '[525, 309]': [[525, 310], [524, 308]],\n",
              " '[39, 308]': [[39, 309], [39, 307]],\n",
              " '[524, 308]': [[525, 309], [524, 307]],\n",
              " '[39, 307]': [[39, 308], [39, 306]],\n",
              " '[524, 307]': [[524, 308], [523, 306]],\n",
              " '[39, 306]': [[39, 307], [39, 305]],\n",
              " '[523, 306]': [[524, 307], [523, 305]],\n",
              " '[39, 305]': [[39, 306], [39, 304]],\n",
              " '[523, 305]': [[523, 306], [522, 304]],\n",
              " '[39, 304]': [[39, 305], [39, 303]],\n",
              " '[522, 304]': [[523, 305], [522, 303]],\n",
              " '[39, 303]': [[39, 304], [39, 302]],\n",
              " '[522, 303]': [[522, 304], [521, 302]],\n",
              " '[39, 302]': [[39, 303], [39, 301]],\n",
              " '[521, 302]': [[522, 303], [521, 301]],\n",
              " '[39, 301]': [[39, 302], [39, 300]],\n",
              " '[521, 301]': [[521, 302], [520, 300]],\n",
              " '[39, 300]': [[39, 301], [39, 299]],\n",
              " '[520, 300]': [[521, 301], [520, 299]],\n",
              " '[39, 299]': [[39, 300], [39, 298]],\n",
              " '[520, 299]': [[520, 300], [519, 298]],\n",
              " '[39, 298]': [[39, 299], [39, 297]],\n",
              " '[519, 298]': [[520, 299], [519, 297]],\n",
              " '[39, 297]': [[39, 298], [39, 296]],\n",
              " '[519, 297]': [[519, 298], [518, 296]],\n",
              " '[39, 296]': [[39, 297], [39, 295]],\n",
              " '[518, 296]': [[519, 297], [518, 295]],\n",
              " '[39, 295]': [[39, 296], [39, 294]],\n",
              " '[518, 295]': [[518, 296], [517, 294]],\n",
              " '[39, 294]': [[39, 295], [39, 293]],\n",
              " '[517, 294]': [[518, 295], [517, 293]],\n",
              " '[39, 293]': [[39, 294], [39, 292]],\n",
              " '[517, 293]': [[517, 294], [516, 292]],\n",
              " '[39, 292]': [[39, 293], [39, 291]],\n",
              " '[516, 292]': [[517, 293], [516, 291]],\n",
              " '[39, 291]': [[39, 292], [39, 290]],\n",
              " '[516, 291]': [[516, 292], [515, 290]],\n",
              " '[39, 290]': [[39, 291], [39, 289]],\n",
              " '[514, 290]': [[515, 290], [513, 289]],\n",
              " '[515, 290]': [[516, 291], [514, 290]],\n",
              " '[39, 289]': [[39, 290], [39, 288]],\n",
              " '[512, 289]': [[513, 289], [511, 288]],\n",
              " '[513, 289]': [[514, 290], [512, 289]],\n",
              " '[39, 288]': [[39, 289], [39, 287]],\n",
              " '[510, 288]': [[511, 288], [509, 287]],\n",
              " '[511, 288]': [[512, 289], [510, 288]],\n",
              " '[39, 287]': [[39, 288], [39, 286]],\n",
              " '[508, 287]': [[509, 287], [507, 286]],\n",
              " '[509, 287]': [[510, 288], [508, 287]],\n",
              " '[39, 286]': [[39, 287], [39, 285]],\n",
              " '[506, 286]': [[507, 286], [505, 285]],\n",
              " '[507, 286]': [[508, 287], [506, 286]],\n",
              " '[39, 285]': [[39, 286], [39, 284]],\n",
              " '[504, 285]': [[505, 285], [503, 284]],\n",
              " '[505, 285]': [[506, 286], [504, 285]],\n",
              " '[39, 284]': [[39, 285], [39, 283]],\n",
              " '[502, 284]': [[503, 284], [501, 283]],\n",
              " '[503, 284]': [[504, 285], [502, 284]],\n",
              " '[39, 283]': [[39, 284], [39, 282]],\n",
              " '[500, 283]': [[501, 283], [499, 282]],\n",
              " '[501, 283]': [[502, 284], [500, 283]],\n",
              " '[39, 282]': [[39, 283], [39, 281]],\n",
              " '[257, 282]': [[258, 282], [256, 281]],\n",
              " '[258, 282]': [[257, 282], [259, 282]],\n",
              " '[259, 282]': [[258, 282], [260, 282]],\n",
              " '[260, 282]': [[259, 282], [261, 282]],\n",
              " '[261, 282]': [[260, 282], [262, 282]],\n",
              " '[262, 282]': [[261, 282], [263, 282]],\n",
              " '[263, 282]': [[262, 282], [264, 282]],\n",
              " '[264, 282]': [[263, 282], [265, 282]],\n",
              " '[265, 282]': [[264, 282], [266, 282]],\n",
              " '[266, 282]': [[265, 282], [267, 282]],\n",
              " '[267, 282]': [[266, 282], [268, 282]],\n",
              " '[268, 282]': [[267, 282], [269, 282]],\n",
              " '[269, 282]': [[268, 282], [270, 282]],\n",
              " '[270, 282]': [[269, 282], [271, 282]],\n",
              " '[271, 282]': [[270, 282], [272, 282]],\n",
              " '[272, 282]': [[271, 282], [273, 282]],\n",
              " '[273, 282]': [[272, 282], [274, 282]],\n",
              " '[274, 282]': [[273, 282], [275, 282]],\n",
              " '[275, 282]': [[274, 282], [276, 282]],\n",
              " '[276, 282]': [[275, 282], [277, 282]],\n",
              " '[277, 282]': [[276, 282], [278, 282]],\n",
              " '[278, 282]': [[277, 282], [279, 282]],\n",
              " '[279, 282]': [[278, 282], [280, 282]],\n",
              " '[280, 282]': [[279, 282], [281, 282]],\n",
              " '[281, 282]': [[280, 282], [282, 282]],\n",
              " '[282, 282]': [[281, 282], [283, 282]],\n",
              " '[283, 282]': [[282, 282], [284, 282]],\n",
              " '[284, 282]': [[283, 282], [285, 282]],\n",
              " '[285, 282]': [[284, 282], [286, 282]],\n",
              " '[286, 282]': [[285, 282], [287, 282]],\n",
              " '[287, 282]': [[286, 282], [288, 282]],\n",
              " '[288, 282]': [[287, 282], [289, 282]],\n",
              " '[289, 282]': [[288, 282], [290, 282]],\n",
              " '[290, 282]': [[289, 282], [291, 282]],\n",
              " '[291, 282]': [[290, 282], [292, 282]],\n",
              " '[292, 282]': [[291, 282], [293, 282]],\n",
              " '[293, 282]': [[292, 282], [294, 282]],\n",
              " '[294, 282]': [[293, 282], [295, 282]],\n",
              " '[295, 282]': [[294, 282], [296, 282]],\n",
              " '[296, 282]': [[295, 282], [297, 282]],\n",
              " '[297, 282]': [[296, 282], [298, 282]],\n",
              " '[298, 282]': [[297, 282], [299, 282]],\n",
              " '[299, 282]': [[298, 282], [300, 282]],\n",
              " '[300, 282]': [[299, 282], [301, 282]],\n",
              " '[301, 282]': [[300, 282], [302, 282]],\n",
              " '[302, 282]': [[301, 282], [303, 282]],\n",
              " '[303, 282]': [[302, 282], [304, 282]],\n",
              " '[304, 282]': [[303, 282], [305, 282]],\n",
              " '[305, 282]': [[304, 282], [306, 282]],\n",
              " '[306, 282]': [[305, 282], [307, 282]],\n",
              " '[307, 282]': [[306, 282], [308, 282]],\n",
              " '[308, 282]': [[307, 282], [309, 282]],\n",
              " '[309, 282]': [[308, 282], [310, 282]],\n",
              " '[310, 282]': [[309, 282], [311, 282]],\n",
              " '[311, 282]': [[310, 282], [312, 282]],\n",
              " '[312, 282]': [[311, 282], [313, 282]],\n",
              " '[313, 282]': [[312, 282], [314, 282]],\n",
              " '[314, 282]': [[313, 282], [315, 282]],\n",
              " '[315, 282]': [[314, 282], [316, 282]],\n",
              " '[316, 282]': [[315, 282], [317, 282]],\n",
              " '[317, 282]': [[316, 282], [318, 282]],\n",
              " '[318, 282]': [[317, 282], [319, 282]],\n",
              " '[319, 282]': [[318, 282], [320, 282]],\n",
              " '[320, 282]': [[319, 282], [321, 282]],\n",
              " '[321, 282]': [[320, 282], [322, 282]],\n",
              " '[322, 282]': [[321, 282], [323, 282]],\n",
              " '[323, 282]': [[322, 282], [324, 282]],\n",
              " '[324, 282]': [[323, 282], [325, 282]],\n",
              " '[325, 282]': [[324, 282], [326, 282]],\n",
              " '[326, 282]': [[325, 282], [327, 282]],\n",
              " '[327, 282]': [[326, 282], [328, 282]],\n",
              " '[328, 282]': [[327, 282], [329, 282]],\n",
              " '[329, 282]': [[328, 282], [330, 282]],\n",
              " '[330, 282]': [[329, 282], [331, 282]],\n",
              " '[331, 282]': [[330, 282], [332, 282]],\n",
              " '[332, 282]': [[331, 282], [333, 282]],\n",
              " '[333, 282]': [[332, 282], [334, 282]],\n",
              " '[334, 282]': [[333, 282], [335, 282]],\n",
              " '[335, 282]': [[334, 282], [336, 282]],\n",
              " '[336, 282]': [[335, 282], [337, 282]],\n",
              " '[337, 282]': [[336, 282], [338, 282]],\n",
              " '[338, 282]': [[337, 282], [339, 282]],\n",
              " '[339, 282]': [[338, 282], [340, 282]],\n",
              " '[340, 282]': [[339, 282], [341, 282]],\n",
              " '[341, 282]': [[340, 282], [342, 282]],\n",
              " '[342, 282]': [[341, 282], [343, 282]],\n",
              " '[343, 282]': [[342, 282], [344, 282]],\n",
              " '[344, 282]': [[343, 282], [345, 282]],\n",
              " '[345, 282]': [[344, 282], [346, 282]],\n",
              " '[346, 282]': [[345, 282], [347, 282]],\n",
              " '[347, 282]': [[346, 282], [348, 282]],\n",
              " '[348, 282]': [[347, 282], [349, 282]],\n",
              " '[349, 282]': [[348, 282], [350, 282]],\n",
              " '[350, 282]': [[349, 282], [351, 282]],\n",
              " '[351, 282]': [[350, 282], [352, 282]],\n",
              " '[352, 282]': [[351, 282], [353, 282]],\n",
              " '[353, 282]': [[352, 282], [354, 282]],\n",
              " '[354, 282]': [[353, 282], [355, 282]],\n",
              " '[355, 282]': [[354, 282], [356, 282]],\n",
              " '[356, 282]': [[355, 282], [357, 282]],\n",
              " '[357, 282]': [[356, 282], [358, 282]],\n",
              " '[358, 282]': [[357, 282], [359, 282]],\n",
              " '[359, 282]': [[358, 282], [360, 282]],\n",
              " '[360, 282]': [[359, 282], [361, 282]],\n",
              " '[361, 282]': [[360, 282], [362, 282]],\n",
              " '[362, 282]': [[361, 282], [363, 282]],\n",
              " '[363, 282]': [[362, 282], [364, 282]],\n",
              " '[364, 282]': [[363, 282], [365, 282]],\n",
              " '[365, 282]': [[364, 282], [366, 282]],\n",
              " '[366, 282]': [[365, 282], [367, 282]],\n",
              " '[367, 282]': [[366, 282], [368, 282]],\n",
              " '[368, 282]': [[367, 282], [369, 282]],\n",
              " '[369, 282]': [[368, 282], [370, 282]],\n",
              " '[370, 282]': [[369, 282], [371, 282]],\n",
              " '[371, 282]': [[370, 282], [372, 282]],\n",
              " '[372, 282]': [[371, 282], [373, 282]],\n",
              " '[373, 282]': [[372, 282], [374, 282]],\n",
              " '[374, 282]': [[373, 282], [375, 282]],\n",
              " '[375, 282]': [[374, 282], [376, 282]],\n",
              " '[376, 282]': [[375, 282], [377, 282]],\n",
              " '[377, 282]': [[376, 282], [378, 282]],\n",
              " '[378, 282]': [[377, 282], [379, 282]],\n",
              " '[379, 282]': [[378, 282], [380, 282]],\n",
              " ...}"
            ]
          },
          "metadata": {},
          "execution_count": 416
        }
      ]
    },
    {
      "cell_type": "code",
      "source": [
        "start = waypoints[0]\n",
        "next = tree[str(start)][0]\n",
        "prev = start\n",
        "seen = [prev, next]\n",
        "while 1==1:\n",
        "  if not(tree[str(next)][0] in seen):\n",
        "    next = tree[str(next)][0]\n",
        "  elif not(tree[str(next)][1] in seen):\n",
        "    next = tree[str(next)][1]\n",
        "  else:\n",
        "    break\n",
        "  seen.append(next)\n",
        "print(len(seen))"
      ],
      "metadata": {
        "colab": {
          "base_uri": "https://localhost:8080/"
        },
        "outputId": "ed3d2b8b-cfe3-4569-e8a9-3a67be860005",
        "id": "qMp-itLspEzu"
      },
      "execution_count": null,
      "outputs": [
        {
          "output_type": "stream",
          "name": "stdout",
          "text": [
            "1732\n"
          ]
        }
      ]
    },
    {
      "cell_type": "code",
      "source": [
        "#image = cv2.UMat.get(cv2.circle(world, (thinned.shape[0]-start[1],start[0]), radius=20,color=(0, 0, 255), thickness=-1))\n",
        "plt.imshow(world)\n",
        "for i in range(len(seen)):\n",
        "  plt.scatter(seen[i][0],-seen[i][1]+thinned.shape[0])\n",
        "plt.show() "
      ],
      "metadata": {
        "colab": {
          "base_uri": "https://localhost:8080/",
          "height": 269
        },
        "outputId": "40cd0921-04e3-4bae-98ef-95c723a32d3d",
        "id": "cHNMYWDppEzu"
      },
      "execution_count": null,
      "outputs": [
        {
          "output_type": "display_data",
          "data": {
            "image/png": "[encoded data removed]",
            "text/plain": [
              "<Figure size 432x288 with 1 Axes>"
            ]
          },
          "metadata": {
            "needs_background": "light"
          }
        }
      ]
    },
    {
      "cell_type": "code",
      "source": [
        "image = cv2.UMat.get(cv2.circle(world, (start[0],start[1]), radius=10,color=(0, 0, 255), thickness=-1))\n",
        "plt.imshow(image,cmap='gray')"
      ],
      "metadata": {
        "colab": {
          "base_uri": "https://localhost:8080/",
          "height": 286
        },
        "id": "1En9J1vZ2khd",
        "outputId": "ffdc59c9-27e9-4e76-a12a-df1927f67e68"
      },
      "execution_count": null,
      "outputs": [
        {
          "output_type": "execute_result",
          "data": {
            "text/plain": [
              "<matplotlib.image.AxesImage at 0x7f33e6138c50>"
            ]
          },
          "metadata": {},
          "execution_count": 420
        },
        {
          "output_type": "display_data",
          "data": {
            "image/png": "[encoded data removed]",
            "text/plain": [
              "<Figure size 432x288 with 1 Axes>"
            ]
          },
          "metadata": {
            "needs_background": "light"
          }
        }
      ]
    },
    {
      "cell_type": "code",
      "source": [
        "plt.figure()\n",
        "video = []\n",
        "for i in range(0,len(seen),10):\n",
        "  image = cv2.UMat.get(cv2.circle(world, (seen[i][0],-seen[i][1]+thinned.shape[0]), radius=10,color=(0, 0, 255), thickness=-1))\n",
        "  plt.imshow(image,cmap='gray')\n",
        "  #plt.show()\n",
        "  plt.imsave('/content/sample_data/triangle/'+str(i)+'.png',image,cmap='gray')\n",
        "  plt.clf()"
      ],
      "metadata": {
        "colab": {
          "base_uri": "https://localhost:8080/",
          "height": 34
        },
        "outputId": "5006ad62-699a-40ad-9d1a-12f3867dab7e",
        "id": "6yJGAfLTpEzy"
      },
      "execution_count": null,
      "outputs": [
        {
          "output_type": "display_data",
          "data": {
            "text/plain": [
              "<Figure size 432x288 with 0 Axes>"
            ]
          },
          "metadata": {}
        }
      ]
    },
    {
      "cell_type": "code",
      "source": [
        "!zip -r /content/triangle.zip /content/sample_data/triangle"
      ],
      "metadata": {
        "colab": {
          "base_uri": "https://localhost:8080/"
        },
        "outputId": "7a3ef45f-15d9-47f0-a589-7a7c91065c9d",
        "id": "XgELVECkpEzy"
      },
      "execution_count": null,
      "outputs": [
        {
          "output_type": "stream",
          "name": "stdout",
          "text": [
            "updating: content/sample_data/triangle/ (stored 0%)\n",
            "updating: content/sample_data/triangle/1090.png (deflated 83%)\n",
            "updating: content/sample_data/triangle/140.png (deflated 83%)\n",
            "updating: content/sample_data/triangle/360.png (deflated 83%)\n",
            "updating: content/sample_data/triangle/1360.png (deflated 82%)\n",
            "updating: content/sample_data/triangle/1120.png (deflated 82%)\n",
            "updating: content/sample_data/triangle/980.png (deflated 83%)\n",
            "updating: content/sample_data/triangle/1290.png (deflated 81%)\n",
            "updating: content/sample_data/triangle/1160.png (deflated 82%)\n",
            "updating: content/sample_data/triangle/1170.png (deflated 82%)\n",
            "updating: content/sample_data/triangle/1220.png (deflated 83%)\n",
            "updating: content/sample_data/triangle/130.png (deflated 83%)\n",
            "updating: content/sample_data/triangle/1010.png (deflated 83%)\n",
            "updating: content/sample_data/triangle/520.png (deflated 82%)\n",
            "updating: content/sample_data/triangle/670.png (deflated 83%)\n",
            "updating: content/sample_data/triangle/860.png (deflated 82%)\n",
            "updating: content/sample_data/triangle/780.png (deflated 83%)\n",
            "updating: content/sample_data/triangle/840.png (deflated 83%)\n",
            "updating: content/sample_data/triangle/110.png (deflated 83%)\n",
            "updating: content/sample_data/triangle/540.png (deflated 82%)\n",
            "updating: content/sample_data/triangle/0.png (deflated 83%)\n",
            "updating: content/sample_data/triangle/680.png (deflated 83%)\n",
            "updating: content/sample_data/triangle/1140.png (deflated 83%)\n",
            "updating: content/sample_data/triangle/820.png (deflated 83%)\n",
            "updating: content/sample_data/triangle/690.png (deflated 83%)\n",
            "updating: content/sample_data/triangle/90.png (deflated 83%)\n",
            "updating: content/sample_data/triangle/1330.png (deflated 82%)\n",
            "updating: content/sample_data/triangle/880.png (deflated 83%)\n",
            "updating: content/sample_data/triangle/1080.png (deflated 83%)\n",
            "updating: content/sample_data/triangle/660.png (deflated 83%)\n",
            "updating: content/sample_data/triangle/1000.png (deflated 83%)\n",
            "updating: content/sample_data/triangle/390.png (deflated 83%)\n",
            "updating: content/sample_data/triangle/1030.png (deflated 83%)\n",
            "updating: content/sample_data/triangle/290.png (deflated 83%)\n",
            "updating: content/sample_data/triangle/1250.png (deflated 82%)\n",
            "updating: content/sample_data/triangle/570.png (deflated 82%)\n",
            "updating: content/sample_data/triangle/310.png (deflated 83%)\n",
            "updating: content/sample_data/triangle/460.png (deflated 83%)\n",
            "updating: content/sample_data/triangle/600.png (deflated 82%)\n",
            "updating: content/sample_data/triangle/1270.png (deflated 81%)\n",
            "updating: content/sample_data/triangle/630.png (deflated 83%)\n",
            "updating: content/sample_data/triangle/580.png (deflated 82%)\n",
            "updating: content/sample_data/triangle/20.png (deflated 83%)\n",
            "updating: content/sample_data/triangle/650.png (deflated 83%)\n",
            "updating: content/sample_data/triangle/1190.png (deflated 82%)\n",
            "updating: content/sample_data/triangle/850.png (deflated 83%)\n",
            "updating: content/sample_data/triangle/1200.png (deflated 83%)\n",
            "updating: content/sample_data/triangle/760.png (deflated 83%)\n",
            "updating: content/sample_data/triangle/480.png (deflated 83%)\n",
            "updating: content/sample_data/triangle/470.png (deflated 83%)\n",
            "updating: content/sample_data/triangle/1300.png (deflated 82%)\n",
            "updating: content/sample_data/triangle/250.png (deflated 83%)\n",
            "updating: content/sample_data/triangle/300.png (deflated 83%)\n",
            "updating: content/sample_data/triangle/1050.png (deflated 83%)\n",
            "updating: content/sample_data/triangle/400.png (deflated 83%)\n",
            "updating: content/sample_data/triangle/240.png (deflated 82%)\n",
            "updating: content/sample_data/triangle/450.png (deflated 83%)\n",
            "updating: content/sample_data/triangle/810.png (deflated 83%)\n",
            "updating: content/sample_data/triangle/530.png (deflated 82%)\n",
            "updating: content/sample_data/triangle/70.png (deflated 83%)\n",
            "updating: content/sample_data/triangle/40.png (deflated 83%)\n",
            "updating: content/sample_data/triangle/1370.png (deflated 82%)\n",
            "updating: content/sample_data/triangle/150.png (deflated 83%)\n",
            "updating: content/sample_data/triangle/1380.png (deflated 82%)\n",
            "updating: content/sample_data/triangle/370.png (deflated 83%)\n",
            "updating: content/sample_data/triangle/170.png (deflated 83%)\n",
            "updating: content/sample_data/triangle/870.png (deflated 82%)\n",
            "updating: content/sample_data/triangle/700.png (deflated 83%)\n",
            "updating: content/sample_data/triangle/1070.png (deflated 82%)\n",
            "updating: content/sample_data/triangle/1320.png (deflated 82%)\n",
            "updating: content/sample_data/triangle/60.png (deflated 82%)\n",
            "updating: content/sample_data/triangle/770.png (deflated 83%)\n",
            "updating: content/sample_data/triangle/590.png (deflated 83%)\n",
            "updating: content/sample_data/triangle/930.png (deflated 83%)\n",
            "updating: content/sample_data/triangle/1310.png (deflated 82%)\n",
            "updating: content/sample_data/triangle/800.png (deflated 83%)\n",
            "updating: content/sample_data/triangle/920.png (deflated 82%)\n",
            "updating: content/sample_data/triangle/960.png (deflated 83%)\n",
            "updating: content/sample_data/triangle/830.png (deflated 82%)\n",
            "updating: content/sample_data/triangle/440.png (deflated 83%)\n",
            "updating: content/sample_data/triangle/740.png (deflated 83%)\n",
            "updating: content/sample_data/triangle/1280.png (deflated 81%)\n",
            "updating: content/sample_data/triangle/1410.png (deflated 82%)\n",
            "updating: content/sample_data/triangle/160.png (deflated 82%)\n",
            "updating: content/sample_data/triangle/1240.png (deflated 82%)\n",
            "updating: content/sample_data/triangle/200.png (deflated 83%)\n",
            "updating: content/sample_data/triangle/550.png (deflated 82%)\n",
            "updating: content/sample_data/triangle/1130.png (deflated 83%)\n",
            "updating: content/sample_data/triangle/1340.png (deflated 82%)\n",
            "updating: content/sample_data/triangle/1100.png (deflated 83%)\n",
            "updating: content/sample_data/triangle/1210.png (deflated 82%)\n",
            "updating: content/sample_data/triangle/30.png (deflated 82%)\n",
            "updating: content/sample_data/triangle/340.png (deflated 83%)\n",
            "updating: content/sample_data/triangle/970.png (deflated 83%)\n",
            "updating: content/sample_data/triangle/750.png (deflated 83%)\n",
            "updating: content/sample_data/triangle/640.png (deflated 83%)\n",
            "updating: content/sample_data/triangle/260.png (deflated 83%)\n",
            "updating: content/sample_data/triangle/990.png (deflated 83%)\n",
            "updating: content/sample_data/triangle/10.png (deflated 82%)\n",
            "updating: content/sample_data/triangle/380.png (deflated 83%)\n",
            "updating: content/sample_data/triangle/790.png (deflated 82%)\n",
            "updating: content/sample_data/triangle/1390.png (deflated 82%)\n",
            "updating: content/sample_data/triangle/180.png (deflated 82%)\n",
            "updating: content/sample_data/triangle/330.png (deflated 83%)\n",
            "updating: content/sample_data/triangle/1400.png (deflated 82%)\n",
            "updating: content/sample_data/triangle/1060.png (deflated 83%)\n",
            "updating: content/sample_data/triangle/910.png (deflated 83%)\n",
            "updating: content/sample_data/triangle/730.png (deflated 83%)\n",
            "updating: content/sample_data/triangle/1350.png (deflated 82%)\n",
            "updating: content/sample_data/triangle/510.png (deflated 82%)\n",
            "updating: content/sample_data/triangle/100.png (deflated 83%)\n",
            "updating: content/sample_data/triangle/230.png (deflated 83%)\n",
            "updating: content/sample_data/triangle/890.png (deflated 83%)\n",
            "updating: content/sample_data/triangle/490.png (deflated 82%)\n",
            "updating: content/sample_data/triangle/190.png (deflated 83%)\n",
            "updating: content/sample_data/triangle/710.png (deflated 83%)\n",
            "updating: content/sample_data/triangle/320.png (deflated 83%)\n",
            "updating: content/sample_data/triangle/210.png (deflated 83%)\n",
            "updating: content/sample_data/triangle/120.png (deflated 83%)\n",
            "updating: content/sample_data/triangle/1180.png (deflated 83%)\n",
            "updating: content/sample_data/triangle/1260.png (deflated 83%)\n",
            "updating: content/sample_data/triangle/560.png (deflated 82%)\n",
            "updating: content/sample_data/triangle/500.png (deflated 82%)\n",
            "updating: content/sample_data/triangle/1020.png (deflated 83%)\n",
            "updating: content/sample_data/triangle/900.png (deflated 83%)\n",
            "updating: content/sample_data/triangle/280.png (deflated 82%)\n",
            "updating: content/sample_data/triangle/940.png (deflated 83%)\n",
            "updating: content/sample_data/triangle/950.png (deflated 83%)\n",
            "updating: content/sample_data/triangle/50.png (deflated 83%)\n",
            "updating: content/sample_data/triangle/220.png (deflated 82%)\n",
            "updating: content/sample_data/triangle/410.png (deflated 83%)\n",
            "updating: content/sample_data/triangle/420.png (deflated 83%)\n",
            "updating: content/sample_data/triangle/720.png (deflated 83%)\n",
            "updating: content/sample_data/triangle/610.png (deflated 83%)\n",
            "updating: content/sample_data/triangle/620.png (deflated 83%)\n",
            "updating: content/sample_data/triangle/1230.png (deflated 82%)\n",
            "updating: content/sample_data/triangle/1040.png (deflated 83%)\n",
            "updating: content/sample_data/triangle/270.png (deflated 82%)\n",
            "updating: content/sample_data/triangle/1150.png (deflated 83%)\n",
            "updating: content/sample_data/triangle/350.png (deflated 83%)\n",
            "updating: content/sample_data/triangle/430.png (deflated 83%)\n",
            "updating: content/sample_data/triangle/80.png (deflated 83%)\n",
            "updating: content/sample_data/triangle/1110.png (deflated 83%)\n",
            "updating: content/sample_data/triangle/1420.png (deflated 82%)\n",
            "updating: content/sample_data/triangle/1430.png (deflated 82%)\n",
            "  adding: content/sample_data/triangle/1670.png (deflated 82%)\n",
            "  adding: content/sample_data/triangle/1600.png (deflated 82%)\n",
            "  adding: content/sample_data/triangle/1620.png (deflated 82%)\n",
            "  adding: content/sample_data/triangle/1660.png (deflated 82%)\n",
            "  adding: content/sample_data/triangle/1640.png (deflated 82%)\n",
            "  adding: content/sample_data/triangle/1490.png (deflated 82%)\n",
            "  adding: content/sample_data/triangle/1720.png (deflated 82%)\n",
            "  adding: content/sample_data/triangle/1470.png (deflated 82%)\n",
            "  adding: content/sample_data/triangle/1650.png (deflated 82%)\n",
            "  adding: content/sample_data/triangle/1730.png (deflated 83%)\n",
            "  adding: content/sample_data/triangle/1530.png (deflated 82%)\n",
            "  adding: content/sample_data/triangle/1570.png (deflated 82%)\n",
            "  adding: content/sample_data/triangle/1550.png (deflated 82%)\n",
            "  adding: content/sample_data/triangle/1540.png (deflated 82%)\n",
            "  adding: content/sample_data/triangle/1460.png (deflated 82%)\n",
            "  adding: content/sample_data/triangle/1560.png (deflated 82%)\n",
            "  adding: content/sample_data/triangle/1710.png (deflated 81%)\n",
            "  adding: content/sample_data/triangle/1680.png (deflated 81%)\n",
            "  adding: content/sample_data/triangle/1610.png (deflated 82%)\n",
            "  adding: content/sample_data/triangle/1700.png (deflated 82%)\n",
            "  adding: content/sample_data/triangle/1580.png (deflated 82%)\n",
            "  adding: content/sample_data/triangle/1480.png (deflated 82%)\n",
            "  adding: content/sample_data/triangle/1690.png (deflated 82%)\n",
            "  adding: content/sample_data/triangle/1590.png (deflated 82%)\n",
            "  adding: content/sample_data/triangle/1630.png (deflated 82%)\n",
            "  adding: content/sample_data/triangle/1500.png (deflated 82%)\n",
            "  adding: content/sample_data/triangle/1450.png (deflated 82%)\n",
            "  adding: content/sample_data/triangle/1520.png (deflated 82%)\n",
            "  adding: content/sample_data/triangle/1510.png (deflated 82%)\n",
            "  adding: content/sample_data/triangle/1440.png (deflated 82%)\n"
          ]
        }
      ]
    },
    {
      "cell_type": "code",
      "source": [
        ""
      ],
      "metadata": {
        "id": "yZlv2h0k3w0f"
      },
      "execution_count": null,
      "outputs": []
    },
    {
      "cell_type": "markdown",
      "source": [
        "# Triangle\n"
      ],
      "metadata": {
        "id": "DhxeR6D63xdO"
      }
    },
    {
      "cell_type": "code",
      "source": [
        "world = rgb2gray(cv2.imread('world8.png'))\n",
        "thresh = threshold_otsu(world)\n",
        "world = world > thresh\n",
        "world = 1 - world\n",
        "thinned = thin(world)\n",
        "skel = skeletonize(world)\n",
        "plt.imshow(thinned+world)"
      ],
      "metadata": {
        "colab": {
          "base_uri": "https://localhost:8080/",
          "height": 286
        },
        "outputId": "fd22b3ac-0692-4594-9151-4231d0c06597",
        "id": "G4Eyc7Ca3xdO"
      },
      "execution_count": null,
      "outputs": [
        {
          "output_type": "execute_result",
          "data": {
            "text/plain": [
              "<matplotlib.image.AxesImage at 0x7f7f8a9fcdd0>"
            ]
          },
          "metadata": {},
          "execution_count": 3
        },
        {
          "output_type": "display_data",
          "data": {
            "image/png": "[encoded data removed]",
            "text/plain": [
              "<Figure size 432x288 with 1 Axes>"
            ]
          },
          "metadata": {
            "needs_background": "light"
          }
        }
      ]
    },
    {
      "cell_type": "code",
      "source": [
        "waypoints = [];\n",
        "waypointsR = [];\n",
        "waypointsC = [];\n",
        "for i in range(thinned.shape[0]):\n",
        "  for j in range(thinned.shape[1]):\n",
        "    if thinned[i,j] == True:\n",
        "      waypoints.append([j,thinned.shape[0]-i])\n",
        "      waypointsR.append(j);\n",
        "      waypointsC.append(thinned.shape[0]-i);\n"
      ],
      "metadata": {
        "id": "1gK-yd6c3xdO"
      },
      "execution_count": null,
      "outputs": []
    },
    {
      "cell_type": "code",
      "source": [
        "len(waypoints)"
      ],
      "metadata": {
        "colab": {
          "base_uri": "https://localhost:8080/"
        },
        "outputId": "42aaf33d-655d-465d-b032-714c59bdc342",
        "id": "_8y_25t43xdP"
      },
      "execution_count": null,
      "outputs": [
        {
          "output_type": "execute_result",
          "data": {
            "text/plain": [
              "1633"
            ]
          },
          "metadata": {},
          "execution_count": 5
        }
      ]
    },
    {
      "cell_type": "code",
      "source": [
        "plt.scatter(waypointsR,waypointsC)"
      ],
      "metadata": {
        "id": "KEC8Cg4j3xdP"
      },
      "execution_count": null,
      "outputs": []
    },
    {
      "cell_type": "code",
      "source": [
        "start = waypoints[0]\n",
        "Currentloc = []\n",
        "tree = {}\n",
        "for i in range(len(waypoints)):\n",
        "  x = waypoints[i][0]\n",
        "  y = waypoints[i][1]\n",
        "  neighbours = []\n",
        "  for j in range(len(waypoints)):\n",
        "    x_new = waypoints[j][0]\n",
        "    y_new = waypoints[j][1]\n",
        "    #              left                        right                 \n",
        "    if ((x == x_new + 1) and (y == y_new)) or ((x == x_new -1) and (y == y_new)) or ((x == x_new) and (y == y_new +1)) or ((x == x_new) and (y == y_new - 1)) or ((x == x_new+1) and (y == y_new+1)) or ((x == x_new - 1) and (y == y_new - 1)) or ((x == x_new+1) and (y == y_new-1)) or ((x == x_new - 1) and (y == y_new + 1)):\n",
        "      neighbours.append(waypoints[j])\n",
        "      #print(neighbours)\n",
        "  tree[str(waypoints[i])]  = neighbours\n",
        "\n"
      ],
      "metadata": {
        "id": "CRXAGmi33xdP"
      },
      "execution_count": null,
      "outputs": []
    },
    {
      "cell_type": "code",
      "source": [
        "tree"
      ],
      "metadata": {
        "colab": {
          "base_uri": "https://localhost:8080/"
        },
        "outputId": "3a5e9928-b3c7-4af8-da9c-14786acb4ec0",
        "id": "AIb1_Ugz3xdP"
      },
      "execution_count": null,
      "outputs": [
        {
          "output_type": "execute_result",
          "data": {
            "text/plain": [
              "{'[78, 415]': [[79, 415], [77, 414]],\n",
              " '[79, 415]': [[78, 415], [80, 415]],\n",
              " '[80, 415]': [[79, 415], [81, 415]],\n",
              " '[81, 415]': [[80, 415], [82, 415]],\n",
              " '[82, 415]': [[81, 415], [83, 415]],\n",
              " '[83, 415]': [[82, 415], [84, 415]],\n",
              " '[84, 415]': [[83, 415], [85, 415]],\n",
              " '[85, 415]': [[84, 415], [86, 415]],\n",
              " '[86, 415]': [[85, 415], [87, 415]],\n",
              " '[87, 415]': [[86, 415], [88, 415]],\n",
              " '[88, 415]': [[87, 415], [89, 415]],\n",
              " '[89, 415]': [[88, 415], [90, 415]],\n",
              " '[90, 415]': [[89, 415], [91, 415]],\n",
              " '[91, 415]': [[90, 415], [92, 415]],\n",
              " '[92, 415]': [[91, 415], [93, 415]],\n",
              " '[93, 415]': [[92, 415], [94, 415]],\n",
              " '[94, 415]': [[93, 415], [95, 415]],\n",
              " '[95, 415]': [[94, 415], [96, 415]],\n",
              " '[96, 415]': [[95, 415], [97, 415]],\n",
              " '[97, 415]': [[96, 415], [98, 415]],\n",
              " '[98, 415]': [[97, 415], [99, 415]],\n",
              " '[99, 415]': [[98, 415], [100, 415]],\n",
              " '[100, 415]': [[99, 415], [101, 415]],\n",
              " '[101, 415]': [[100, 415], [102, 415]],\n",
              " '[102, 415]': [[101, 415], [103, 415]],\n",
              " '[103, 415]': [[102, 415], [104, 415]],\n",
              " '[104, 415]': [[103, 415], [105, 415]],\n",
              " '[105, 415]': [[104, 415], [106, 415]],\n",
              " '[106, 415]': [[105, 415], [107, 415]],\n",
              " '[107, 415]': [[106, 415], [108, 415]],\n",
              " '[108, 415]': [[107, 415], [109, 415]],\n",
              " '[109, 415]': [[108, 415], [110, 415]],\n",
              " '[110, 415]': [[109, 415], [111, 415]],\n",
              " '[111, 415]': [[110, 415], [112, 415]],\n",
              " '[112, 415]': [[111, 415], [113, 415]],\n",
              " '[113, 415]': [[112, 415], [114, 415]],\n",
              " '[114, 415]': [[113, 415], [115, 415]],\n",
              " '[115, 415]': [[114, 415], [116, 415]],\n",
              " '[116, 415]': [[115, 415], [117, 415]],\n",
              " '[117, 415]': [[116, 415], [118, 415]],\n",
              " '[118, 415]': [[117, 415], [119, 415]],\n",
              " '[119, 415]': [[118, 415], [120, 415]],\n",
              " '[120, 415]': [[119, 415], [121, 415]],\n",
              " '[121, 415]': [[120, 415], [122, 415]],\n",
              " '[122, 415]': [[121, 415], [123, 415]],\n",
              " '[123, 415]': [[122, 415], [124, 415]],\n",
              " '[124, 415]': [[123, 415], [125, 415]],\n",
              " '[125, 415]': [[124, 415], [126, 415]],\n",
              " '[126, 415]': [[125, 415], [127, 415]],\n",
              " '[127, 415]': [[126, 415], [128, 415]],\n",
              " '[128, 415]': [[127, 415], [129, 415]],\n",
              " '[129, 415]': [[128, 415], [130, 415]],\n",
              " '[130, 415]': [[129, 415], [131, 415]],\n",
              " '[131, 415]': [[130, 415], [132, 415]],\n",
              " '[132, 415]': [[131, 415], [133, 415]],\n",
              " '[133, 415]': [[132, 415], [134, 415]],\n",
              " '[134, 415]': [[133, 415], [135, 415]],\n",
              " '[135, 415]': [[134, 415], [136, 415]],\n",
              " '[136, 415]': [[135, 415], [137, 415]],\n",
              " '[137, 415]': [[136, 415], [138, 415]],\n",
              " '[138, 415]': [[137, 415], [139, 415]],\n",
              " '[139, 415]': [[138, 415], [140, 415]],\n",
              " '[140, 415]': [[139, 415], [141, 415]],\n",
              " '[141, 415]': [[140, 415], [142, 415]],\n",
              " '[142, 415]': [[141, 415], [143, 415]],\n",
              " '[143, 415]': [[142, 415], [144, 415]],\n",
              " '[144, 415]': [[143, 415], [145, 415]],\n",
              " '[145, 415]': [[144, 415], [146, 415]],\n",
              " '[146, 415]': [[145, 415], [147, 415]],\n",
              " '[147, 415]': [[146, 415], [148, 415]],\n",
              " '[148, 415]': [[147, 415], [149, 415]],\n",
              " '[149, 415]': [[148, 415], [150, 415]],\n",
              " '[150, 415]': [[149, 415], [151, 415]],\n",
              " '[151, 415]': [[150, 415], [152, 415]],\n",
              " '[152, 415]': [[151, 415], [153, 415]],\n",
              " '[153, 415]': [[152, 415], [154, 415]],\n",
              " '[154, 415]': [[153, 415], [155, 415]],\n",
              " '[155, 415]': [[154, 415], [156, 415]],\n",
              " '[156, 415]': [[155, 415], [157, 415]],\n",
              " '[157, 415]': [[156, 415], [158, 415]],\n",
              " '[158, 415]': [[157, 415], [159, 414]],\n",
              " '[352, 415]': [[353, 415], [351, 414]],\n",
              " '[353, 415]': [[352, 415], [354, 415]],\n",
              " '[354, 415]': [[353, 415], [355, 415]],\n",
              " '[355, 415]': [[354, 415], [356, 415]],\n",
              " '[356, 415]': [[355, 415], [357, 415]],\n",
              " '[357, 415]': [[356, 415], [358, 415]],\n",
              " '[358, 415]': [[357, 415], [359, 415]],\n",
              " '[359, 415]': [[358, 415], [360, 415]],\n",
              " '[360, 415]': [[359, 415], [361, 415]],\n",
              " '[361, 415]': [[360, 415], [362, 415]],\n",
              " '[362, 415]': [[361, 415], [363, 415]],\n",
              " '[363, 415]': [[362, 415], [364, 415]],\n",
              " '[364, 415]': [[363, 415], [365, 415]],\n",
              " '[365, 415]': [[364, 415], [366, 415]],\n",
              " '[366, 415]': [[365, 415], [367, 415]],\n",
              " '[367, 415]': [[366, 415], [368, 415]],\n",
              " '[368, 415]': [[367, 415], [369, 415]],\n",
              " '[369, 415]': [[368, 415], [370, 415]],\n",
              " '[370, 415]': [[369, 415], [371, 415]],\n",
              " '[371, 415]': [[370, 415], [372, 415]],\n",
              " '[372, 415]': [[371, 415], [373, 415]],\n",
              " '[373, 415]': [[372, 415], [374, 415]],\n",
              " '[374, 415]': [[373, 415], [375, 415]],\n",
              " '[375, 415]': [[374, 415], [376, 415]],\n",
              " '[376, 415]': [[375, 415], [377, 415]],\n",
              " '[377, 415]': [[376, 415], [378, 415]],\n",
              " '[378, 415]': [[377, 415], [379, 415]],\n",
              " '[379, 415]': [[378, 415], [380, 415]],\n",
              " '[380, 415]': [[379, 415], [381, 415]],\n",
              " '[381, 415]': [[380, 415], [382, 415]],\n",
              " '[382, 415]': [[381, 415], [383, 415]],\n",
              " '[383, 415]': [[382, 415], [384, 415]],\n",
              " '[384, 415]': [[383, 415], [385, 415]],\n",
              " '[385, 415]': [[384, 415], [386, 415]],\n",
              " '[386, 415]': [[385, 415], [387, 415]],\n",
              " '[387, 415]': [[386, 415], [388, 415]],\n",
              " '[388, 415]': [[387, 415], [389, 415]],\n",
              " '[389, 415]': [[388, 415], [390, 415]],\n",
              " '[390, 415]': [[389, 415], [391, 415]],\n",
              " '[391, 415]': [[390, 415], [392, 415]],\n",
              " '[392, 415]': [[391, 415], [393, 415]],\n",
              " '[393, 415]': [[392, 415], [394, 415]],\n",
              " '[394, 415]': [[393, 415], [395, 415]],\n",
              " '[395, 415]': [[394, 415], [396, 415]],\n",
              " '[396, 415]': [[395, 415], [397, 415]],\n",
              " '[397, 415]': [[396, 415], [398, 415]],\n",
              " '[398, 415]': [[397, 415], [399, 415]],\n",
              " '[399, 415]': [[398, 415], [400, 415]],\n",
              " '[400, 415]': [[399, 415], [401, 415]],\n",
              " '[401, 415]': [[400, 415], [402, 415]],\n",
              " '[402, 415]': [[401, 415], [403, 415]],\n",
              " '[403, 415]': [[402, 415], [404, 415]],\n",
              " '[404, 415]': [[403, 415], [405, 415]],\n",
              " '[405, 415]': [[404, 415], [406, 415]],\n",
              " '[406, 415]': [[405, 415], [407, 415]],\n",
              " '[407, 415]': [[406, 415], [408, 415]],\n",
              " '[408, 415]': [[407, 415], [409, 415]],\n",
              " '[409, 415]': [[408, 415], [410, 415]],\n",
              " '[410, 415]': [[409, 415], [411, 414]],\n",
              " '[77, 414]': [[78, 415], [76, 413]],\n",
              " '[159, 414]': [[158, 415], [160, 414]],\n",
              " '[160, 414]': [[159, 414], [161, 413]],\n",
              " '[351, 414]': [[352, 415], [351, 413]],\n",
              " '[411, 414]': [[410, 415], [412, 414]],\n",
              " '[412, 414]': [[411, 414], [413, 413]],\n",
              " '[76, 413]': [[77, 414], [75, 412]],\n",
              " '[161, 413]': [[160, 414], [162, 413]],\n",
              " '[162, 413]': [[161, 413], [163, 412]],\n",
              " '[351, 413]': [[351, 414], [350, 412]],\n",
              " '[413, 413]': [[412, 414], [414, 412]],\n",
              " '[75, 412]': [[76, 413], [74, 411]],\n",
              " '[163, 412]': [[162, 413], [163, 411]],\n",
              " '[350, 412]': [[351, 413], [350, 411]],\n",
              " '[414, 412]': [[413, 413], [414, 411]],\n",
              " '[74, 411]': [[75, 412], [73, 410]],\n",
              " '[163, 411]': [[163, 412], [164, 410]],\n",
              " '[350, 411]': [[350, 412], [349, 410]],\n",
              " '[414, 411]': [[414, 412], [415, 410]],\n",
              " '[73, 410]': [[74, 411], [72, 409]],\n",
              " '[164, 410]': [[163, 411], [164, 409]],\n",
              " '[349, 410]': [[350, 411], [349, 409]],\n",
              " '[415, 410]': [[414, 411], [415, 409]],\n",
              " '[72, 409]': [[73, 410], [71, 408]],\n",
              " '[164, 409]': [[164, 410], [165, 408]],\n",
              " '[349, 409]': [[349, 410], [348, 408]],\n",
              " '[415, 409]': [[415, 410], [416, 408]],\n",
              " '[71, 408]': [[72, 409], [70, 407]],\n",
              " '[165, 408]': [[164, 409], [165, 407]],\n",
              " '[348, 408]': [[349, 409], [348, 407]],\n",
              " '[416, 408]': [[415, 409], [416, 407]],\n",
              " '[70, 407]': [[71, 408], [69, 406]],\n",
              " '[165, 407]': [[165, 408], [166, 406]],\n",
              " '[348, 407]': [[348, 408], [347, 406]],\n",
              " '[416, 407]': [[416, 408], [417, 406]],\n",
              " '[69, 406]': [[70, 407], [68, 405]],\n",
              " '[166, 406]': [[165, 407], [166, 405]],\n",
              " '[347, 406]': [[348, 407], [347, 405]],\n",
              " '[417, 406]': [[416, 407], [417, 405]],\n",
              " '[68, 405]': [[69, 406], [67, 404]],\n",
              " '[166, 405]': [[166, 406], [167, 404]],\n",
              " '[347, 405]': [[347, 406], [346, 404]],\n",
              " '[417, 405]': [[417, 406], [418, 404]],\n",
              " '[67, 404]': [[68, 405], [66, 403]],\n",
              " '[167, 404]': [[166, 405], [167, 403]],\n",
              " '[346, 404]': [[347, 405], [346, 403]],\n",
              " '[418, 404]': [[417, 405], [418, 403]],\n",
              " '[66, 403]': [[67, 404], [65, 402]],\n",
              " '[167, 403]': [[167, 404], [168, 402]],\n",
              " '[346, 403]': [[346, 404], [345, 402]],\n",
              " '[418, 403]': [[418, 404], [419, 402]],\n",
              " '[65, 402]': [[66, 403], [64, 401]],\n",
              " '[168, 402]': [[167, 403], [168, 401]],\n",
              " '[345, 402]': [[346, 403], [345, 401]],\n",
              " '[419, 402]': [[418, 403], [419, 401]],\n",
              " '[64, 401]': [[65, 402], [63, 400]],\n",
              " '[168, 401]': [[168, 402], [169, 400]],\n",
              " '[345, 401]': [[345, 402], [344, 400]],\n",
              " '[419, 401]': [[419, 402], [420, 400]],\n",
              " '[63, 400]': [[64, 401], [62, 399]],\n",
              " '[169, 400]': [[168, 401], [169, 399]],\n",
              " '[344, 400]': [[345, 401], [344, 399]],\n",
              " '[420, 400]': [[419, 401], [420, 399]],\n",
              " '[62, 399]': [[63, 400], [62, 398]],\n",
              " '[169, 399]': [[169, 400], [170, 398]],\n",
              " '[344, 399]': [[344, 400], [343, 398]],\n",
              " '[420, 399]': [[420, 400], [421, 398]],\n",
              " '[62, 398]': [[62, 399], [61, 397]],\n",
              " '[170, 398]': [[169, 399], [170, 397]],\n",
              " '[343, 398]': [[344, 399], [343, 397]],\n",
              " '[421, 398]': [[420, 399], [421, 397]],\n",
              " '[61, 397]': [[62, 398], [61, 396]],\n",
              " '[170, 397]': [[170, 398], [171, 396]],\n",
              " '[343, 397]': [[343, 398], [342, 396]],\n",
              " '[421, 397]': [[421, 398], [422, 396]],\n",
              " '[61, 396]': [[61, 397], [60, 395]],\n",
              " '[171, 396]': [[170, 397], [171, 395]],\n",
              " '[342, 396]': [[343, 397], [342, 395]],\n",
              " '[422, 396]': [[421, 397], [422, 395]],\n",
              " '[60, 395]': [[61, 396], [60, 394]],\n",
              " '[171, 395]': [[171, 396], [172, 394]],\n",
              " '[342, 395]': [[342, 396], [341, 394]],\n",
              " '[422, 395]': [[422, 396], [423, 394]],\n",
              " '[60, 394]': [[60, 395], [59, 393]],\n",
              " '[172, 394]': [[171, 395], [172, 393]],\n",
              " '[341, 394]': [[342, 395], [341, 393]],\n",
              " '[423, 394]': [[422, 395], [423, 393]],\n",
              " '[59, 393]': [[60, 394], [59, 392]],\n",
              " '[172, 393]': [[172, 394], [173, 392]],\n",
              " '[341, 393]': [[341, 394], [340, 392]],\n",
              " '[423, 393]': [[423, 394], [424, 392]],\n",
              " '[59, 392]': [[59, 393], [58, 391]],\n",
              " '[173, 392]': [[172, 393], [173, 391]],\n",
              " '[340, 392]': [[341, 393], [340, 391]],\n",
              " '[424, 392]': [[423, 393], [424, 391]],\n",
              " '[58, 391]': [[59, 392], [58, 390]],\n",
              " '[173, 391]': [[173, 392], [174, 390]],\n",
              " '[340, 391]': [[340, 392], [339, 390]],\n",
              " '[424, 391]': [[424, 392], [425, 390]],\n",
              " '[58, 390]': [[58, 391], [57, 389]],\n",
              " '[174, 390]': [[173, 391], [174, 389]],\n",
              " '[339, 390]': [[340, 391], [339, 389]],\n",
              " '[425, 390]': [[424, 391], [425, 389]],\n",
              " '[57, 389]': [[58, 390], [57, 388]],\n",
              " '[174, 389]': [[174, 390], [175, 388]],\n",
              " '[339, 389]': [[339, 390], [338, 388]],\n",
              " '[425, 389]': [[425, 390], [426, 388]],\n",
              " '[57, 388]': [[57, 389], [56, 387]],\n",
              " '[175, 388]': [[174, 389], [175, 387]],\n",
              " '[338, 388]': [[339, 389], [338, 387]],\n",
              " '[426, 388]': [[425, 389], [426, 387]],\n",
              " '[56, 387]': [[57, 388], [56, 386]],\n",
              " '[175, 387]': [[175, 388], [176, 386]],\n",
              " '[338, 387]': [[338, 388], [337, 386]],\n",
              " '[426, 387]': [[426, 388], [427, 386]],\n",
              " '[56, 386]': [[56, 387], [55, 385]],\n",
              " '[176, 386]': [[175, 387], [176, 385]],\n",
              " '[337, 386]': [[338, 387], [337, 385]],\n",
              " '[427, 386]': [[426, 387], [427, 385]],\n",
              " '[55, 385]': [[56, 386], [55, 384]],\n",
              " '[176, 385]': [[176, 386], [177, 384]],\n",
              " '[337, 385]': [[337, 386], [336, 384]],\n",
              " '[427, 385]': [[427, 386], [428, 384]],\n",
              " '[55, 384]': [[55, 385], [54, 383]],\n",
              " '[177, 384]': [[176, 385], [177, 383]],\n",
              " '[336, 384]': [[337, 385], [336, 383]],\n",
              " '[428, 384]': [[427, 385], [428, 383]],\n",
              " '[54, 383]': [[55, 384], [54, 382]],\n",
              " '[177, 383]': [[177, 384], [178, 382]],\n",
              " '[336, 383]': [[336, 384], [335, 382]],\n",
              " '[428, 383]': [[428, 384], [429, 382]],\n",
              " '[54, 382]': [[54, 383], [53, 381]],\n",
              " '[178, 382]': [[177, 383], [178, 381]],\n",
              " '[335, 382]': [[336, 383], [335, 381]],\n",
              " '[429, 382]': [[428, 383], [429, 381]],\n",
              " '[53, 381]': [[54, 382], [53, 380]],\n",
              " '[178, 381]': [[178, 382], [179, 380]],\n",
              " '[335, 381]': [[335, 382], [334, 380]],\n",
              " '[429, 381]': [[429, 382], [430, 380]],\n",
              " '[53, 380]': [[53, 381], [52, 379]],\n",
              " '[179, 380]': [[178, 381], [179, 379]],\n",
              " '[334, 380]': [[335, 381], [334, 379]],\n",
              " '[430, 380]': [[429, 381], [430, 379]],\n",
              " '[52, 379]': [[53, 380], [52, 378]],\n",
              " '[179, 379]': [[179, 380], [180, 378]],\n",
              " '[334, 379]': [[334, 380], [333, 378]],\n",
              " '[430, 379]': [[430, 380], [431, 378]],\n",
              " '[52, 378]': [[52, 379], [51, 377]],\n",
              " '[180, 378]': [[179, 379], [180, 377]],\n",
              " '[333, 378]': [[334, 379], [333, 377]],\n",
              " '[431, 378]': [[430, 379], [431, 377]],\n",
              " '[51, 377]': [[52, 378], [51, 376]],\n",
              " '[180, 377]': [[180, 378], [181, 376]],\n",
              " '[333, 377]': [[333, 378], [332, 376]],\n",
              " '[431, 377]': [[431, 378], [432, 376]],\n",
              " '[51, 376]': [[51, 377], [50, 375]],\n",
              " '[181, 376]': [[180, 377], [181, 375]],\n",
              " '[332, 376]': [[333, 377], [332, 375]],\n",
              " '[432, 376]': [[431, 377], [432, 375]],\n",
              " '[50, 375]': [[51, 376], [50, 374]],\n",
              " '[181, 375]': [[181, 376], [182, 374]],\n",
              " '[332, 375]': [[332, 376], [331, 374]],\n",
              " '[432, 375]': [[432, 376], [433, 374]],\n",
              " '[50, 374]': [[50, 375], [49, 373]],\n",
              " '[182, 374]': [[181, 375], [183, 373]],\n",
              " '[331, 374]': [[332, 375], [330, 373]],\n",
              " '[433, 374]': [[432, 375], [433, 373]],\n",
              " '[49, 373]': [[50, 374], [49, 372]],\n",
              " '[183, 373]': [[182, 374], [184, 372]],\n",
              " '[330, 373]': [[331, 374], [329, 372]],\n",
              " '[433, 373]': [[433, 374], [434, 372]],\n",
              " '[49, 372]': [[49, 373], [48, 371]],\n",
              " '[184, 372]': [[183, 373], [185, 371]],\n",
              " '[329, 372]': [[330, 373], [328, 371]],\n",
              " '[434, 372]': [[433, 373], [434, 371]],\n",
              " '[48, 371]': [[49, 372], [48, 370]],\n",
              " '[185, 371]': [[184, 372], [186, 370]],\n",
              " '[328, 371]': [[329, 372], [327, 370]],\n",
              " '[434, 371]': [[434, 372], [435, 370]],\n",
              " '[48, 370]': [[48, 371], [47, 369]],\n",
              " '[186, 370]': [[185, 371], [187, 369]],\n",
              " '[327, 370]': [[328, 371], [326, 369]],\n",
              " '[435, 370]': [[434, 371], [435, 369]],\n",
              " '[47, 369]': [[48, 370], [47, 368]],\n",
              " '[187, 369]': [[186, 370], [188, 368]],\n",
              " '[326, 369]': [[327, 370], [325, 368]],\n",
              " '[435, 369]': [[435, 370], [436, 368]],\n",
              " '[47, 368]': [[47, 369], [46, 367]],\n",
              " '[188, 368]': [[187, 369], [189, 367]],\n",
              " '[325, 368]': [[326, 369], [324, 367]],\n",
              " '[436, 368]': [[435, 369], [436, 367]],\n",
              " '[46, 367]': [[47, 368], [46, 366]],\n",
              " '[189, 367]': [[188, 368], [190, 366]],\n",
              " '[324, 367]': [[325, 368], [323, 366]],\n",
              " '[436, 367]': [[436, 368], [437, 366]],\n",
              " '[46, 366]': [[46, 367], [45, 365]],\n",
              " '[190, 366]': [[189, 367], [191, 365]],\n",
              " '[323, 366]': [[324, 367], [322, 365]],\n",
              " '[437, 366]': [[436, 367], [437, 365]],\n",
              " '[45, 365]': [[46, 366], [45, 364]],\n",
              " '[191, 365]': [[190, 366], [192, 364]],\n",
              " '[322, 365]': [[323, 366], [321, 364]],\n",
              " '[437, 365]': [[437, 366], [438, 364]],\n",
              " '[45, 364]': [[45, 365], [44, 363]],\n",
              " '[192, 364]': [[191, 365], [193, 363]],\n",
              " '[321, 364]': [[322, 365], [320, 363]],\n",
              " '[438, 364]': [[437, 365], [438, 363]],\n",
              " '[44, 363]': [[45, 364], [44, 362]],\n",
              " '[193, 363]': [[192, 364], [194, 362]],\n",
              " '[320, 363]': [[321, 364], [319, 362]],\n",
              " '[438, 363]': [[438, 364], [439, 362]],\n",
              " '[44, 362]': [[44, 363], [43, 361]],\n",
              " '[194, 362]': [[193, 363], [195, 361]],\n",
              " '[319, 362]': [[320, 363], [318, 361]],\n",
              " '[439, 362]': [[438, 363], [439, 361]],\n",
              " '[43, 361]': [[44, 362], [43, 360]],\n",
              " '[195, 361]': [[194, 362], [196, 360]],\n",
              " '[318, 361]': [[319, 362], [317, 360]],\n",
              " '[439, 361]': [[439, 362], [440, 360]],\n",
              " '[43, 360]': [[43, 361], [43, 359]],\n",
              " '[196, 360]': [[195, 361], [196, 359]],\n",
              " '[317, 360]': [[318, 361], [317, 359]],\n",
              " '[440, 360]': [[439, 361], [440, 359]],\n",
              " '[43, 359]': [[43, 360], [43, 358]],\n",
              " '[196, 359]': [[196, 360], [197, 358]],\n",
              " '[317, 359]': [[317, 360], [316, 358]],\n",
              " '[440, 359]': [[440, 360], [440, 358]],\n",
              " '[43, 358]': [[43, 359], [43, 357]],\n",
              " '[197, 358]': [[196, 359], [197, 357]],\n",
              " '[316, 358]': [[317, 359], [316, 357]],\n",
              " '[440, 358]': [[440, 359], [440, 357]],\n",
              " '[43, 357]': [[43, 358], [43, 356]],\n",
              " '[197, 357]': [[197, 358], [198, 356]],\n",
              " '[316, 357]': [[316, 358], [315, 356]],\n",
              " '[440, 357]': [[440, 358], [440, 356]],\n",
              " '[43, 356]': [[43, 357], [43, 355]],\n",
              " '[198, 356]': [[197, 357], [198, 355]],\n",
              " '[315, 356]': [[316, 357], [315, 355]],\n",
              " '[440, 356]': [[440, 357], [440, 355]],\n",
              " '[43, 355]': [[43, 356], [43, 354]],\n",
              " '[198, 355]': [[198, 356], [199, 354]],\n",
              " '[315, 355]': [[315, 356], [314, 354]],\n",
              " '[440, 355]': [[440, 356], [440, 354]],\n",
              " '[43, 354]': [[43, 355], [43, 353]],\n",
              " '[199, 354]': [[198, 355], [199, 353]],\n",
              " '[314, 354]': [[315, 355], [314, 353]],\n",
              " '[440, 354]': [[440, 355], [440, 353]],\n",
              " '[43, 353]': [[43, 354], [43, 352]],\n",
              " '[199, 353]': [[199, 354], [200, 352]],\n",
              " '[314, 353]': [[314, 354], [313, 352]],\n",
              " '[440, 353]': [[440, 354], [440, 352]],\n",
              " '[43, 352]': [[43, 353], [43, 351]],\n",
              " '[200, 352]': [[199, 353], [200, 351]],\n",
              " '[313, 352]': [[314, 353], [313, 351]],\n",
              " '[440, 352]': [[440, 353], [440, 351]],\n",
              " '[43, 351]': [[43, 352], [43, 350]],\n",
              " '[200, 351]': [[200, 352], [201, 350]],\n",
              " '[313, 351]': [[313, 352], [312, 350]],\n",
              " '[440, 351]': [[440, 352], [440, 350]],\n",
              " '[43, 350]': [[43, 351], [43, 349]],\n",
              " '[201, 350]': [[200, 351], [201, 349]],\n",
              " '[312, 350]': [[313, 351], [312, 349]],\n",
              " '[440, 350]': [[440, 351], [440, 349]],\n",
              " '[43, 349]': [[43, 350], [43, 348]],\n",
              " '[201, 349]': [[201, 350], [202, 348]],\n",
              " '[312, 349]': [[312, 350], [311, 348]],\n",
              " '[440, 349]': [[440, 350], [440, 348]],\n",
              " '[43, 348]': [[43, 349], [43, 347]],\n",
              " '[202, 348]': [[201, 349], [202, 347]],\n",
              " '[311, 348]': [[312, 349], [311, 347]],\n",
              " '[440, 348]': [[440, 349], [440, 347]],\n",
              " '[43, 347]': [[43, 348], [43, 346]],\n",
              " '[202, 347]': [[202, 348], [203, 346]],\n",
              " '[311, 347]': [[311, 348], [310, 346]],\n",
              " '[440, 347]': [[440, 348], [440, 346]],\n",
              " '[43, 346]': [[43, 347], [43, 345]],\n",
              " '[203, 346]': [[202, 347], [204, 345]],\n",
              " '[310, 346]': [[311, 347], [310, 345]],\n",
              " '[440, 346]': [[440, 347], [440, 345]],\n",
              " '[43, 345]': [[43, 346], [43, 344]],\n",
              " '[204, 345]': [[203, 346], [205, 344]],\n",
              " '[310, 345]': [[310, 346], [309, 344]],\n",
              " '[440, 345]': [[440, 346], [440, 344]],\n",
              " '[43, 344]': [[43, 345], [43, 343]],\n",
              " '[205, 344]': [[204, 345], [206, 344]],\n",
              " '[206, 344]': [[205, 344], [207, 343]],\n",
              " '[309, 344]': [[310, 345], [308, 343]],\n",
              " '[440, 344]': [[440, 345], [440, 343]],\n",
              " '[43, 343]': [[43, 344], [43, 342]],\n",
              " '[207, 343]': [[206, 344], [208, 343]],\n",
              " '[208, 343]': [[207, 343], [209, 342]],\n",
              " '[308, 343]': [[309, 344], [307, 342]],\n",
              " '[440, 343]': [[440, 344], [441, 342]],\n",
              " '[43, 342]': [[43, 343], [43, 341]],\n",
              " '[209, 342]': [[208, 343], [210, 342]],\n",
              " '[210, 342]': [[209, 342], [211, 341]],\n",
              " '[306, 342]': [[307, 342], [305, 341]],\n",
              " '[307, 342]': [[308, 343], [306, 342]],\n",
              " '[441, 342]': [[440, 343], [441, 341]],\n",
              " '[43, 341]': [[43, 342], [43, 340]],\n",
              " '[211, 341]': [[210, 342], [212, 341]],\n",
              " '[212, 341]': [[211, 341], [213, 340]],\n",
              " '[304, 341]': [[305, 341], [303, 340]],\n",
              " '[305, 341]': [[306, 342], [304, 341]],\n",
              " '[441, 341]': [[441, 342], [441, 340]],\n",
              " '[43, 340]': [[43, 341], [43, 339]],\n",
              " '[213, 340]': [[212, 341], [214, 340]],\n",
              " '[214, 340]': [[213, 340], [215, 339]],\n",
              " '[302, 340]': [[303, 340], [301, 339]],\n",
              " '[303, 340]': [[304, 341], [302, 340]],\n",
              " '[441, 340]': [[441, 341], [441, 339]],\n",
              " '[43, 339]': [[43, 340], [43, 338]],\n",
              " '[215, 339]': [[214, 340], [216, 339]],\n",
              " '[216, 339]': [[215, 339], [217, 338]],\n",
              " '[300, 339]': [[301, 339], [299, 338]],\n",
              " '[301, 339]': [[302, 340], [300, 339]],\n",
              " '[441, 339]': [[441, 340], [441, 338]],\n",
              " '[43, 338]': [[43, 339], [43, 337]],\n",
              " '[217, 338]': [[216, 339], [218, 338]],\n",
              " '[218, 338]': [[217, 338], [219, 337]],\n",
              " '[298, 338]': [[299, 338], [297, 337]],\n",
              " '[299, 338]': [[300, 339], [298, 338]],\n",
              " '[441, 338]': [[441, 339], [441, 337]],\n",
              " '[43, 337]': [[43, 338], [43, 336]],\n",
              " '[219, 337]': [[218, 338], [220, 337]],\n",
              " '[220, 337]': [[219, 337], [221, 337]],\n",
              " '[221, 337]': [[220, 337], [222, 337]],\n",
              " '[222, 337]': [[221, 337], [223, 337]],\n",
              " '[223, 337]': [[222, 337], [224, 337]],\n",
              " '[224, 337]': [[223, 337], [225, 337]],\n",
              " '[225, 337]': [[224, 337], [226, 337]],\n",
              " '[226, 337]': [[225, 337], [227, 337]],\n",
              " '[227, 337]': [[226, 337], [228, 337]],\n",
              " '[228, 337]': [[227, 337], [229, 337]],\n",
              " '[229, 337]': [[228, 337], [230, 337]],\n",
              " '[230, 337]': [[229, 337], [231, 337]],\n",
              " '[231, 337]': [[230, 337], [232, 337]],\n",
              " '[232, 337]': [[231, 337], [233, 337]],\n",
              " '[233, 337]': [[232, 337], [234, 337]],\n",
              " '[234, 337]': [[233, 337], [235, 337]],\n",
              " '[235, 337]': [[234, 337], [236, 337]],\n",
              " '[236, 337]': [[235, 337], [237, 337]],\n",
              " '[237, 337]': [[236, 337], [238, 337]],\n",
              " '[238, 337]': [[237, 337], [239, 337]],\n",
              " '[239, 337]': [[238, 337], [240, 337]],\n",
              " '[240, 337]': [[239, 337], [241, 337]],\n",
              " '[241, 337]': [[240, 337], [242, 337]],\n",
              " '[242, 337]': [[241, 337], [243, 337]],\n",
              " '[243, 337]': [[242, 337], [244, 337]],\n",
              " '[244, 337]': [[243, 337], [245, 337]],\n",
              " '[245, 337]': [[244, 337], [246, 337]],\n",
              " '[246, 337]': [[245, 337], [247, 337]],\n",
              " '[247, 337]': [[246, 337], [248, 337]],\n",
              " '[248, 337]': [[247, 337], [249, 337]],\n",
              " '[249, 337]': [[248, 337], [250, 337]],\n",
              " '[250, 337]': [[249, 337], [251, 337]],\n",
              " '[251, 337]': [[250, 337], [252, 337]],\n",
              " '[252, 337]': [[251, 337], [253, 337]],\n",
              " '[253, 337]': [[252, 337], [254, 337]],\n",
              " '[254, 337]': [[253, 337], [255, 337]],\n",
              " '[255, 337]': [[254, 337], [256, 337]],\n",
              " '[256, 337]': [[255, 337], [257, 337]],\n",
              " '[257, 337]': [[256, 337], [258, 337]],\n",
              " '[258, 337]': [[257, 337], [259, 337]],\n",
              " '[259, 337]': [[258, 337], [260, 337]],\n",
              " '[260, 337]': [[259, 337], [261, 337]],\n",
              " '[261, 337]': [[260, 337], [262, 337]],\n",
              " '[262, 337]': [[261, 337], [263, 337]],\n",
              " '[263, 337]': [[262, 337], [264, 337]],\n",
              " '[264, 337]': [[263, 337], [265, 337]],\n",
              " '[265, 337]': [[264, 337], [266, 337]],\n",
              " '[266, 337]': [[265, 337], [267, 337]],\n",
              " '[267, 337]': [[266, 337], [268, 337]],\n",
              " '[268, 337]': [[267, 337], [269, 337]],\n",
              " '[269, 337]': [[268, 337], [270, 337]],\n",
              " '[270, 337]': [[269, 337], [271, 337]],\n",
              " '[271, 337]': [[270, 337], [272, 337]],\n",
              " '[272, 337]': [[271, 337], [273, 337]],\n",
              " '[273, 337]': [[272, 337], [274, 337]],\n",
              " '[274, 337]': [[273, 337], [275, 337]],\n",
              " '[275, 337]': [[274, 337], [276, 337]],\n",
              " '[276, 337]': [[275, 337], [277, 337]],\n",
              " '[277, 337]': [[276, 337], [278, 337]],\n",
              " '[278, 337]': [[277, 337], [279, 337]],\n",
              " '[279, 337]': [[278, 337], [280, 337]],\n",
              " '[280, 337]': [[279, 337], [281, 337]],\n",
              " '[281, 337]': [[280, 337], [282, 337]],\n",
              " '[282, 337]': [[281, 337], [283, 337]],\n",
              " '[283, 337]': [[282, 337], [284, 337]],\n",
              " '[284, 337]': [[283, 337], [285, 337]],\n",
              " '[285, 337]': [[284, 337], [286, 337]],\n",
              " '[286, 337]': [[285, 337], [287, 337]],\n",
              " '[287, 337]': [[286, 337], [288, 337]],\n",
              " '[288, 337]': [[287, 337], [289, 337]],\n",
              " '[289, 337]': [[288, 337], [290, 337]],\n",
              " '[290, 337]': [[289, 337], [291, 337]],\n",
              " '[291, 337]': [[290, 337], [292, 337]],\n",
              " '[292, 337]': [[291, 337], [293, 337]],\n",
              " '[293, 337]': [[292, 337], [294, 337]],\n",
              " '[294, 337]': [[293, 337], [295, 337]],\n",
              " '[295, 337]': [[294, 337], [296, 337]],\n",
              " '[296, 337]': [[295, 337], [297, 337]],\n",
              " '[297, 337]': [[298, 338], [296, 337]],\n",
              " '[441, 337]': [[441, 338], [441, 336]],\n",
              " '[43, 336]': [[43, 337], [43, 335]],\n",
              " '[441, 336]': [[441, 337], [441, 335]],\n",
              " '[43, 335]': [[43, 336], [43, 334]],\n",
              " '[441, 335]': [[441, 336], [441, 334]],\n",
              " '[43, 334]': [[43, 335], [43, 333]],\n",
              " '[441, 334]': [[441, 335], [441, 333]],\n",
              " '[43, 333]': [[43, 334], [43, 332]],\n",
              " '[441, 333]': [[441, 334], [441, 332]],\n",
              " '[43, 332]': [[43, 333], [43, 331]],\n",
              " '[441, 332]': [[441, 333], [441, 331]],\n",
              " '[43, 331]': [[43, 332], [43, 330]],\n",
              " '[441, 331]': [[441, 332], [441, 330]],\n",
              " '[43, 330]': [[43, 331], [43, 329]],\n",
              " '[441, 330]': [[441, 331], [441, 329]],\n",
              " '[43, 329]': [[43, 330], [43, 328]],\n",
              " '[441, 329]': [[441, 330], [441, 328]],\n",
              " '[43, 328]': [[43, 329], [43, 327]],\n",
              " '[441, 328]': [[441, 329], [441, 327]],\n",
              " '[43, 327]': [[43, 328], [43, 326]],\n",
              " '[441, 327]': [[441, 328], [441, 326]],\n",
              " '[43, 326]': [[43, 327], [43, 325]],\n",
              " '[441, 326]': [[441, 327], [441, 325]],\n",
              " '[43, 325]': [[43, 326], [43, 324]],\n",
              " '[441, 325]': [[441, 326], [441, 324]],\n",
              " '[43, 324]': [[43, 325], [43, 323]],\n",
              " '[441, 324]': [[441, 325], [441, 323]],\n",
              " '[43, 323]': [[43, 324], [43, 322]],\n",
              " '[441, 323]': [[441, 324], [441, 322]],\n",
              " '[43, 322]': [[43, 323], [43, 321]],\n",
              " '[441, 322]': [[441, 323], [441, 321]],\n",
              " '[43, 321]': [[43, 322], [43, 320]],\n",
              " '[441, 321]': [[441, 322], [441, 320]],\n",
              " '[43, 320]': [[43, 321], [43, 319]],\n",
              " '[441, 320]': [[441, 321], [441, 319]],\n",
              " '[43, 319]': [[43, 320], [43, 318]],\n",
              " '[441, 319]': [[441, 320], [441, 318]],\n",
              " '[43, 318]': [[43, 319], [43, 317]],\n",
              " '[441, 318]': [[441, 319], [441, 317]],\n",
              " '[43, 317]': [[43, 318], [43, 316]],\n",
              " '[441, 317]': [[441, 318], [441, 316]],\n",
              " '[43, 316]': [[43, 317], [43, 315]],\n",
              " '[441, 316]': [[441, 317], [441, 315]],\n",
              " '[43, 315]': [[43, 316], [43, 314]],\n",
              " '[441, 315]': [[441, 316], [441, 314]],\n",
              " '[43, 314]': [[43, 315], [43, 313]],\n",
              " '[441, 314]': [[441, 315], [441, 313]],\n",
              " '[43, 313]': [[43, 314], [43, 312]],\n",
              " '[441, 313]': [[441, 314], [441, 312]],\n",
              " '[43, 312]': [[43, 313], [43, 311]],\n",
              " '[441, 312]': [[441, 313], [441, 311]],\n",
              " '[43, 311]': [[43, 312], [43, 310]],\n",
              " '[441, 311]': [[441, 312], [441, 310]],\n",
              " '[43, 310]': [[43, 311], [43, 309]],\n",
              " '[441, 310]': [[441, 311], [441, 309]],\n",
              " '[43, 309]': [[43, 310], [43, 308]],\n",
              " '[441, 309]': [[441, 310], [441, 308]],\n",
              " '[43, 308]': [[43, 309], [43, 307]],\n",
              " '[441, 308]': [[441, 309], [441, 307]],\n",
              " '[43, 307]': [[43, 308], [43, 306]],\n",
              " '[441, 307]': [[441, 308], [441, 306]],\n",
              " '[43, 306]': [[43, 307], [43, 305]],\n",
              " '[441, 306]': [[441, 307], [441, 305]],\n",
              " '[43, 305]': [[43, 306], [43, 304]],\n",
              " '[441, 305]': [[441, 306], [441, 304]],\n",
              " '[43, 304]': [[43, 305], [43, 303]],\n",
              " '[441, 304]': [[441, 305], [441, 303]],\n",
              " '[43, 303]': [[43, 304], [43, 302]],\n",
              " '[441, 303]': [[441, 304], [441, 302]],\n",
              " '[43, 302]': [[43, 303], [43, 301]],\n",
              " '[441, 302]': [[441, 303], [441, 301]],\n",
              " '[43, 301]': [[43, 302], [43, 300]],\n",
              " '[441, 301]': [[441, 302], [441, 300]],\n",
              " '[43, 300]': [[43, 301], [43, 299]],\n",
              " '[441, 300]': [[441, 301], [441, 299]],\n",
              " '[43, 299]': [[43, 300], [43, 298]],\n",
              " '[441, 299]': [[441, 300], [441, 298]],\n",
              " '[43, 298]': [[43, 299], [43, 297]],\n",
              " '[441, 298]': [[441, 299], [441, 297]],\n",
              " '[43, 297]': [[43, 298], [43, 296]],\n",
              " '[441, 297]': [[441, 298], [441, 296]],\n",
              " '[43, 296]': [[43, 297], [43, 295]],\n",
              " '[441, 296]': [[441, 297], [441, 295]],\n",
              " '[43, 295]': [[43, 296], [43, 294]],\n",
              " '[441, 295]': [[441, 296], [441, 294]],\n",
              " '[43, 294]': [[43, 295], [43, 293]],\n",
              " '[441, 294]': [[441, 295], [441, 293]],\n",
              " '[43, 293]': [[43, 294], [43, 292]],\n",
              " '[441, 293]': [[441, 294], [441, 292]],\n",
              " '[43, 292]': [[43, 293], [43, 291]],\n",
              " '[441, 292]': [[441, 293], [441, 291]],\n",
              " '[43, 291]': [[43, 292], [43, 290]],\n",
              " '[441, 291]': [[441, 292], [441, 290]],\n",
              " '[43, 290]': [[43, 291], [43, 289]],\n",
              " '[441, 290]': [[441, 291], [441, 289]],\n",
              " '[43, 289]': [[43, 290], [43, 288]],\n",
              " '[441, 289]': [[441, 290], [441, 288]],\n",
              " '[43, 288]': [[43, 289], [43, 287]],\n",
              " '[441, 288]': [[441, 289], [441, 287]],\n",
              " '[43, 287]': [[43, 288], [43, 286]],\n",
              " '[441, 287]': [[441, 288], [441, 286]],\n",
              " '[43, 286]': [[43, 287], [43, 285]],\n",
              " '[441, 286]': [[441, 287], [441, 285]],\n",
              " '[43, 285]': [[43, 286], [43, 284]],\n",
              " '[441, 285]': [[441, 286], [441, 284]],\n",
              " '[43, 284]': [[43, 285], [43, 283]],\n",
              " '[441, 284]': [[441, 285], [441, 283]],\n",
              " '[43, 283]': [[43, 284], [43, 282]],\n",
              " '[441, 283]': [[441, 284], [441, 282]],\n",
              " '[43, 282]': [[43, 283], [43, 281]],\n",
              " '[441, 282]': [[441, 283], [441, 281]],\n",
              " '[43, 281]': [[43, 282], [43, 280]],\n",
              " '[441, 281]': [[441, 282], [441, 280]],\n",
              " '[43, 280]': [[43, 281], [43, 279]],\n",
              " '[441, 280]': [[441, 281], [441, 279]],\n",
              " '[43, 279]': [[43, 280], [43, 278]],\n",
              " '[441, 279]': [[441, 280], [441, 278]],\n",
              " '[43, 278]': [[43, 279], [43, 277]],\n",
              " '[441, 278]': [[441, 279], [441, 277]],\n",
              " '[43, 277]': [[43, 278], [43, 276]],\n",
              " '[441, 277]': [[441, 278], [441, 276]],\n",
              " '[43, 276]': [[43, 277], [43, 275]],\n",
              " '[441, 276]': [[441, 277], [441, 275]],\n",
              " '[43, 275]': [[43, 276], [43, 274]],\n",
              " '[441, 275]': [[441, 276], [441, 274]],\n",
              " '[43, 274]': [[43, 275], [43, 273]],\n",
              " '[441, 274]': [[441, 275], [441, 273]],\n",
              " '[43, 273]': [[43, 274], [43, 272]],\n",
              " '[441, 273]': [[441, 274], [441, 272]],\n",
              " '[43, 272]': [[43, 273], [43, 271]],\n",
              " '[441, 272]': [[441, 273], [441, 271]],\n",
              " '[43, 271]': [[43, 272], [43, 270]],\n",
              " '[441, 271]': [[441, 272], [441, 270]],\n",
              " '[43, 270]': [[43, 271], [43, 269]],\n",
              " '[441, 270]': [[441, 271], [441, 269]],\n",
              " '[43, 269]': [[43, 270], [43, 268]],\n",
              " '[441, 269]': [[441, 270], [441, 268]],\n",
              " '[43, 268]': [[43, 269], [43, 267]],\n",
              " '[441, 268]': [[441, 269], [441, 267]],\n",
              " '[43, 267]': [[43, 268], [43, 266]],\n",
              " '[441, 267]': [[441, 268], [441, 266]],\n",
              " '[43, 266]': [[43, 267], [43, 265]],\n",
              " '[441, 266]': [[441, 267], [441, 265]],\n",
              " '[43, 265]': [[43, 266], [43, 264]],\n",
              " '[441, 265]': [[441, 266], [441, 264]],\n",
              " '[43, 264]': [[43, 265], [43, 263]],\n",
              " '[441, 264]': [[441, 265], [441, 263]],\n",
              " '[43, 263]': [[43, 264], [43, 262]],\n",
              " '[441, 263]': [[441, 264], [441, 262]],\n",
              " '[43, 262]': [[43, 263], [43, 261]],\n",
              " '[441, 262]': [[441, 263], [441, 261]],\n",
              " '[43, 261]': [[43, 262], [43, 260]],\n",
              " '[441, 261]': [[441, 262], [441, 260]],\n",
              " '[43, 260]': [[43, 261], [43, 259]],\n",
              " '[441, 260]': [[441, 261], [441, 259]],\n",
              " '[43, 259]': [[43, 260], [43, 258]],\n",
              " '[441, 259]': [[441, 260], [441, 258]],\n",
              " '[43, 258]': [[43, 259], [43, 257]],\n",
              " '[441, 258]': [[441, 259], [441, 257]],\n",
              " '[43, 257]': [[43, 258], [43, 256]],\n",
              " '[441, 257]': [[441, 258], [441, 256]],\n",
              " '[43, 256]': [[43, 257], [43, 255]],\n",
              " '[441, 256]': [[441, 257], [441, 255]],\n",
              " '[43, 255]': [[43, 256], [43, 254]],\n",
              " '[441, 255]': [[441, 256], [441, 254]],\n",
              " '[43, 254]': [[43, 255], [43, 253]],\n",
              " '[441, 254]': [[441, 255], [441, 253]],\n",
              " '[43, 253]': [[43, 254], [43, 252]],\n",
              " '[441, 253]': [[441, 254], [441, 252]],\n",
              " '[43, 252]': [[43, 253], [43, 251]],\n",
              " '[441, 252]': [[441, 253], [441, 251]],\n",
              " '[43, 251]': [[43, 252], [43, 250]],\n",
              " '[441, 251]': [[441, 252], [441, 250]],\n",
              " '[43, 250]': [[43, 251], [43, 249]],\n",
              " '[441, 250]': [[441, 251], [441, 249]],\n",
              " '[43, 249]': [[43, 250], [43, 248]],\n",
              " '[441, 249]': [[441, 250], [441, 248]],\n",
              " '[43, 248]': [[43, 249], [43, 247]],\n",
              " '[441, 248]': [[441, 249], [441, 247]],\n",
              " '[43, 247]': [[43, 248], [43, 246]],\n",
              " '[441, 247]': [[441, 248], [441, 246]],\n",
              " '[43, 246]': [[43, 247], [43, 245]],\n",
              " '[441, 246]': [[441, 247], [441, 245]],\n",
              " '[43, 245]': [[43, 246], [43, 244]],\n",
              " '[441, 245]': [[441, 246], [441, 244]],\n",
              " '[43, 244]': [[43, 245], [43, 243]],\n",
              " '[441, 244]': [[441, 245], [441, 243]],\n",
              " '[43, 243]': [[43, 244], [43, 242]],\n",
              " '[441, 243]': [[441, 244], [441, 242]],\n",
              " '[43, 242]': [[43, 243], [43, 241]],\n",
              " '[441, 242]': [[441, 243], [441, 241]],\n",
              " '[43, 241]': [[43, 242], [43, 240]],\n",
              " '[441, 241]': [[441, 242], [441, 240]],\n",
              " '[43, 240]': [[43, 241], [43, 239]],\n",
              " '[441, 240]': [[441, 241], [441, 239]],\n",
              " '[43, 239]': [[43, 240], [43, 238]],\n",
              " '[441, 239]': [[441, 240], [441, 238]],\n",
              " '[43, 238]': [[43, 239], [43, 237]],\n",
              " '[441, 238]': [[441, 239], [441, 237]],\n",
              " '[43, 237]': [[43, 238], [43, 236]],\n",
              " '[441, 237]': [[441, 238], [441, 236]],\n",
              " '[43, 236]': [[43, 237], [43, 235]],\n",
              " '[441, 236]': [[441, 237], [441, 235]],\n",
              " '[43, 235]': [[43, 236], [43, 234]],\n",
              " '[441, 235]': [[441, 236], [441, 234]],\n",
              " '[43, 234]': [[43, 235], [43, 233]],\n",
              " '[441, 234]': [[441, 235], [441, 233]],\n",
              " '[43, 233]': [[43, 234], [43, 232]],\n",
              " '[441, 233]': [[441, 234], [441, 232]],\n",
              " '[43, 232]': [[43, 233], [43, 231]],\n",
              " '[441, 232]': [[441, 233], [441, 231]],\n",
              " '[43, 231]': [[43, 232], [43, 230]],\n",
              " '[441, 231]': [[441, 232], [441, 230]],\n",
              " '[43, 230]': [[43, 231], [43, 229]],\n",
              " '[441, 230]': [[441, 231], [441, 229]],\n",
              " '[43, 229]': [[43, 230], [43, 228]],\n",
              " '[441, 229]': [[441, 230], [441, 228]],\n",
              " '[43, 228]': [[43, 229], [43, 227]],\n",
              " '[441, 228]': [[441, 229], [441, 227]],\n",
              " '[43, 227]': [[43, 228], [43, 226]],\n",
              " '[441, 227]': [[441, 228], [441, 226]],\n",
              " '[43, 226]': [[43, 227], [43, 225]],\n",
              " '[441, 226]': [[441, 227], [441, 225]],\n",
              " '[43, 225]': [[43, 226], [43, 224]],\n",
              " '[441, 225]': [[441, 226], [441, 224]],\n",
              " '[43, 224]': [[43, 225], [43, 223]],\n",
              " '[441, 224]': [[441, 225], [441, 223]],\n",
              " '[43, 223]': [[43, 224], [43, 222]],\n",
              " '[441, 223]': [[441, 224], [441, 222]],\n",
              " '[43, 222]': [[43, 223], [43, 221]],\n",
              " '[441, 222]': [[441, 223], [441, 221]],\n",
              " '[43, 221]': [[43, 222], [43, 220]],\n",
              " '[441, 221]': [[441, 222], [441, 220]],\n",
              " '[43, 220]': [[43, 221], [43, 219]],\n",
              " '[441, 220]': [[441, 221], [441, 219]],\n",
              " '[43, 219]': [[43, 220], [43, 218]],\n",
              " '[441, 219]': [[441, 220], [441, 218]],\n",
              " '[43, 218]': [[43, 219], [43, 217]],\n",
              " '[261, 218]': [[262, 218], [260, 217]],\n",
              " '[262, 218]': [[261, 218], [263, 218]],\n",
              " '[263, 218]': [[262, 218], [264, 218]],\n",
              " '[264, 218]': [[263, 218], [265, 218]],\n",
              " '[265, 218]': [[264, 218], [266, 218]],\n",
              " '[266, 218]': [[265, 218], [267, 218]],\n",
              " '[267, 218]': [[266, 218], [268, 218]],\n",
              " '[268, 218]': [[267, 218], [269, 218]],\n",
              " '[269, 218]': [[268, 218], [270, 218]],\n",
              " '[270, 218]': [[269, 218], [271, 218]],\n",
              " '[271, 218]': [[270, 218], [272, 218]],\n",
              " '[272, 218]': [[271, 218], [273, 218]],\n",
              " '[273, 218]': [[272, 218], [274, 218]],\n",
              " '[274, 218]': [[273, 218], [275, 218]],\n",
              " '[275, 218]': [[274, 218], [276, 218]],\n",
              " '[276, 218]': [[275, 218], [277, 218]],\n",
              " '[277, 218]': [[276, 218], [278, 218]],\n",
              " '[278, 218]': [[277, 218], [279, 218]],\n",
              " '[279, 218]': [[278, 218], [280, 218]],\n",
              " '[280, 218]': [[279, 218], [281, 218]],\n",
              " '[281, 218]': [[280, 218], [282, 218]],\n",
              " '[282, 218]': [[281, 218], [283, 218]],\n",
              " '[283, 218]': [[282, 218], [284, 218]],\n",
              " '[284, 218]': [[283, 218], [285, 218]],\n",
              " '[285, 218]': [[284, 218], [286, 218]],\n",
              " '[286, 218]': [[285, 218], [287, 218]],\n",
              " '[287, 218]': [[286, 218], [288, 218]],\n",
              " '[288, 218]': [[287, 218], [289, 218]],\n",
              " '[289, 218]': [[288, 218], [290, 218]],\n",
              " '[290, 218]': [[289, 218], [291, 218]],\n",
              " '[291, 218]': [[290, 218], [292, 218]],\n",
              " '[292, 218]': [[291, 218], [293, 218]],\n",
              " '[293, 218]': [[292, 218], [294, 218]],\n",
              " '[294, 218]': [[293, 218], [295, 218]],\n",
              " '[295, 218]': [[294, 218], [296, 218]],\n",
              " '[296, 218]': [[295, 218], [297, 218]],\n",
              " '[297, 218]': [[296, 218], [298, 218]],\n",
              " '[298, 218]': [[297, 218], [299, 218]],\n",
              " '[299, 218]': [[298, 218], [300, 218]],\n",
              " '[300, 218]': [[299, 218], [301, 218]],\n",
              " '[301, 218]': [[300, 218], [302, 218]],\n",
              " '[302, 218]': [[301, 218], [303, 217]],\n",
              " '[441, 218]': [[441, 219], [441, 217]],\n",
              " '[43, 217]': [[43, 218], [43, 216]],\n",
              " '[260, 217]': [[261, 218], [259, 216]],\n",
              " '[303, 217]': [[302, 218], [304, 216]],\n",
              " '[441, 217]': [[441, 218], [441, 216]],\n",
              " '[43, 216]': [[43, 217], [43, 215]],\n",
              " '[259, 216]': [[260, 217], [258, 215]],\n",
              " '[304, 216]': [[303, 217], [304, 215]],\n",
              " '[441, 216]': [[441, 217], [441, 215]],\n",
              " '[43, 215]': [[43, 216], [43, 214]],\n",
              " '[258, 215]': [[259, 216], [257, 214]],\n",
              " '[304, 215]': [[304, 216], [305, 214]],\n",
              " '[441, 215]': [[441, 216], [441, 214]],\n",
              " '[43, 214]': [[43, 215], [43, 213]],\n",
              " '[257, 214]': [[258, 215], [256, 213]],\n",
              " '[305, 214]': [[304, 215], [305, 213]],\n",
              " '[441, 214]': [[441, 215], [441, 213]],\n",
              " '[43, 213]': [[43, 214], [43, 212]],\n",
              " '[256, 213]': [[257, 214], [255, 212]],\n",
              " '[305, 213]': [[305, 214], [306, 212]],\n",
              " '[441, 213]': [[441, 214], [441, 212]],\n",
              " '[43, 212]': [[43, 213], [43, 211]],\n",
              " '[255, 212]': [[256, 213], [254, 211]],\n",
              " '[306, 212]': [[305, 213], [306, 211]],\n",
              " '[441, 212]': [[441, 213], [441, 211]],\n",
              " '[43, 211]': [[43, 212], [43, 210]],\n",
              " '[254, 211]': [[255, 212], [253, 210]],\n",
              " '[306, 211]': [[306, 212], [307, 210]],\n",
              " '[441, 211]': [[441, 212], [441, 210]],\n",
              " '[43, 210]': [[43, 211], [43, 209]],\n",
              " '[253, 210]': [[254, 211], [252, 209]],\n",
              " '[307, 210]': [[306, 211], [307, 209]],\n",
              " '[441, 210]': [[441, 211], [441, 209]],\n",
              " '[43, 209]': [[43, 210], [43, 208]],\n",
              " '[252, 209]': [[253, 210], [251, 208]],\n",
              " '[307, 209]': [[307, 210], [308, 208]],\n",
              " '[441, 209]': [[441, 210], [441, 208]],\n",
              " '[43, 208]': [[43, 209], [43, 207]],\n",
              " '[251, 208]': [[252, 209], [250, 207]],\n",
              " '[308, 208]': [[307, 209], [308, 207]],\n",
              " '[441, 208]': [[441, 209], [441, 207]],\n",
              " '[43, 207]': [[43, 208], [43, 206]],\n",
              " '[250, 207]': [[251, 208], [249, 206]],\n",
              " '[308, 207]': [[308, 208], [309, 206]],\n",
              " '[441, 207]': [[441, 208], [441, 206]],\n",
              " '[43, 206]': [[43, 207], [43, 205]],\n",
              " '[249, 206]': [[250, 207], [248, 205]],\n",
              " '[309, 206]': [[308, 207], [309, 205]],\n",
              " '[441, 206]': [[441, 207], [441, 205]],\n",
              " '[43, 205]': [[43, 206], [43, 204]],\n",
              " '[248, 205]': [[249, 206], [247, 204]],\n",
              " '[309, 205]': [[309, 206], [310, 204]],\n",
              " '[441, 205]': [[441, 206], [441, 204]],\n",
              " '[43, 204]': [[43, 205], [43, 203]],\n",
              " '[247, 204]': [[248, 205], [247, 203]],\n",
              " '[310, 204]': [[309, 205], [310, 203]],\n",
              " '[441, 204]': [[441, 205], [441, 203]],\n",
              " '[43, 203]': [[43, 204], [43, 202]],\n",
              " '[247, 203]': [[247, 204], [246, 202]],\n",
              " '[310, 203]': [[310, 204], [311, 202]],\n",
              " '[441, 203]': [[441, 204], [441, 202]],\n",
              " '[43, 202]': [[43, 203], [43, 201]],\n",
              " '[246, 202]': [[247, 203], [246, 201]],\n",
              " '[311, 202]': [[310, 203], [311, 201]],\n",
              " '[441, 202]': [[441, 203], [441, 201]],\n",
              " '[43, 201]': [[43, 202], [43, 200]],\n",
              " '[246, 201]': [[246, 202], [245, 200]],\n",
              " '[311, 201]': [[311, 202], [312, 200]],\n",
              " '[441, 201]': [[441, 202], [441, 200]],\n",
              " '[43, 200]': [[43, 201], [43, 199]],\n",
              " '[245, 200]': [[246, 201], [245, 199]],\n",
              " '[312, 200]': [[311, 201], [312, 199]],\n",
              " '[441, 200]': [[441, 201], [441, 199]],\n",
              " '[43, 199]': [[43, 200], [43, 198]],\n",
              " '[245, 199]': [[245, 200], [244, 198]],\n",
              " '[312, 199]': [[312, 200], [313, 198]],\n",
              " '[441, 199]': [[441, 200], [441, 198]],\n",
              " '[43, 198]': [[43, 199], [43, 197]],\n",
              " '[244, 198]': [[245, 199], [244, 197]],\n",
              " '[313, 198]': [[312, 199], [313, 197]],\n",
              " '[441, 198]': [[441, 199], [441, 197]],\n",
              " '[43, 197]': [[43, 198], [43, 196]],\n",
              " '[244, 197]': [[244, 198], [243, 196]],\n",
              " '[313, 197]': [[313, 198], [314, 196]],\n",
              " '[441, 197]': [[441, 198], [441, 196]],\n",
              " '[43, 196]': [[43, 197], [43, 195]],\n",
              " '[243, 196]': [[244, 197], [243, 195]],\n",
              " '[314, 196]': [[313, 197], [314, 195]],\n",
              " '[441, 196]': [[441, 197], [441, 195]],\n",
              " '[43, 195]': [[43, 196], [43, 194]],\n",
              " '[243, 195]': [[243, 196], [242, 194]],\n",
              " '[314, 195]': [[314, 196], [315, 194]],\n",
              " '[441, 195]': [[441, 196], [441, 194]],\n",
              " '[43, 194]': [[43, 195], [43, 193]],\n",
              " '[242, 194]': [[243, 195], [242, 193]],\n",
              " '[315, 194]': [[314, 195], [315, 193]],\n",
              " '[441, 194]': [[441, 195], [441, 193]],\n",
              " '[43, 193]': [[43, 194], [43, 192]],\n",
              " '[242, 193]': [[242, 194], [241, 192]],\n",
              " '[315, 193]': [[315, 194], [316, 192]],\n",
              " '[441, 193]': [[441, 194], [441, 192]],\n",
              " '[43, 192]': [[43, 193], [43, 191]],\n",
              " '[241, 192]': [[242, 193], [241, 191]],\n",
              " '[316, 192]': [[315, 193], [316, 191]],\n",
              " '[441, 192]': [[441, 193], [441, 191]],\n",
              " '[43, 191]': [[43, 192], [43, 190]],\n",
              " '[241, 191]': [[241, 192], [240, 190]],\n",
              " '[316, 191]': [[316, 192], [317, 190]],\n",
              " '[441, 191]': [[441, 192], [441, 190]],\n",
              " '[43, 190]': [[43, 191], [44, 189]],\n",
              " '[240, 190]': [[241, 191], [240, 189]],\n",
              " '[317, 190]': [[316, 191], [317, 189]],\n",
              " '[441, 190]': [[441, 191], [441, 189]],\n",
              " '[44, 189]': [[43, 190], [44, 188]],\n",
              " '[240, 189]': [[240, 190], [239, 188]],\n",
              " '[317, 189]': [[317, 190], [318, 188]],\n",
              " '[441, 189]': [[441, 190], [441, 188]],\n",
              " '[44, 188]': [[44, 189], [45, 187]],\n",
              " '[239, 188]': [[240, 189], [239, 187]],\n",
              " '[318, 188]': [[317, 189], [318, 187]],\n",
              " '[441, 188]': [[441, 189], [441, 187]],\n",
              " '[45, 187]': [[44, 188], [45, 186]],\n",
              " '[239, 187]': [[239, 188], [238, 186]],\n",
              " '[318, 187]': [[318, 188], [319, 186]],\n",
              " '[441, 187]': [[441, 188], [441, 186]],\n",
              " '[45, 186]': [[45, 187], [46, 185]],\n",
              " '[238, 186]': [[239, 187], [238, 185]],\n",
              " '[319, 186]': [[318, 187], [319, 185]],\n",
              " '[441, 186]': [[441, 187], [441, 185]],\n",
              " '[46, 185]': [[45, 186], [46, 184]],\n",
              " '[238, 185]': [[238, 186], [237, 184]],\n",
              " '[319, 185]': [[319, 186], [320, 184]],\n",
              " '[441, 185]': [[441, 186], [441, 184]],\n",
              " '[46, 184]': [[46, 185], [47, 183]],\n",
              " '[237, 184]': [[238, 185], [237, 183]],\n",
              " '[320, 184]': [[319, 185], [320, 183]],\n",
              " '[441, 184]': [[441, 185], [441, 183]],\n",
              " '[47, 183]': [[46, 184], [47, 182]],\n",
              " '[237, 183]': [[237, 184], [236, 182]],\n",
              " '[320, 183]': [[320, 184], [321, 182]],\n",
              " '[441, 183]': [[441, 184], [441, 182]],\n",
              " '[47, 182]': [[47, 183], [48, 181]],\n",
              " '[236, 182]': [[237, 183], [236, 181]],\n",
              " '[321, 182]': [[320, 183], [321, 181]],\n",
              " '[441, 182]': [[441, 183], [441, 181]],\n",
              " '[48, 181]': [[47, 182], [48, 180]],\n",
              " '[236, 181]': [[236, 182], [235, 180]],\n",
              " '[321, 181]': [[321, 182], [322, 180]],\n",
              " '[441, 181]': [[441, 182], [441, 180]],\n",
              " '[48, 180]': [[48, 181], [49, 179]],\n",
              " '[235, 180]': [[236, 181], [235, 179]],\n",
              " '[322, 180]': [[321, 181], [322, 179]],\n",
              " '[441, 180]': [[441, 181], [441, 179]],\n",
              " '[49, 179]': [[48, 180], [49, 178]],\n",
              " '[235, 179]': [[235, 180], [234, 178]],\n",
              " '[322, 179]': [[322, 180], [323, 178]],\n",
              " '[441, 179]': [[441, 180], [441, 178]],\n",
              " '[49, 178]': [[49, 179], [50, 177]],\n",
              " '[234, 178]': [[235, 179], [234, 177]],\n",
              " '[323, 178]': [[322, 179], [323, 177]],\n",
              " '[441, 178]': [[441, 179], [441, 177]],\n",
              " '[50, 177]': [[49, 178], [50, 176]],\n",
              " '[234, 177]': [[234, 178], [233, 176]],\n",
              " '[323, 177]': [[323, 178], [324, 176]],\n",
              " '[441, 177]': [[441, 178], [441, 176]],\n",
              " '[50, 176]': [[50, 177], [51, 175]],\n",
              " '[233, 176]': [[234, 177], [233, 175]],\n",
              " '[324, 176]': [[323, 177], [324, 175]],\n",
              " '[441, 176]': [[441, 177], [441, 175]],\n",
              " '[51, 175]': [[50, 176], [51, 174]],\n",
              " '[233, 175]': [[233, 176], [232, 174]],\n",
              " '[324, 175]': [[324, 176], [325, 174]],\n",
              " '[441, 175]': [[441, 176], [441, 174]],\n",
              " '[51, 174]': [[51, 175], [52, 173]],\n",
              " '[232, 174]': [[233, 175], [232, 173]],\n",
              " '[325, 174]': [[324, 175], [325, 173]],\n",
              " '[441, 174]': [[441, 175], [441, 173]],\n",
              " ...}"
            ]
          },
          "metadata": {},
          "execution_count": 8
        }
      ]
    },
    {
      "cell_type": "code",
      "source": [
        "start = waypoints[0]\n",
        "next = tree[str(start)][0]\n",
        "prev = start\n",
        "seen = [prev, next]\n",
        "while 1==1:\n",
        "  if not(tree[str(next)][0] in seen):\n",
        "    next = tree[str(next)][0]\n",
        "  elif not(tree[str(next)][1] in seen):\n",
        "    next = tree[str(next)][1]\n",
        "  else:\n",
        "    break\n",
        "  seen.append(next)\n",
        "print(len(seen))"
      ],
      "metadata": {
        "colab": {
          "base_uri": "https://localhost:8080/"
        },
        "outputId": "18290b24-95db-459d-e49c-ca9e0a2324eb",
        "id": "vz9V3q7G3xdP"
      },
      "execution_count": null,
      "outputs": [
        {
          "output_type": "stream",
          "name": "stdout",
          "text": [
            "1633\n"
          ]
        }
      ]
    },
    {
      "cell_type": "code",
      "source": [
        "#image = cv2.UMat.get(cv2.circle(world, (thinned.shape[0]-start[1],start[0]), radius=20,color=(0, 0, 255), thickness=-1))\n",
        "plt.imshow(world)\n",
        "for i in range(len(seen)):\n",
        "  plt.scatter(seen[i][0],-seen[i][1]+thinned.shape[0])\n",
        "plt.show() "
      ],
      "metadata": {
        "colab": {
          "base_uri": "https://localhost:8080/",
          "height": 649
        },
        "outputId": "dbca64b6-a6a5-4b89-949a-4c277274ace2",
        "id": "7PhaTDyw3xdQ"
      },
      "execution_count": null,
      "outputs": [
        {
          "output_type": "error",
          "ename": "KeyboardInterrupt",
          "evalue": "ignored",
          "traceback": [
            "\u001b[0;31m---------------------------------------------------------------------------\u001b[0m",
            "\u001b[0;31mKeyboardInterrupt\u001b[0m                         Traceback (most recent call last)",
            "\u001b[0;32m<ipython-input-10-f5a953258b6e>\u001b[0m in \u001b[0;36m<module>\u001b[0;34m()\u001b[0m\n\u001b[1;32m      2\u001b[0m \u001b[0mplt\u001b[0m\u001b[0;34m.\u001b[0m\u001b[0mimshow\u001b[0m\u001b[0;34m(\u001b[0m\u001b[0mworld\u001b[0m\u001b[0;34m)\u001b[0m\u001b[0;34m\u001b[0m\u001b[0;34m\u001b[0m\u001b[0m\n\u001b[1;32m      3\u001b[0m \u001b[0;32mfor\u001b[0m \u001b[0mi\u001b[0m \u001b[0;32min\u001b[0m \u001b[0mrange\u001b[0m\u001b[0;34m(\u001b[0m\u001b[0mlen\u001b[0m\u001b[0;34m(\u001b[0m\u001b[0mseen\u001b[0m\u001b[0;34m)\u001b[0m\u001b[0;34m)\u001b[0m\u001b[0;34m:\u001b[0m\u001b[0;34m\u001b[0m\u001b[0;34m\u001b[0m\u001b[0m\n\u001b[0;32m----> 4\u001b[0;31m   \u001b[0mplt\u001b[0m\u001b[0;34m.\u001b[0m\u001b[0mscatter\u001b[0m\u001b[0;34m(\u001b[0m\u001b[0mseen\u001b[0m\u001b[0;34m[\u001b[0m\u001b[0mi\u001b[0m\u001b[0;34m]\u001b[0m\u001b[0;34m[\u001b[0m\u001b[0;36m0\u001b[0m\u001b[0;34m]\u001b[0m\u001b[0;34m,\u001b[0m\u001b[0;34m-\u001b[0m\u001b[0mseen\u001b[0m\u001b[0;34m[\u001b[0m\u001b[0mi\u001b[0m\u001b[0;34m]\u001b[0m\u001b[0;34m[\u001b[0m\u001b[0;36m1\u001b[0m\u001b[0;34m]\u001b[0m\u001b[0;34m+\u001b[0m\u001b[0mthinned\u001b[0m\u001b[0;34m.\u001b[0m\u001b[0mshape\u001b[0m\u001b[0;34m[\u001b[0m\u001b[0;36m0\u001b[0m\u001b[0;34m]\u001b[0m\u001b[0;34m)\u001b[0m\u001b[0;34m\u001b[0m\u001b[0;34m\u001b[0m\u001b[0m\n\u001b[0m\u001b[1;32m      5\u001b[0m \u001b[0mplt\u001b[0m\u001b[0;34m.\u001b[0m\u001b[0mshow\u001b[0m\u001b[0;34m(\u001b[0m\u001b[0;34m)\u001b[0m\u001b[0;34m\u001b[0m\u001b[0;34m\u001b[0m\u001b[0m\n",
            "\u001b[0;32m/usr/local/lib/python3.7/dist-packages/matplotlib/pyplot.py\u001b[0m in \u001b[0;36mscatter\u001b[0;34m(x, y, s, c, marker, cmap, norm, vmin, vmax, alpha, linewidths, verts, edgecolors, plotnonfinite, data, **kwargs)\u001b[0m\n\u001b[1;32m   2814\u001b[0m         \u001b[0mverts\u001b[0m\u001b[0;34m=\u001b[0m\u001b[0mverts\u001b[0m\u001b[0;34m,\u001b[0m \u001b[0medgecolors\u001b[0m\u001b[0;34m=\u001b[0m\u001b[0medgecolors\u001b[0m\u001b[0;34m,\u001b[0m\u001b[0;34m\u001b[0m\u001b[0;34m\u001b[0m\u001b[0m\n\u001b[1;32m   2815\u001b[0m         plotnonfinite=plotnonfinite, **({\"data\": data} if data is not\n\u001b[0;32m-> 2816\u001b[0;31m         None else {}), **kwargs)\n\u001b[0m\u001b[1;32m   2817\u001b[0m     \u001b[0msci\u001b[0m\u001b[0;34m(\u001b[0m\u001b[0m__ret\u001b[0m\u001b[0;34m)\u001b[0m\u001b[0;34m\u001b[0m\u001b[0;34m\u001b[0m\u001b[0m\n\u001b[1;32m   2818\u001b[0m     \u001b[0;32mreturn\u001b[0m \u001b[0m__ret\u001b[0m\u001b[0;34m\u001b[0m\u001b[0;34m\u001b[0m\u001b[0m\n",
            "\u001b[0;32m/usr/local/lib/python3.7/dist-packages/matplotlib/__init__.py\u001b[0m in \u001b[0;36minner\u001b[0;34m(ax, data, *args, **kwargs)\u001b[0m\n\u001b[1;32m   1563\u001b[0m     \u001b[0;32mdef\u001b[0m \u001b[0minner\u001b[0m\u001b[0;34m(\u001b[0m\u001b[0max\u001b[0m\u001b[0;34m,\u001b[0m \u001b[0;34m*\u001b[0m\u001b[0margs\u001b[0m\u001b[0;34m,\u001b[0m \u001b[0mdata\u001b[0m\u001b[0;34m=\u001b[0m\u001b[0;32mNone\u001b[0m\u001b[0;34m,\u001b[0m \u001b[0;34m**\u001b[0m\u001b[0mkwargs\u001b[0m\u001b[0;34m)\u001b[0m\u001b[0;34m:\u001b[0m\u001b[0;34m\u001b[0m\u001b[0;34m\u001b[0m\u001b[0m\n\u001b[1;32m   1564\u001b[0m         \u001b[0;32mif\u001b[0m \u001b[0mdata\u001b[0m \u001b[0;32mis\u001b[0m \u001b[0;32mNone\u001b[0m\u001b[0;34m:\u001b[0m\u001b[0;34m\u001b[0m\u001b[0;34m\u001b[0m\u001b[0m\n\u001b[0;32m-> 1565\u001b[0;31m             \u001b[0;32mreturn\u001b[0m \u001b[0mfunc\u001b[0m\u001b[0;34m(\u001b[0m\u001b[0max\u001b[0m\u001b[0;34m,\u001b[0m \u001b[0;34m*\u001b[0m\u001b[0mmap\u001b[0m\u001b[0;34m(\u001b[0m\u001b[0msanitize_sequence\u001b[0m\u001b[0;34m,\u001b[0m \u001b[0margs\u001b[0m\u001b[0;34m)\u001b[0m\u001b[0;34m,\u001b[0m \u001b[0;34m**\u001b[0m\u001b[0mkwargs\u001b[0m\u001b[0;34m)\u001b[0m\u001b[0;34m\u001b[0m\u001b[0;34m\u001b[0m\u001b[0m\n\u001b[0m\u001b[1;32m   1566\u001b[0m \u001b[0;34m\u001b[0m\u001b[0m\n\u001b[1;32m   1567\u001b[0m         \u001b[0mbound\u001b[0m \u001b[0;34m=\u001b[0m \u001b[0mnew_sig\u001b[0m\u001b[0;34m.\u001b[0m\u001b[0mbind\u001b[0m\u001b[0;34m(\u001b[0m\u001b[0max\u001b[0m\u001b[0;34m,\u001b[0m \u001b[0;34m*\u001b[0m\u001b[0margs\u001b[0m\u001b[0;34m,\u001b[0m \u001b[0;34m**\u001b[0m\u001b[0mkwargs\u001b[0m\u001b[0;34m)\u001b[0m\u001b[0;34m\u001b[0m\u001b[0;34m\u001b[0m\u001b[0m\n",
            "\u001b[0;32m/usr/local/lib/python3.7/dist-packages/matplotlib/cbook/deprecation.py\u001b[0m in \u001b[0;36mwrapper\u001b[0;34m(*args, **kwargs)\u001b[0m\n\u001b[1;32m    356\u001b[0m                 \u001b[0;34mf\"%(removal)s.  If any parameter follows {name!r}, they \"\u001b[0m\u001b[0;34m\u001b[0m\u001b[0;34m\u001b[0m\u001b[0m\n\u001b[1;32m    357\u001b[0m                 f\"should be pass as keyword, not positionally.\")\n\u001b[0;32m--> 358\u001b[0;31m         \u001b[0;32mreturn\u001b[0m \u001b[0mfunc\u001b[0m\u001b[0;34m(\u001b[0m\u001b[0;34m*\u001b[0m\u001b[0margs\u001b[0m\u001b[0;34m,\u001b[0m \u001b[0;34m**\u001b[0m\u001b[0mkwargs\u001b[0m\u001b[0;34m)\u001b[0m\u001b[0;34m\u001b[0m\u001b[0;34m\u001b[0m\u001b[0m\n\u001b[0m\u001b[1;32m    359\u001b[0m \u001b[0;34m\u001b[0m\u001b[0m\n\u001b[1;32m    360\u001b[0m     \u001b[0;32mreturn\u001b[0m \u001b[0mwrapper\u001b[0m\u001b[0;34m\u001b[0m\u001b[0;34m\u001b[0m\u001b[0m\n",
            "\u001b[0;32m/usr/local/lib/python3.7/dist-packages/matplotlib/axes/_axes.py\u001b[0m in \u001b[0;36mscatter\u001b[0;34m(self, x, y, s, c, marker, cmap, norm, vmin, vmax, alpha, linewidths, verts, edgecolors, plotnonfinite, **kwargs)\u001b[0m\n\u001b[1;32m   4464\u001b[0m                 \u001b[0mself\u001b[0m\u001b[0;34m.\u001b[0m\u001b[0mset_ymargin\u001b[0m\u001b[0;34m(\u001b[0m\u001b[0;36m0.05\u001b[0m\u001b[0;34m)\u001b[0m\u001b[0;34m\u001b[0m\u001b[0;34m\u001b[0m\u001b[0m\n\u001b[1;32m   4465\u001b[0m \u001b[0;34m\u001b[0m\u001b[0m\n\u001b[0;32m-> 4466\u001b[0;31m         \u001b[0mself\u001b[0m\u001b[0;34m.\u001b[0m\u001b[0madd_collection\u001b[0m\u001b[0;34m(\u001b[0m\u001b[0mcollection\u001b[0m\u001b[0;34m)\u001b[0m\u001b[0;34m\u001b[0m\u001b[0;34m\u001b[0m\u001b[0m\n\u001b[0m\u001b[1;32m   4467\u001b[0m         \u001b[0mself\u001b[0m\u001b[0;34m.\u001b[0m\u001b[0m_request_autoscale_view\u001b[0m\u001b[0;34m(\u001b[0m\u001b[0;34m)\u001b[0m\u001b[0;34m\u001b[0m\u001b[0;34m\u001b[0m\u001b[0m\n\u001b[1;32m   4468\u001b[0m \u001b[0;34m\u001b[0m\u001b[0m\n",
            "\u001b[0;32m/usr/local/lib/python3.7/dist-packages/matplotlib/axes/_base.py\u001b[0m in \u001b[0;36madd_collection\u001b[0;34m(self, collection, autolim)\u001b[0m\n\u001b[1;32m   1818\u001b[0m             \u001b[0;31m# Make sure viewLim is not stale (mostly to match\u001b[0m\u001b[0;34m\u001b[0m\u001b[0;34m\u001b[0m\u001b[0;34m\u001b[0m\u001b[0m\n\u001b[1;32m   1819\u001b[0m             \u001b[0;31m# pre-lazy-autoscale behavior, which is not really better).\u001b[0m\u001b[0;34m\u001b[0m\u001b[0;34m\u001b[0m\u001b[0;34m\u001b[0m\u001b[0m\n\u001b[0;32m-> 1820\u001b[0;31m             \u001b[0mself\u001b[0m\u001b[0;34m.\u001b[0m\u001b[0m_unstale_viewLim\u001b[0m\u001b[0;34m(\u001b[0m\u001b[0;34m)\u001b[0m\u001b[0;34m\u001b[0m\u001b[0;34m\u001b[0m\u001b[0m\n\u001b[0m\u001b[1;32m   1821\u001b[0m             \u001b[0mself\u001b[0m\u001b[0;34m.\u001b[0m\u001b[0mupdate_datalim\u001b[0m\u001b[0;34m(\u001b[0m\u001b[0mcollection\u001b[0m\u001b[0;34m.\u001b[0m\u001b[0mget_datalim\u001b[0m\u001b[0;34m(\u001b[0m\u001b[0mself\u001b[0m\u001b[0;34m.\u001b[0m\u001b[0mtransData\u001b[0m\u001b[0;34m)\u001b[0m\u001b[0;34m)\u001b[0m\u001b[0;34m\u001b[0m\u001b[0;34m\u001b[0m\u001b[0m\n\u001b[1;32m   1822\u001b[0m \u001b[0;34m\u001b[0m\u001b[0m\n",
            "\u001b[0;32m/usr/local/lib/python3.7/dist-packages/matplotlib/axes/_base.py\u001b[0m in \u001b[0;36m_unstale_viewLim\u001b[0;34m(self)\u001b[0m\n\u001b[1;32m    593\u001b[0m             \u001b[0;32mfor\u001b[0m \u001b[0max\u001b[0m \u001b[0;32min\u001b[0m \u001b[0mself\u001b[0m\u001b[0;34m.\u001b[0m\u001b[0m_shared_y_axes\u001b[0m\u001b[0;34m.\u001b[0m\u001b[0mget_siblings\u001b[0m\u001b[0;34m(\u001b[0m\u001b[0mself\u001b[0m\u001b[0;34m)\u001b[0m\u001b[0;34m:\u001b[0m\u001b[0;34m\u001b[0m\u001b[0;34m\u001b[0m\u001b[0m\n\u001b[1;32m    594\u001b[0m                 \u001b[0max\u001b[0m\u001b[0;34m.\u001b[0m\u001b[0m_stale_viewlim_y\u001b[0m \u001b[0;34m=\u001b[0m \u001b[0;32mFalse\u001b[0m\u001b[0;34m\u001b[0m\u001b[0;34m\u001b[0m\u001b[0m\n\u001b[0;32m--> 595\u001b[0;31m             \u001b[0mself\u001b[0m\u001b[0;34m.\u001b[0m\u001b[0mautoscale_view\u001b[0m\u001b[0;34m(\u001b[0m\u001b[0mscalex\u001b[0m\u001b[0;34m=\u001b[0m\u001b[0mscalex\u001b[0m\u001b[0;34m,\u001b[0m \u001b[0mscaley\u001b[0m\u001b[0;34m=\u001b[0m\u001b[0mscaley\u001b[0m\u001b[0;34m)\u001b[0m\u001b[0;34m\u001b[0m\u001b[0;34m\u001b[0m\u001b[0m\n\u001b[0m\u001b[1;32m    596\u001b[0m \u001b[0;34m\u001b[0m\u001b[0m\n\u001b[1;32m    597\u001b[0m     \u001b[0;34m@\u001b[0m\u001b[0mproperty\u001b[0m\u001b[0;34m\u001b[0m\u001b[0;34m\u001b[0m\u001b[0m\n",
            "\u001b[0;32m/usr/local/lib/python3.7/dist-packages/matplotlib/axes/_base.py\u001b[0m in \u001b[0;36mautoscale_view\u001b[0;34m(self, tight, scalex, scaley)\u001b[0m\n\u001b[1;32m   2388\u001b[0m                 y_stickies = np.sort(np.concatenate([\n\u001b[1;32m   2389\u001b[0m                     \u001b[0martist\u001b[0m\u001b[0;34m.\u001b[0m\u001b[0msticky_edges\u001b[0m\u001b[0;34m.\u001b[0m\u001b[0my\u001b[0m\u001b[0;34m\u001b[0m\u001b[0;34m\u001b[0m\u001b[0m\n\u001b[0;32m-> 2390\u001b[0;31m                     \u001b[0;32mfor\u001b[0m \u001b[0max\u001b[0m \u001b[0;32min\u001b[0m \u001b[0mself\u001b[0m\u001b[0;34m.\u001b[0m\u001b[0m_shared_y_axes\u001b[0m\u001b[0;34m.\u001b[0m\u001b[0mget_siblings\u001b[0m\u001b[0;34m(\u001b[0m\u001b[0mself\u001b[0m\u001b[0;34m)\u001b[0m\u001b[0;34m\u001b[0m\u001b[0;34m\u001b[0m\u001b[0m\n\u001b[0m\u001b[1;32m   2391\u001b[0m                     \u001b[0;32mif\u001b[0m \u001b[0mhasattr\u001b[0m\u001b[0;34m(\u001b[0m\u001b[0max\u001b[0m\u001b[0;34m,\u001b[0m \u001b[0;34m\"lines\"\u001b[0m\u001b[0;34m)\u001b[0m\u001b[0;34m\u001b[0m\u001b[0;34m\u001b[0m\u001b[0m\n\u001b[1;32m   2392\u001b[0m                     for artist in ax.get_children()]))\n",
            "\u001b[0;32m<__array_function__ internals>\u001b[0m in \u001b[0;36mconcatenate\u001b[0;34m(*args, **kwargs)\u001b[0m\n",
            "\u001b[0;31mKeyboardInterrupt\u001b[0m: "
          ]
        },
        {
          "output_type": "display_data",
          "data": {
            "image/png": "[encoded data removed]",
            "text/plain": [
              "<Figure size 432x288 with 1 Axes>"
            ]
          },
          "metadata": {
            "needs_background": "light"
          }
        }
      ]
    },
    {
      "cell_type": "code",
      "source": [
        "image = cv2.UMat.get(cv2.circle(world, (start[0],start[1]), radius=10,color=(0, 0, 255), thickness=-1))\n",
        "plt.imshow(image,cmap='gray')"
      ],
      "metadata": {
        "outputId": "6d406959-85b3-4b2b-8042-7b3357493b0d",
        "colab": {
          "base_uri": "https://localhost:8080/",
          "height": 286
        },
        "id": "Ls7tlvSs3xdQ"
      },
      "execution_count": null,
      "outputs": [
        {
          "output_type": "execute_result",
          "data": {
            "text/plain": [
              "<matplotlib.image.AxesImage at 0x7f7f8a423c10>"
            ]
          },
          "metadata": {},
          "execution_count": 11
        },
        {
          "output_type": "display_data",
          "data": {
            "image/png": "[encoded data removed]",
            "text/plain": [
              "<Figure size 432x288 with 1 Axes>"
            ]
          },
          "metadata": {
            "needs_background": "light"
          }
        }
      ]
    },
    {
      "cell_type": "code",
      "source": [
        "plt.figure()\n",
        "video = []\n",
        "for i in range(0,len(seen),10):\n",
        "  image = cv2.UMat.get(cv2.circle(world, (seen[i][0],-seen[i][1]+thinned.shape[0]), radius=10,color=(0, 0, 255), thickness=-1))\n",
        "  plt.imshow(image,cmap='gray')\n",
        "  #plt.show()\n",
        "  plt.imsave('/content/triangle/'+str(i)+'.png',image,cmap='gray')\n",
        "  plt.clf()"
      ],
      "metadata": {
        "colab": {
          "base_uri": "https://localhost:8080/",
          "height": 632
        },
        "outputId": "7edeb094-6c70-4cef-8b45-69d221a8d972",
        "id": "12-bGdwF3xdQ"
      },
      "execution_count": null,
      "outputs": [
        {
          "output_type": "error",
          "ename": "FileNotFoundError",
          "evalue": "ignored",
          "traceback": [
            "\u001b[0;31m---------------------------------------------------------------------------\u001b[0m",
            "\u001b[0;31mFileNotFoundError\u001b[0m                         Traceback (most recent call last)",
            "\u001b[0;32m<ipython-input-13-f9700f2619c0>\u001b[0m in \u001b[0;36m<module>\u001b[0;34m()\u001b[0m\n\u001b[1;32m      5\u001b[0m   \u001b[0mplt\u001b[0m\u001b[0;34m.\u001b[0m\u001b[0mimshow\u001b[0m\u001b[0;34m(\u001b[0m\u001b[0mimage\u001b[0m\u001b[0;34m,\u001b[0m\u001b[0mcmap\u001b[0m\u001b[0;34m=\u001b[0m\u001b[0;34m'gray'\u001b[0m\u001b[0;34m)\u001b[0m\u001b[0;34m\u001b[0m\u001b[0;34m\u001b[0m\u001b[0m\n\u001b[1;32m      6\u001b[0m   \u001b[0;31m#plt.show()\u001b[0m\u001b[0;34m\u001b[0m\u001b[0;34m\u001b[0m\u001b[0;34m\u001b[0m\u001b[0m\n\u001b[0;32m----> 7\u001b[0;31m   \u001b[0mplt\u001b[0m\u001b[0;34m.\u001b[0m\u001b[0mimsave\u001b[0m\u001b[0;34m(\u001b[0m\u001b[0;34m'/content/triangle/'\u001b[0m\u001b[0;34m+\u001b[0m\u001b[0mstr\u001b[0m\u001b[0;34m(\u001b[0m\u001b[0mi\u001b[0m\u001b[0;34m)\u001b[0m\u001b[0;34m+\u001b[0m\u001b[0;34m'.png'\u001b[0m\u001b[0;34m,\u001b[0m\u001b[0mimage\u001b[0m\u001b[0;34m,\u001b[0m\u001b[0mcmap\u001b[0m\u001b[0;34m=\u001b[0m\u001b[0;34m'gray'\u001b[0m\u001b[0;34m)\u001b[0m\u001b[0;34m\u001b[0m\u001b[0;34m\u001b[0m\u001b[0m\n\u001b[0m\u001b[1;32m      8\u001b[0m   \u001b[0mplt\u001b[0m\u001b[0;34m.\u001b[0m\u001b[0mclf\u001b[0m\u001b[0;34m(\u001b[0m\u001b[0;34m)\u001b[0m\u001b[0;34m\u001b[0m\u001b[0;34m\u001b[0m\u001b[0m\n",
            "\u001b[0;32m/usr/local/lib/python3.7/dist-packages/matplotlib/pyplot.py\u001b[0m in \u001b[0;36mimsave\u001b[0;34m(fname, arr, **kwargs)\u001b[0m\n\u001b[1;32m   2064\u001b[0m \u001b[0;34m@\u001b[0m\u001b[0mdocstring\u001b[0m\u001b[0;34m.\u001b[0m\u001b[0mcopy\u001b[0m\u001b[0;34m(\u001b[0m\u001b[0mmatplotlib\u001b[0m\u001b[0;34m.\u001b[0m\u001b[0mimage\u001b[0m\u001b[0;34m.\u001b[0m\u001b[0mimsave\u001b[0m\u001b[0;34m)\u001b[0m\u001b[0;34m\u001b[0m\u001b[0;34m\u001b[0m\u001b[0m\n\u001b[1;32m   2065\u001b[0m \u001b[0;32mdef\u001b[0m \u001b[0mimsave\u001b[0m\u001b[0;34m(\u001b[0m\u001b[0mfname\u001b[0m\u001b[0;34m,\u001b[0m \u001b[0marr\u001b[0m\u001b[0;34m,\u001b[0m \u001b[0;34m**\u001b[0m\u001b[0mkwargs\u001b[0m\u001b[0;34m)\u001b[0m\u001b[0;34m:\u001b[0m\u001b[0;34m\u001b[0m\u001b[0;34m\u001b[0m\u001b[0m\n\u001b[0;32m-> 2066\u001b[0;31m     \u001b[0;32mreturn\u001b[0m \u001b[0mmatplotlib\u001b[0m\u001b[0;34m.\u001b[0m\u001b[0mimage\u001b[0m\u001b[0;34m.\u001b[0m\u001b[0mimsave\u001b[0m\u001b[0;34m(\u001b[0m\u001b[0mfname\u001b[0m\u001b[0;34m,\u001b[0m \u001b[0marr\u001b[0m\u001b[0;34m,\u001b[0m \u001b[0;34m**\u001b[0m\u001b[0mkwargs\u001b[0m\u001b[0;34m)\u001b[0m\u001b[0;34m\u001b[0m\u001b[0;34m\u001b[0m\u001b[0m\n\u001b[0m\u001b[1;32m   2067\u001b[0m \u001b[0;34m\u001b[0m\u001b[0m\n\u001b[1;32m   2068\u001b[0m \u001b[0;34m\u001b[0m\u001b[0m\n",
            "\u001b[0;32m/usr/local/lib/python3.7/dist-packages/matplotlib/image.py\u001b[0m in \u001b[0;36mimsave\u001b[0;34m(fname, arr, vmin, vmax, cmap, format, origin, dpi, metadata, pil_kwargs)\u001b[0m\n\u001b[1;32m   1550\u001b[0m         \u001b[0mrgba\u001b[0m \u001b[0;34m=\u001b[0m \u001b[0msm\u001b[0m\u001b[0;34m.\u001b[0m\u001b[0mto_rgba\u001b[0m\u001b[0;34m(\u001b[0m\u001b[0marr\u001b[0m\u001b[0;34m,\u001b[0m \u001b[0mbytes\u001b[0m\u001b[0;34m=\u001b[0m\u001b[0;32mTrue\u001b[0m\u001b[0;34m)\u001b[0m\u001b[0;34m\u001b[0m\u001b[0;34m\u001b[0m\u001b[0m\n\u001b[1;32m   1551\u001b[0m         \u001b[0;32mif\u001b[0m \u001b[0mformat\u001b[0m \u001b[0;34m==\u001b[0m \u001b[0;34m\"png\"\u001b[0m \u001b[0;32mand\u001b[0m \u001b[0mpil_kwargs\u001b[0m \u001b[0;32mis\u001b[0m \u001b[0;32mNone\u001b[0m\u001b[0;34m:\u001b[0m\u001b[0;34m\u001b[0m\u001b[0;34m\u001b[0m\u001b[0m\n\u001b[0;32m-> 1552\u001b[0;31m             \u001b[0;32mwith\u001b[0m \u001b[0mcbook\u001b[0m\u001b[0;34m.\u001b[0m\u001b[0mopen_file_cm\u001b[0m\u001b[0;34m(\u001b[0m\u001b[0mfname\u001b[0m\u001b[0;34m,\u001b[0m \u001b[0;34m\"wb\"\u001b[0m\u001b[0;34m)\u001b[0m \u001b[0;32mas\u001b[0m \u001b[0mfile\u001b[0m\u001b[0;34m:\u001b[0m\u001b[0;34m\u001b[0m\u001b[0;34m\u001b[0m\u001b[0m\n\u001b[0m\u001b[1;32m   1553\u001b[0m                 \u001b[0m_png\u001b[0m\u001b[0;34m.\u001b[0m\u001b[0mwrite_png\u001b[0m\u001b[0;34m(\u001b[0m\u001b[0mrgba\u001b[0m\u001b[0;34m,\u001b[0m \u001b[0mfile\u001b[0m\u001b[0;34m,\u001b[0m \u001b[0mdpi\u001b[0m\u001b[0;34m=\u001b[0m\u001b[0mdpi\u001b[0m\u001b[0;34m,\u001b[0m \u001b[0mmetadata\u001b[0m\u001b[0;34m=\u001b[0m\u001b[0mmetadata\u001b[0m\u001b[0;34m)\u001b[0m\u001b[0;34m\u001b[0m\u001b[0;34m\u001b[0m\u001b[0m\n\u001b[1;32m   1554\u001b[0m         \u001b[0;32melse\u001b[0m\u001b[0;34m:\u001b[0m\u001b[0;34m\u001b[0m\u001b[0;34m\u001b[0m\u001b[0m\n",
            "\u001b[0;32m/usr/lib/python3.7/contextlib.py\u001b[0m in \u001b[0;36m__enter__\u001b[0;34m(self)\u001b[0m\n\u001b[1;32m    110\u001b[0m         \u001b[0;32mdel\u001b[0m \u001b[0mself\u001b[0m\u001b[0;34m.\u001b[0m\u001b[0margs\u001b[0m\u001b[0;34m,\u001b[0m \u001b[0mself\u001b[0m\u001b[0;34m.\u001b[0m\u001b[0mkwds\u001b[0m\u001b[0;34m,\u001b[0m \u001b[0mself\u001b[0m\u001b[0;34m.\u001b[0m\u001b[0mfunc\u001b[0m\u001b[0;34m\u001b[0m\u001b[0;34m\u001b[0m\u001b[0m\n\u001b[1;32m    111\u001b[0m         \u001b[0;32mtry\u001b[0m\u001b[0;34m:\u001b[0m\u001b[0;34m\u001b[0m\u001b[0;34m\u001b[0m\u001b[0m\n\u001b[0;32m--> 112\u001b[0;31m             \u001b[0;32mreturn\u001b[0m \u001b[0mnext\u001b[0m\u001b[0;34m(\u001b[0m\u001b[0mself\u001b[0m\u001b[0;34m.\u001b[0m\u001b[0mgen\u001b[0m\u001b[0;34m)\u001b[0m\u001b[0;34m\u001b[0m\u001b[0;34m\u001b[0m\u001b[0m\n\u001b[0m\u001b[1;32m    113\u001b[0m         \u001b[0;32mexcept\u001b[0m \u001b[0mStopIteration\u001b[0m\u001b[0;34m:\u001b[0m\u001b[0;34m\u001b[0m\u001b[0;34m\u001b[0m\u001b[0m\n\u001b[1;32m    114\u001b[0m             \u001b[0;32mraise\u001b[0m \u001b[0mRuntimeError\u001b[0m\u001b[0;34m(\u001b[0m\u001b[0;34m\"generator didn't yield\"\u001b[0m\u001b[0;34m)\u001b[0m \u001b[0;32mfrom\u001b[0m \u001b[0;32mNone\u001b[0m\u001b[0;34m\u001b[0m\u001b[0;34m\u001b[0m\u001b[0m\n",
            "\u001b[0;32m/usr/local/lib/python3.7/dist-packages/matplotlib/cbook/__init__.py\u001b[0m in \u001b[0;36mopen_file_cm\u001b[0;34m(path_or_file, mode, encoding)\u001b[0m\n\u001b[1;32m    416\u001b[0m \u001b[0;32mdef\u001b[0m \u001b[0mopen_file_cm\u001b[0m\u001b[0;34m(\u001b[0m\u001b[0mpath_or_file\u001b[0m\u001b[0;34m,\u001b[0m \u001b[0mmode\u001b[0m\u001b[0;34m=\u001b[0m\u001b[0;34m\"r\"\u001b[0m\u001b[0;34m,\u001b[0m \u001b[0mencoding\u001b[0m\u001b[0;34m=\u001b[0m\u001b[0;32mNone\u001b[0m\u001b[0;34m)\u001b[0m\u001b[0;34m:\u001b[0m\u001b[0;34m\u001b[0m\u001b[0;34m\u001b[0m\u001b[0m\n\u001b[1;32m    417\u001b[0m     \u001b[0;34mr\"\"\"Pass through file objects and context-manage `.PathLike`\\s.\"\"\"\u001b[0m\u001b[0;34m\u001b[0m\u001b[0;34m\u001b[0m\u001b[0m\n\u001b[0;32m--> 418\u001b[0;31m     \u001b[0mfh\u001b[0m\u001b[0;34m,\u001b[0m \u001b[0mopened\u001b[0m \u001b[0;34m=\u001b[0m \u001b[0mto_filehandle\u001b[0m\u001b[0;34m(\u001b[0m\u001b[0mpath_or_file\u001b[0m\u001b[0;34m,\u001b[0m \u001b[0mmode\u001b[0m\u001b[0;34m,\u001b[0m \u001b[0;32mTrue\u001b[0m\u001b[0;34m,\u001b[0m \u001b[0mencoding\u001b[0m\u001b[0;34m)\u001b[0m\u001b[0;34m\u001b[0m\u001b[0;34m\u001b[0m\u001b[0m\n\u001b[0m\u001b[1;32m    419\u001b[0m     \u001b[0;32mif\u001b[0m \u001b[0mopened\u001b[0m\u001b[0;34m:\u001b[0m\u001b[0;34m\u001b[0m\u001b[0;34m\u001b[0m\u001b[0m\n\u001b[1;32m    420\u001b[0m         \u001b[0;32mwith\u001b[0m \u001b[0mfh\u001b[0m\u001b[0;34m:\u001b[0m\u001b[0;34m\u001b[0m\u001b[0;34m\u001b[0m\u001b[0m\n",
            "\u001b[0;32m/usr/local/lib/python3.7/dist-packages/matplotlib/cbook/__init__.py\u001b[0m in \u001b[0;36mto_filehandle\u001b[0;34m(fname, flag, return_opened, encoding)\u001b[0m\n\u001b[1;32m    401\u001b[0m             \u001b[0mfh\u001b[0m \u001b[0;34m=\u001b[0m \u001b[0mbz2\u001b[0m\u001b[0;34m.\u001b[0m\u001b[0mBZ2File\u001b[0m\u001b[0;34m(\u001b[0m\u001b[0mfname\u001b[0m\u001b[0;34m,\u001b[0m \u001b[0mflag\u001b[0m\u001b[0;34m)\u001b[0m\u001b[0;34m\u001b[0m\u001b[0;34m\u001b[0m\u001b[0m\n\u001b[1;32m    402\u001b[0m         \u001b[0;32melse\u001b[0m\u001b[0;34m:\u001b[0m\u001b[0;34m\u001b[0m\u001b[0;34m\u001b[0m\u001b[0m\n\u001b[0;32m--> 403\u001b[0;31m             \u001b[0mfh\u001b[0m \u001b[0;34m=\u001b[0m \u001b[0mopen\u001b[0m\u001b[0;34m(\u001b[0m\u001b[0mfname\u001b[0m\u001b[0;34m,\u001b[0m \u001b[0mflag\u001b[0m\u001b[0;34m,\u001b[0m \u001b[0mencoding\u001b[0m\u001b[0;34m=\u001b[0m\u001b[0mencoding\u001b[0m\u001b[0;34m)\u001b[0m\u001b[0;34m\u001b[0m\u001b[0;34m\u001b[0m\u001b[0m\n\u001b[0m\u001b[1;32m    404\u001b[0m         \u001b[0mopened\u001b[0m \u001b[0;34m=\u001b[0m \u001b[0;32mTrue\u001b[0m\u001b[0;34m\u001b[0m\u001b[0;34m\u001b[0m\u001b[0m\n\u001b[1;32m    405\u001b[0m     \u001b[0;32melif\u001b[0m \u001b[0mhasattr\u001b[0m\u001b[0;34m(\u001b[0m\u001b[0mfname\u001b[0m\u001b[0;34m,\u001b[0m \u001b[0;34m'seek'\u001b[0m\u001b[0;34m)\u001b[0m\u001b[0;34m:\u001b[0m\u001b[0;34m\u001b[0m\u001b[0;34m\u001b[0m\u001b[0m\n",
            "\u001b[0;31mFileNotFoundError\u001b[0m: [Errno 2] No such file or directory: '/content/triangle/0.png'"
          ]
        },
        {
          "output_type": "display_data",
          "data": {
            "image/png": "[encoded data removed]",
            "text/plain": [
              "<Figure size 432x288 with 1 Axes>"
            ]
          },
          "metadata": {
            "needs_background": "light"
          }
        }
      ]
    },
    {
      "cell_type": "code",
      "source": [
        "!zip -r /content/triangle.zip /content/triangle"
      ],
      "metadata": {
        "id": "CjfUDmmq3xdQ"
      },
      "execution_count": null,
      "outputs": []
    },
    {
      "cell_type": "code",
      "source": [
        ""
      ],
      "metadata": {
        "id": "Q6_GENpT4zAA"
      },
      "execution_count": null,
      "outputs": []
    },
    {
      "cell_type": "code",
      "source": [
        ""
      ],
      "metadata": {
        "id": "nSCzw5tV2JRq"
      },
      "execution_count": null,
      "outputs": []
    },
    {
      "cell_type": "markdown",
      "source": [
        "# ShortestPath"
      ],
      "metadata": {
        "id": "PsTJEyPD2KIZ"
      }
    },
    {
      "cell_type": "markdown",
      "source": [
        "**Create Tree**"
      ],
      "metadata": {
        "id": "Q807OpeU2q9l"
      }
    },
    {
      "cell_type": "code",
      "source": [
        "world = rgb2gray(cv2.imread('world10.png'))\n",
        "thresh = threshold_otsu(world)\n",
        "world = world > thresh\n",
        "world = 1 - world\n",
        "thinned = thin(world)\n",
        "#skel = skeletonize(world)\n",
        "plt.imshow(thinned+world)\n",
        "\n",
        "waypoints = [];\n",
        "waypointsR = [];\n",
        "waypointsC = [];\n",
        "for i in range(thinned.shape[0]):\n",
        "  for j in range(thinned.shape[1]):\n",
        "    if thinned[i,j] == True:\n",
        "      waypoints.append([j,thinned.shape[0]-i])\n",
        "      waypointsR.append(j);\n",
        "      waypointsC.append(thinned.shape[0]-i);\n",
        "\n",
        "start = waypoints[0]\n",
        "Currentloc = []\n",
        "tree = {}\n",
        "for i in range(len(waypoints)):\n",
        "  x = waypoints[i][0]\n",
        "  y = waypoints[i][1]\n",
        "  neighbours = []\n",
        "  for j in range(len(waypoints)):\n",
        "    x_new = waypoints[j][0]\n",
        "    y_new = waypoints[j][1]\n",
        "    #              left                        right                 \n",
        "    if ((x == x_new + 1) and (y == y_new)) or ((x == x_new -1) and (y == y_new)) or ((x == x_new) and (y == y_new +1)) or ((x == x_new) and (y == y_new - 1)) or ((x == x_new+1) and (y == y_new+1)) or ((x == x_new - 1) and (y == y_new - 1)) or ((x == x_new+1) and (y == y_new-1)) or ((x == x_new - 1) and (y == y_new + 1)):\n",
        "      neighbours.append(str(waypoints[j]))\n",
        "      #print(neighbours)\n",
        "  tree[str(waypoints[i])]  = neighbours"
      ],
      "metadata": {
        "colab": {
          "base_uri": "https://localhost:8080/",
          "height": 269
        },
        "outputId": "85847b2b-2e0f-4934-d36c-6ec6f375c95a",
        "id": "4UKUKQJV279u"
      },
      "execution_count": 17,
      "outputs": [
        {
          "output_type": "display_data",
          "data": {
            "image/png": "[encoded data removed]",
            "text/plain": [
              "<Figure size 432x288 with 1 Axes>"
            ]
          },
          "metadata": {
            "needs_background": "light"
          }
        }
      ]
    },
    {
      "cell_type": "code",
      "source": [
        "tree"
      ],
      "metadata": {
        "id": "kOMCcUsP279z"
      },
      "execution_count": null,
      "outputs": []
    },
    {
      "cell_type": "markdown",
      "source": [
        "**Select a starting point on bottom left corer and end point on top right**"
      ],
      "metadata": {
        "id": "Kf9mYcFq7xuh"
      }
    },
    {
      "cell_type": "code",
      "source": [
        "smallest = []\n",
        "largest = []\n",
        "for i in waypoints:\n",
        "  if i[0] < 90 and i[1] < 100:\n",
        "    smallest.append(i)\n",
        "  if i[0] > 400 and i[1] > 400:\n",
        "    largest.append(i)\n",
        "\n",
        "startPoint = smallest[0]\n",
        "endPoint = largest[0]\n"
      ],
      "metadata": {
        "id": "mRX7u47l7tpb"
      },
      "execution_count": 18,
      "outputs": []
    },
    {
      "cell_type": "code",
      "source": [
        "startPoint,endPoint"
      ],
      "metadata": {
        "colab": {
          "base_uri": "https://localhost:8080/"
        },
        "id": "q_ekx1Vg8V_S",
        "outputId": "6dace74d-ef77-4c5e-8754-24be4c2d6979"
      },
      "execution_count": 19,
      "outputs": [
        {
          "output_type": "execute_result",
          "data": {
            "text/plain": [
              "([64, 99], [401, 414])"
            ]
          },
          "metadata": {},
          "execution_count": 19
        }
      ]
    },
    {
      "cell_type": "markdown",
      "source": [
        "**BFS Shortest Path**\n"
      ],
      "metadata": {
        "id": "0Km6dOkO2Nfg"
      }
    },
    {
      "cell_type": "code",
      "source": [
        "def BFS_SP(graph, start, goal):\n",
        "    explored = []\n",
        "     \n",
        "    # Queue for traversing the\n",
        "    # graph in the BFS\n",
        "    queue = [[start]]\n",
        "     \n",
        "    # If the desired node is\n",
        "    # reached\n",
        "    if start == goal:\n",
        "        print(\"Same Node\")\n",
        "        return\n",
        "     \n",
        "    # Loop to traverse the graph\n",
        "    # with the help of the queue\n",
        "    while queue:\n",
        "        path = queue.pop(0)\n",
        "        node = path[-1]\n",
        "         \n",
        "        # Condition to check if the\n",
        "        # current node is not visited\n",
        "        if node not in explored:\n",
        "            neighbours = graph[node]\n",
        "             \n",
        "            # Loop to iterate over the\n",
        "            # neighbours of the node\n",
        "            for neighbour in neighbours:\n",
        "                new_path = list(path)\n",
        "                new_path.append(neighbour)\n",
        "                queue.append(new_path)\n",
        "                 \n",
        "                # Condition to check if the\n",
        "                # neighbour node is the goal\n",
        "                if neighbour == goal:\n",
        "                    print(\"Shortest path = \", *new_path)\n",
        "                    return new_path\n",
        "            explored.append(node)\n",
        " \n",
        "    # Condition when the nodes\n",
        "    # are not connected\n",
        "    print(\"So sorry, but a connecting\"\\\n",
        "                \"path doesn't exist :(\")\n",
        "    return"
      ],
      "metadata": {
        "id": "7ujnjx_-2Myx"
      },
      "execution_count": 20,
      "outputs": []
    },
    {
      "cell_type": "code",
      "source": [
        "a = BFS_SP(tree, str(startPoint), str(endPoint))\n",
        "b = [i[1:-1] for i in a]\n",
        "b = [[int(i.split(\", \")[0]) ,int(i.split(\", \")[1])] for i in b]\n",
        "waypointsFinal = b"
      ],
      "metadata": {
        "colab": {
          "base_uri": "https://localhost:8080/"
        },
        "id": "rYFRmgxR2X6V",
        "outputId": "c352678e-3e84-4738-e13d-05e50b29fe9e"
      },
      "execution_count": 21,
      "outputs": [
        {
          "output_type": "stream",
          "name": "stdout",
          "text": [
            "Shortest path =  [64, 99] [63, 100] [63, 101] [62, 102] [62, 103] [61, 104] [61, 105] [60, 106] [60, 107] [59, 108] [59, 109] [58, 110] [58, 111] [57, 112] [57, 113] [56, 114] [56, 115] [55, 116] [55, 117] [54, 118] [54, 119] [53, 120] [53, 121] [53, 122] [53, 123] [53, 124] [53, 125] [53, 126] [53, 127] [53, 128] [53, 129] [53, 130] [53, 131] [53, 132] [53, 133] [53, 134] [53, 135] [53, 136] [53, 137] [53, 138] [53, 139] [53, 140] [53, 141] [53, 142] [53, 143] [53, 144] [53, 145] [53, 146] [53, 147] [53, 148] [53, 149] [53, 150] [53, 151] [53, 152] [53, 153] [53, 154] [53, 155] [53, 156] [53, 157] [53, 158] [53, 159] [53, 160] [53, 161] [53, 162] [53, 163] [53, 164] [53, 165] [53, 166] [53, 167] [53, 168] [53, 169] [53, 170] [53, 171] [53, 172] [53, 173] [53, 174] [53, 175] [53, 176] [53, 177] [53, 178] [53, 179] [53, 180] [53, 181] [53, 182] [53, 183] [53, 184] [53, 185] [53, 186] [53, 187] [53, 188] [53, 189] [53, 190] [53, 191] [53, 192] [53, 193] [53, 194] [53, 195] [53, 196] [53, 197] [53, 198] [53, 199] [53, 200] [53, 201] [53, 202] [53, 203] [53, 204] [53, 205] [53, 206] [53, 207] [53, 208] [53, 209] [54, 210] [54, 211] [55, 212] [55, 213] [56, 214] [56, 215] [57, 216] [57, 217] [58, 218] [58, 219] [59, 220] [59, 221] [60, 222] [60, 223] [61, 224] [61, 225] [62, 226] [62, 227] [63, 228] [63, 229] [64, 230] [64, 231] [65, 232] [65, 233] [66, 234] [66, 235] [67, 236] [67, 237] [68, 238] [68, 239] [69, 240] [69, 241] [70, 242] [70, 243] [71, 244] [71, 245] [72, 246] [72, 247] [73, 248] [73, 249] [74, 250] [74, 251] [75, 252] [75, 253] [76, 254] [76, 255] [77, 256] [77, 257] [78, 258] [78, 259] [79, 260] [79, 261] [80, 262] [80, 263] [81, 264] [82, 264] [83, 264] [84, 264] [85, 264] [86, 264] [87, 264] [88, 264] [89, 264] [90, 264] [91, 264] [92, 264] [93, 264] [94, 265] [95, 265] [96, 265] [97, 265] [98, 265] [99, 265] [100, 265] [101, 265] [102, 265] [103, 265] [104, 265] [105, 265] [106, 265] [107, 265] [108, 265] [109, 265] [110, 265] [111, 265] [112, 265] [113, 265] [114, 265] [115, 265] [116, 265] [117, 265] [118, 265] [119, 265] [120, 265] [121, 265] [122, 265] [123, 265] [124, 265] [125, 265] [126, 265] [127, 265] [128, 265] [129, 265] [130, 265] [131, 265] [132, 265] [133, 265] [134, 265] [135, 265] [136, 265] [137, 265] [138, 265] [139, 265] [140, 265] [141, 265] [142, 265] [143, 265] [144, 265] [145, 265] [146, 265] [147, 265] [148, 265] [149, 265] [150, 265] [151, 265] [152, 265] [153, 265] [154, 265] [155, 265] [156, 265] [157, 265] [158, 265] [159, 265] [160, 265] [161, 265] [162, 265] [163, 265] [164, 265] [165, 265] [166, 265] [167, 265] [168, 265] [169, 265] [170, 265] [171, 265] [172, 265] [173, 265] [174, 265] [175, 265] [176, 265] [177, 265] [178, 265] [179, 265] [180, 265] [181, 265] [182, 265] [183, 265] [184, 265] [185, 265] [186, 265] [187, 265] [188, 265] [189, 265] [190, 265] [191, 265] [192, 265] [193, 265] [194, 265] [195, 265] [196, 265] [197, 264] [198, 264] [199, 263] [200, 263] [201, 262] [202, 262] [203, 261] [204, 261] [205, 260] [206, 260] [207, 259] [208, 259] [209, 258] [210, 258] [211, 257] [212, 257] [213, 256] [214, 257] [215, 258] [216, 259] [217, 260] [218, 261] [219, 262] [220, 263] [221, 264] [222, 265] [223, 266] [224, 267] [225, 268] [226, 269] [227, 270] [227, 271] [228, 272] [228, 273] [229, 274] [229, 275] [230, 276] [230, 277] [231, 278] [231, 279] [232, 280] [232, 281] [233, 282] [233, 283] [234, 284] [234, 285] [235, 286] [235, 287] [236, 288] [236, 289] [237, 290] [237, 291] [238, 292] [238, 293] [239, 294] [239, 295] [240, 296] [240, 297] [241, 298] [241, 299] [242, 300] [242, 301] [243, 302] [243, 303] [244, 304] [244, 305] [245, 306] [245, 307] [246, 308] [246, 309] [247, 310] [247, 311] [248, 312] [248, 313] [249, 314] [249, 315] [250, 316] [250, 317] [251, 318] [251, 319] [252, 320] [252, 321] [253, 322] [253, 323] [253, 324] [253, 325] [253, 326] [253, 327] [253, 328] [253, 329] [253, 330] [253, 331] [253, 332] [253, 333] [253, 334] [253, 335] [253, 336] [253, 337] [253, 338] [253, 339] [253, 340] [253, 341] [253, 342] [253, 343] [253, 344] [253, 345] [253, 346] [253, 347] [253, 348] [253, 349] [253, 350] [253, 351] [253, 352] [253, 353] [253, 354] [253, 355] [253, 356] [253, 357] [253, 358] [252, 359] [252, 360] [251, 361] [251, 362] [250, 363] [250, 364] [249, 365] [249, 366] [248, 367] [248, 368] [247, 369] [247, 370] [246, 371] [246, 372] [245, 373] [245, 374] [244, 375] [244, 376] [243, 377] [243, 378] [242, 379] [242, 380] [241, 381] [241, 382] [240, 383] [240, 384] [239, 385] [239, 386] [238, 387] [238, 388] [237, 389] [237, 390] [236, 391] [236, 392] [235, 393] [235, 394] [234, 395] [234, 396] [233, 397] [233, 398] [232, 399] [232, 400] [231, 401] [231, 402] [230, 403] [230, 404] [229, 405] [229, 406] [228, 407] [228, 408] [228, 409] [228, 410] [229, 411] [230, 411] [231, 412] [232, 412] [233, 413] [234, 413] [235, 414] [236, 414] [237, 415] [238, 415] [239, 416] [240, 416] [241, 417] [242, 417] [243, 418] [244, 418] [245, 419] [246, 419] [247, 420] [248, 420] [249, 421] [250, 421] [251, 422] [252, 422] [253, 423] [254, 423] [255, 424] [256, 424] [257, 425] [258, 425] [259, 426] [260, 426] [261, 427] [262, 427] [263, 428] [264, 428] [265, 429] [266, 429] [267, 430] [268, 430] [269, 431] [270, 431] [271, 432] [272, 432] [273, 433] [274, 433] [275, 434] [276, 434] [277, 435] [278, 435] [279, 436] [280, 436] [281, 436] [282, 436] [283, 436] [284, 436] [285, 436] [286, 436] [287, 436] [288, 436] [289, 436] [290, 436] [291, 436] [292, 436] [293, 436] [294, 436] [295, 436] [296, 436] [297, 436] [298, 436] [299, 436] [300, 436] [301, 436] [302, 436] [303, 436] [304, 436] [305, 436] [306, 436] [307, 436] [308, 436] [309, 436] [310, 436] [311, 436] [312, 436] [313, 436] [314, 436] [315, 436] [316, 436] [317, 436] [318, 436] [319, 436] [320, 436] [321, 436] [322, 436] [323, 436] [324, 436] [325, 436] [326, 436] [327, 436] [328, 436] [329, 436] [330, 436] [331, 436] [332, 436] [333, 436] [334, 436] [335, 436] [336, 436] [337, 436] [338, 436] [339, 436] [340, 436] [341, 436] [342, 436] [343, 436] [344, 436] [345, 436] [346, 436] [347, 436] [348, 436] [349, 436] [350, 436] [351, 436] [352, 436] [353, 436] [354, 436] [355, 436] [356, 436] [357, 436] [358, 435] [359, 435] [360, 434] [361, 434] [362, 433] [363, 433] [364, 432] [365, 432] [366, 431] [367, 431] [368, 430] [369, 430] [370, 429] [371, 429] [372, 428] [373, 428] [374, 427] [375, 427] [376, 426] [377, 426] [378, 425] [379, 425] [380, 424] [381, 424] [382, 423] [383, 423] [384, 422] [385, 422] [386, 421] [387, 421] [388, 420] [389, 420] [390, 419] [391, 419] [392, 418] [393, 418] [394, 417] [395, 417] [396, 416] [397, 416] [398, 415] [399, 415] [400, 414] [401, 414]\n"
          ]
        }
      ]
    },
    {
      "cell_type": "code",
      "source": [
        "len(waypointsFinal)"
      ],
      "metadata": {
        "colab": {
          "base_uri": "https://localhost:8080/"
        },
        "id": "q5_ITbnH9ntL",
        "outputId": "fe7afa2b-3eec-4996-c9da-4e014780fb0a"
      },
      "execution_count": 22,
      "outputs": [
        {
          "output_type": "execute_result",
          "data": {
            "text/plain": [
              "625"
            ]
          },
          "metadata": {},
          "execution_count": 22
        }
      ]
    },
    {
      "cell_type": "code",
      "source": [
        ""
      ],
      "metadata": {
        "id": "g4ihxatw4lkG"
      },
      "execution_count": null,
      "outputs": []
    },
    {
      "cell_type": "code",
      "source": [
        "plt.imshow(world,cmap='gray')\n",
        "plt.scatter(startPoint[0],-startPoint[1]+thinned.shape[0])\n",
        "plt.scatter(endPoint[0],-endPoint[1]+thinned.shape[0])\n",
        "plt.show() "
      ],
      "metadata": {
        "colab": {
          "base_uri": "https://localhost:8080/",
          "height": 269
        },
        "id": "nh86_p7DDZYY",
        "outputId": "7b83ecfb-c8bb-47fe-a187-cbeaed9362cb"
      },
      "execution_count": 25,
      "outputs": [
        {
          "output_type": "display_data",
          "data": {
            "image/png": "[encoded data removed]",
            "text/plain": [
              "<Figure size 432x288 with 1 Axes>"
            ]
          },
          "metadata": {
            "needs_background": "light"
          }
        }
      ]
    },
    {
      "cell_type": "code",
      "source": [
        "#image = cv2.UMat.get(cv2.circle(world, (thinned.shape[0]-start[1],start[0]), radius=20,color=(0, 0, 255), thickness=-1))\n",
        "plt.imshow(world,cmap='gray')\n",
        "for i in range(len(waypointsFinal)):\n",
        "  plt.scatter(waypointsFinal[i][0],-waypointsFinal[i][1]+thinned.shape[0])\n",
        "plt.show() "
      ],
      "metadata": {
        "colab": {
          "base_uri": "https://localhost:8080/",
          "height": 269
        },
        "outputId": "cbe12be8-5881-4446-9ad9-03661587026e",
        "id": "5fdd4yWd9yX_"
      },
      "execution_count": 23,
      "outputs": [
        {
          "output_type": "display_data",
          "data": {
            "image/png": "[encoded data removed]",
            "text/plain": [
              "<Figure size 432x288 with 1 Axes>"
            ]
          },
          "metadata": {
            "needs_background": "light"
          }
        }
      ]
    },
    {
      "cell_type": "code",
      "source": [
        ""
      ],
      "metadata": {
        "id": "lf1QpyFK94JZ"
      },
      "execution_count": null,
      "outputs": []
    },
    {
      "cell_type": "code",
      "source": [
        "plt.figure()\n",
        "video = []\n",
        "for i in range(0,len(waypointsFinal),10):\n",
        "  image = cv2.UMat.get(cv2.circle(world, (waypointsFinal[i][0],-waypointsFinal[i][1]+thinned.shape[0]), radius=10,color=(0, 0, 255), thickness=-1))\n",
        "  plt.imshow(image,cmap='gray')\n",
        "  #plt.show()\n",
        "  plt.imsave('/content/maze1/'+str(i)+'.png',image,cmap='gray')\n",
        "  plt.clf()"
      ],
      "metadata": {
        "colab": {
          "base_uri": "https://localhost:8080/",
          "height": 34
        },
        "outputId": "1fb9a734-58b2-4d36-b29e-76022aa199a3",
        "id": "LfYCCjWa-J5w"
      },
      "execution_count": null,
      "outputs": [
        {
          "output_type": "display_data",
          "data": {
            "text/plain": [
              "<Figure size 432x288 with 0 Axes>"
            ]
          },
          "metadata": {}
        }
      ]
    },
    {
      "cell_type": "code",
      "source": [
        "!zip -r /content/maze1.zip /content/maze1"
      ],
      "metadata": {
        "colab": {
          "base_uri": "https://localhost:8080/"
        },
        "id": "Z7mj_qoH-K23",
        "outputId": "0ae5fedd-0c4f-4dda-e462-86857f9655bd"
      },
      "execution_count": null,
      "outputs": [
        {
          "output_type": "stream",
          "name": "stdout",
          "text": [
            "  adding: content/maze1/ (stored 0%)\n",
            "  adding: content/maze1/440.png (deflated 76%)\n",
            "  adding: content/maze1/110.png (deflated 74%)\n",
            "  adding: content/maze1/590.png (deflated 76%)\n",
            "  adding: content/maze1/580.png (deflated 76%)\n",
            "  adding: content/maze1/170.png (deflated 75%)\n",
            "  adding: content/maze1/200.png (deflated 75%)\n",
            "  adding: content/maze1/80.png (deflated 75%)\n",
            "  adding: content/maze1/550.png (deflated 76%)\n",
            "  adding: content/maze1/280.png (deflated 76%)\n",
            "  adding: content/maze1/180.png (deflated 76%)\n",
            "  adding: content/maze1/20.png (deflated 75%)\n",
            "  adding: content/maze1/150.png (deflated 75%)\n",
            "  adding: content/maze1/490.png (deflated 76%)\n",
            "  adding: content/maze1/350.png (deflated 76%)\n",
            "  adding: content/maze1/530.png (deflated 76%)\n",
            "  adding: content/maze1/240.png (deflated 76%)\n",
            "  adding: content/maze1/620.png (deflated 77%)\n",
            "  adding: content/maze1/520.png (deflated 75%)\n",
            "  adding: content/maze1/470.png (deflated 76%)\n",
            "  adding: content/maze1/570.png (deflated 76%)\n",
            "  adding: content/maze1/360.png (deflated 76%)\n",
            "  adding: content/maze1/460.png (deflated 76%)\n",
            "  adding: content/maze1/320.png (deflated 76%)\n",
            "  adding: content/maze1/270.png (deflated 76%)\n",
            "  adding: content/maze1/260.png (deflated 76%)\n",
            "  adding: content/maze1/330.png (deflated 76%)\n",
            "  adding: content/maze1/250.png (deflated 75%)\n",
            "  adding: content/maze1/420.png (deflated 76%)\n",
            "  adding: content/maze1/390.png (deflated 76%)\n",
            "  adding: content/maze1/190.png (deflated 76%)\n",
            "  adding: content/maze1/230.png (deflated 76%)\n",
            "  adding: content/maze1/220.png (deflated 76%)\n",
            "  adding: content/maze1/560.png (deflated 76%)\n",
            "  adding: content/maze1/610.png (deflated 76%)\n",
            "  adding: content/maze1/0.png (deflated 74%)\n",
            "  adding: content/maze1/540.png (deflated 76%)\n",
            "  adding: content/maze1/40.png (deflated 75%)\n",
            "  adding: content/maze1/310.png (deflated 76%)\n",
            "  adding: content/maze1/210.png (deflated 76%)\n",
            "  adding: content/maze1/90.png (deflated 75%)\n",
            "  adding: content/maze1/430.png (deflated 76%)\n",
            "  adding: content/maze1/60.png (deflated 74%)\n",
            "  adding: content/maze1/10.png (deflated 75%)\n",
            "  adding: content/maze1/340.png (deflated 75%)\n",
            "  adding: content/maze1/300.png (deflated 76%)\n",
            "  adding: content/maze1/100.png (deflated 75%)\n",
            "  adding: content/maze1/400.png (deflated 76%)\n",
            "  adding: content/maze1/370.png (deflated 76%)\n",
            "  adding: content/maze1/120.png (deflated 75%)\n",
            "  adding: content/maze1/130.png (deflated 75%)\n",
            "  adding: content/maze1/140.png (deflated 75%)\n",
            "  adding: content/maze1/70.png (deflated 74%)\n",
            "  adding: content/maze1/410.png (deflated 76%)\n",
            "  adding: content/maze1/450.png (deflated 76%)\n",
            "  adding: content/maze1/30.png (deflated 75%)\n",
            "  adding: content/maze1/510.png (deflated 76%)\n",
            "  adding: content/maze1/290.png (deflated 76%)\n",
            "  adding: content/maze1/50.png (deflated 74%)\n",
            "  adding: content/maze1/500.png (deflated 75%)\n",
            "  adding: content/maze1/160.png (deflated 76%)\n",
            "  adding: content/maze1/600.png (deflated 75%)\n",
            "  adding: content/maze1/380.png (deflated 76%)\n",
            "  adding: content/maze1/480.png (deflated 76%)\n"
          ]
        }
      ]
    },
    {
      "cell_type": "code",
      "source": [
        ""
      ],
      "metadata": {
        "id": "tkGnHc4h-Vbr"
      },
      "execution_count": null,
      "outputs": []
    },
    {
      "cell_type": "code",
      "source": [
        ""
      ],
      "metadata": {
        "id": "O_waJU1WBREZ"
      },
      "execution_count": null,
      "outputs": []
    },
    {
      "cell_type": "markdown",
      "source": [
        "# MazeReal"
      ],
      "metadata": {
        "id": "Ov9BjjkRBRgq"
      }
    },
    {
      "cell_type": "markdown",
      "source": [
        "**Create Tree**"
      ],
      "metadata": {
        "id": "N6HtnwraBRgr"
      }
    },
    {
      "cell_type": "code",
      "source": [
        "world = rgb2gray(cv2.imread('mazeReal.png'))\n",
        "thresh = threshold_otsu(world)\n",
        "world = world > thresh\n",
        "#world = 1 - world\n",
        "thinned = skeletonize(world)\n",
        "#thinned = thin(world)\n",
        "#skel = skeletonize(world)\n",
        "plt.imshow(thinned+1-world)\n",
        "\n",
        "waypoints = [];\n",
        "waypointsR = [];\n",
        "waypointsC = [];\n",
        "for i in range(thinned.shape[0]):\n",
        "  for j in range(thinned.shape[1]):\n",
        "    if thinned[i,j] == True:\n",
        "      waypoints.append([j,thinned.shape[0]-i])\n",
        "      waypointsR.append(j);\n",
        "      waypointsC.append(thinned.shape[0]-i);\n",
        "\n",
        "#In this section we do some coordinate transformations. Take waypoints to image \n",
        "#frame\n",
        "waypointsF = []\n",
        "for i in waypoints:\n",
        "  waypointsF.append([i[0],-i[1]+thinned.shape[0]])\n",
        "waypoints = waypointsF\n",
        "\n",
        "start = waypoints[0]\n",
        "Currentloc = []\n",
        "tree = {}\n",
        "for i in range(len(waypoints)):\n",
        "  x = waypoints[i][0]\n",
        "  y = waypoints[i][1]\n",
        "  neighbours = []\n",
        "  for j in range(len(waypoints)):\n",
        "    x_new = waypoints[j][0]\n",
        "    y_new = waypoints[j][1]\n",
        "    #              left                        right                 \n",
        "    if ((x == x_new + 1) and (y == y_new)) or ((x == x_new -1) and (y == y_new)) or ((x == x_new) and (y == y_new +1)) or ((x == x_new) and (y == y_new - 1)) or ((x == x_new+1) and (y == y_new+1)) or ((x == x_new - 1) and (y == y_new - 1)) or ((x == x_new+1) and (y == y_new-1)) or ((x == x_new - 1) and (y == y_new + 1)):\n",
        "      neighbours.append(str(waypoints[j]))\n",
        "      #print(neighbours)\n",
        "  tree[str(waypoints[i])]  = neighbours"
      ],
      "metadata": {
        "colab": {
          "base_uri": "https://localhost:8080/",
          "height": 269
        },
        "outputId": "cf7e5ac5-e8da-4eb8-dc19-865059791b80",
        "id": "VZwGqgJUBRgr"
      },
      "execution_count": 26,
      "outputs": [
        {
          "output_type": "display_data",
          "data": {
            "image/png": "[encoded data removed]",
            "text/plain": [
              "<Figure size 432x288 with 1 Axes>"
            ]
          },
          "metadata": {
            "needs_background": "light"
          }
        }
      ]
    },
    {
      "cell_type": "markdown",
      "source": [
        "**Select a starting point on bottom left corer and end point on top right**"
      ],
      "metadata": {
        "id": "S1T_XSHCBRgs"
      }
    },
    {
      "cell_type": "code",
      "source": [
        "smallest = []\n",
        "largest = []\n",
        "for i in waypoints:\n",
        "  if i[0] < 80 and i[1] > 180 and i[1] < 220:\n",
        "    smallest.append(i)\n",
        "  if i[0] < 800 and i[1] > 310-50 and i[1] < 310+50:\n",
        "    largest.append(i)\n",
        "\n",
        "startPoint = [smallest[0][1],smallest[0][0]]\n",
        "endPoint = [largest[0][1],largest[0][0]]\n"
      ],
      "metadata": {
        "id": "9bfYKuN8BRgs"
      },
      "execution_count": 8,
      "outputs": []
    },
    {
      "cell_type": "code",
      "source": [
        "startPoint,endPoint"
      ],
      "metadata": {
        "colab": {
          "base_uri": "https://localhost:8080/"
        },
        "outputId": "5678392f-aafa-4bcc-d3e7-2074d3a96233",
        "id": "-YCzQsGlBRgs"
      },
      "execution_count": 9,
      "outputs": [
        {
          "output_type": "execute_result",
          "data": {
            "text/plain": [
              "([181, 72], [261, 72])"
            ]
          },
          "metadata": {},
          "execution_count": 9
        }
      ]
    },
    {
      "cell_type": "code",
      "source": [
        "plt.imshow(world)\n",
        "plt.scatter(startPoint[0],-startPoint[1]+thinned.shape[0])\n",
        "plt.scatter(endPoint[0],-endPoint[1]+thinned.shape[0])\n",
        "plt.show() "
      ],
      "metadata": {
        "colab": {
          "base_uri": "https://localhost:8080/",
          "height": 269
        },
        "id": "rcB4OnhNElKT",
        "outputId": "cd3a1f1d-95e8-4d05-8bcf-b8baabe58ee2"
      },
      "execution_count": 27,
      "outputs": [
        {
          "output_type": "display_data",
          "data": {
            "image/png": "[encoded data removed]",
            "text/plain": [
              "<Figure size 432x288 with 1 Axes>"
            ]
          },
          "metadata": {
            "needs_background": "light"
          }
        }
      ]
    },
    {
      "cell_type": "markdown",
      "source": [
        "**BFS Shortest Path**\n"
      ],
      "metadata": {
        "id": "orSg9m3-BRgs"
      }
    },
    {
      "cell_type": "code",
      "source": [
        "def BFS_SP(graph, start, goal):\n",
        "    explored = []\n",
        "     \n",
        "    # Queue for traversing the\n",
        "    # graph in the BFS\n",
        "    queue = [[start]]\n",
        "     \n",
        "    # If the desired node is\n",
        "    # reached\n",
        "    if start == goal:\n",
        "        print(\"Same Node\")\n",
        "        return\n",
        "     \n",
        "    # Loop to traverse the graph\n",
        "    # with the help of the queue\n",
        "    while queue:\n",
        "        path = queue.pop(0)\n",
        "        node = path[-1]\n",
        "         \n",
        "        # Condition to check if the\n",
        "        # current node is not visited\n",
        "        if node not in explored:\n",
        "            neighbours = graph[node]\n",
        "             \n",
        "            # Loop to iterate over the\n",
        "            # neighbours of the node\n",
        "            for neighbour in neighbours:\n",
        "                new_path = list(path)\n",
        "                new_path.append(neighbour)\n",
        "                queue.append(new_path)\n",
        "                 \n",
        "                # Condition to check if the\n",
        "                # neighbour node is the goal\n",
        "                if neighbour == goal:\n",
        "                    print(\"Shortest path = \", *new_path)\n",
        "                    return new_path\n",
        "            explored.append(node)\n",
        " \n",
        "    # Condition when the nodes\n",
        "    # are not connected\n",
        "    print(\"So sorry, but a connecting\"\\\n",
        "                \"path doesn't exist :(\")\n",
        "    return"
      ],
      "metadata": {
        "id": "5HDmGXedBRgs"
      },
      "execution_count": 12,
      "outputs": []
    },
    {
      "cell_type": "code",
      "source": [
        "a = BFS_SP(tree, str(startPoint), str(endPoint))\n",
        "b = [i[1:-1] for i in a]\n",
        "b = [[int(i.split(\", \")[0]) ,int(i.split(\", \")[1])] for i in b]\n",
        "waypointsFinal = b"
      ],
      "metadata": {
        "colab": {
          "base_uri": "https://localhost:8080/",
          "height": 339
        },
        "outputId": "80b38c39-7a50-4c4d-cf85-1afca5bcb2af",
        "id": "EEB9olgIBRgt"
      },
      "execution_count": 13,
      "outputs": [
        {
          "output_type": "error",
          "ename": "KeyError",
          "evalue": "ignored",
          "traceback": [
            "\u001b[0;31m---------------------------------------------------------------------------\u001b[0m",
            "\u001b[0;31mKeyError\u001b[0m                                  Traceback (most recent call last)",
            "\u001b[0;32m<ipython-input-13-c6c93d39e014>\u001b[0m in \u001b[0;36m<module>\u001b[0;34m()\u001b[0m\n\u001b[0;32m----> 1\u001b[0;31m \u001b[0ma\u001b[0m \u001b[0;34m=\u001b[0m \u001b[0mBFS_SP\u001b[0m\u001b[0;34m(\u001b[0m\u001b[0mtree\u001b[0m\u001b[0;34m,\u001b[0m \u001b[0mstr\u001b[0m\u001b[0;34m(\u001b[0m\u001b[0mstartPoint\u001b[0m\u001b[0;34m)\u001b[0m\u001b[0;34m,\u001b[0m \u001b[0mstr\u001b[0m\u001b[0;34m(\u001b[0m\u001b[0mendPoint\u001b[0m\u001b[0;34m)\u001b[0m\u001b[0;34m)\u001b[0m\u001b[0;34m\u001b[0m\u001b[0;34m\u001b[0m\u001b[0m\n\u001b[0m\u001b[1;32m      2\u001b[0m \u001b[0mb\u001b[0m \u001b[0;34m=\u001b[0m \u001b[0;34m[\u001b[0m\u001b[0mi\u001b[0m\u001b[0;34m[\u001b[0m\u001b[0;36m1\u001b[0m\u001b[0;34m:\u001b[0m\u001b[0;34m-\u001b[0m\u001b[0;36m1\u001b[0m\u001b[0;34m]\u001b[0m \u001b[0;32mfor\u001b[0m \u001b[0mi\u001b[0m \u001b[0;32min\u001b[0m \u001b[0ma\u001b[0m\u001b[0;34m]\u001b[0m\u001b[0;34m\u001b[0m\u001b[0;34m\u001b[0m\u001b[0m\n\u001b[1;32m      3\u001b[0m \u001b[0mb\u001b[0m \u001b[0;34m=\u001b[0m \u001b[0;34m[\u001b[0m\u001b[0;34m[\u001b[0m\u001b[0mint\u001b[0m\u001b[0;34m(\u001b[0m\u001b[0mi\u001b[0m\u001b[0;34m.\u001b[0m\u001b[0msplit\u001b[0m\u001b[0;34m(\u001b[0m\u001b[0;34m\", \"\u001b[0m\u001b[0;34m)\u001b[0m\u001b[0;34m[\u001b[0m\u001b[0;36m0\u001b[0m\u001b[0;34m]\u001b[0m\u001b[0;34m)\u001b[0m \u001b[0;34m,\u001b[0m\u001b[0mint\u001b[0m\u001b[0;34m(\u001b[0m\u001b[0mi\u001b[0m\u001b[0;34m.\u001b[0m\u001b[0msplit\u001b[0m\u001b[0;34m(\u001b[0m\u001b[0;34m\", \"\u001b[0m\u001b[0;34m)\u001b[0m\u001b[0;34m[\u001b[0m\u001b[0;36m1\u001b[0m\u001b[0;34m]\u001b[0m\u001b[0;34m)\u001b[0m\u001b[0;34m]\u001b[0m \u001b[0;32mfor\u001b[0m \u001b[0mi\u001b[0m \u001b[0;32min\u001b[0m \u001b[0mb\u001b[0m\u001b[0;34m]\u001b[0m\u001b[0;34m\u001b[0m\u001b[0;34m\u001b[0m\u001b[0m\n\u001b[1;32m      4\u001b[0m \u001b[0mwaypointsFinal\u001b[0m \u001b[0;34m=\u001b[0m \u001b[0mb\u001b[0m\u001b[0;34m\u001b[0m\u001b[0;34m\u001b[0m\u001b[0m\n",
            "\u001b[0;32m<ipython-input-12-0b0f02777e58>\u001b[0m in \u001b[0;36mBFS_SP\u001b[0;34m(graph, start, goal)\u001b[0m\n\u001b[1;32m     21\u001b[0m         \u001b[0;31m# current node is not visited\u001b[0m\u001b[0;34m\u001b[0m\u001b[0;34m\u001b[0m\u001b[0;34m\u001b[0m\u001b[0m\n\u001b[1;32m     22\u001b[0m         \u001b[0;32mif\u001b[0m \u001b[0mnode\u001b[0m \u001b[0;32mnot\u001b[0m \u001b[0;32min\u001b[0m \u001b[0mexplored\u001b[0m\u001b[0;34m:\u001b[0m\u001b[0;34m\u001b[0m\u001b[0;34m\u001b[0m\u001b[0m\n\u001b[0;32m---> 23\u001b[0;31m             \u001b[0mneighbours\u001b[0m \u001b[0;34m=\u001b[0m \u001b[0mgraph\u001b[0m\u001b[0;34m[\u001b[0m\u001b[0mnode\u001b[0m\u001b[0;34m]\u001b[0m\u001b[0;34m\u001b[0m\u001b[0;34m\u001b[0m\u001b[0m\n\u001b[0m\u001b[1;32m     24\u001b[0m \u001b[0;34m\u001b[0m\u001b[0m\n\u001b[1;32m     25\u001b[0m             \u001b[0;31m# Loop to iterate over the\u001b[0m\u001b[0;34m\u001b[0m\u001b[0;34m\u001b[0m\u001b[0;34m\u001b[0m\u001b[0m\n",
            "\u001b[0;31mKeyError\u001b[0m: '[181, 72]'"
          ]
        }
      ]
    },
    {
      "cell_type": "code",
      "source": [
        "len(waypointsFinal)"
      ],
      "metadata": {
        "colab": {
          "base_uri": "https://localhost:8080/",
          "height": 165
        },
        "outputId": "ad65397b-7cae-4173-eda1-51d5f7630bc9",
        "id": "IMp3mwWwBRgt"
      },
      "execution_count": 14,
      "outputs": [
        {
          "output_type": "error",
          "ename": "NameError",
          "evalue": "ignored",
          "traceback": [
            "\u001b[0;31m---------------------------------------------------------------------------\u001b[0m",
            "\u001b[0;31mNameError\u001b[0m                                 Traceback (most recent call last)",
            "\u001b[0;32m<ipython-input-14-f1ef56459ad0>\u001b[0m in \u001b[0;36m<module>\u001b[0;34m()\u001b[0m\n\u001b[0;32m----> 1\u001b[0;31m \u001b[0mlen\u001b[0m\u001b[0;34m(\u001b[0m\u001b[0mwaypointsFinal\u001b[0m\u001b[0;34m)\u001b[0m\u001b[0;34m\u001b[0m\u001b[0;34m\u001b[0m\u001b[0m\n\u001b[0m",
            "\u001b[0;31mNameError\u001b[0m: name 'waypointsFinal' is not defined"
          ]
        }
      ]
    },
    {
      "cell_type": "code",
      "source": [
        ""
      ],
      "metadata": {
        "id": "A45UiivfBRgt"
      },
      "execution_count": null,
      "outputs": []
    },
    {
      "cell_type": "code",
      "source": [
        "#image = cv2.UMat.get(cv2.circle(world, (thinned.shape[0]-start[1],start[0]), radius=20,color=(0, 0, 255), thickness=-1))\n",
        "plt.imshow(world)\n",
        "for i in range(len(waypointsFinal)):\n",
        "  plt.scatter(waypointsFinal[i][0],-waypointsFinal[i][1]+thinned.shape[0])\n",
        "plt.show() "
      ],
      "metadata": {
        "colab": {
          "base_uri": "https://localhost:8080/",
          "height": 504
        },
        "outputId": "98371cc1-2e03-4df7-9c64-cba558163fcc",
        "id": "mtEBr3uuBRgt"
      },
      "execution_count": 15,
      "outputs": [
        {
          "output_type": "error",
          "ename": "NameError",
          "evalue": "ignored",
          "traceback": [
            "\u001b[0;31m---------------------------------------------------------------------------\u001b[0m",
            "\u001b[0;31mNameError\u001b[0m                                 Traceback (most recent call last)",
            "\u001b[0;32m<ipython-input-15-79244357babd>\u001b[0m in \u001b[0;36m<module>\u001b[0;34m()\u001b[0m\n\u001b[1;32m      1\u001b[0m \u001b[0;31m#image = cv2.UMat.get(cv2.circle(world, (thinned.shape[0]-start[1],start[0]), radius=20,color=(0, 0, 255), thickness=-1))\u001b[0m\u001b[0;34m\u001b[0m\u001b[0;34m\u001b[0m\u001b[0;34m\u001b[0m\u001b[0m\n\u001b[1;32m      2\u001b[0m \u001b[0mplt\u001b[0m\u001b[0;34m.\u001b[0m\u001b[0mimshow\u001b[0m\u001b[0;34m(\u001b[0m\u001b[0mworld\u001b[0m\u001b[0;34m)\u001b[0m\u001b[0;34m\u001b[0m\u001b[0;34m\u001b[0m\u001b[0m\n\u001b[0;32m----> 3\u001b[0;31m \u001b[0;32mfor\u001b[0m \u001b[0mi\u001b[0m \u001b[0;32min\u001b[0m \u001b[0mrange\u001b[0m\u001b[0;34m(\u001b[0m\u001b[0mlen\u001b[0m\u001b[0;34m(\u001b[0m\u001b[0mwaypointsFinal\u001b[0m\u001b[0;34m)\u001b[0m\u001b[0;34m)\u001b[0m\u001b[0;34m:\u001b[0m\u001b[0;34m\u001b[0m\u001b[0;34m\u001b[0m\u001b[0m\n\u001b[0m\u001b[1;32m      4\u001b[0m   \u001b[0mplt\u001b[0m\u001b[0;34m.\u001b[0m\u001b[0mscatter\u001b[0m\u001b[0;34m(\u001b[0m\u001b[0mwaypointsFinal\u001b[0m\u001b[0;34m[\u001b[0m\u001b[0mi\u001b[0m\u001b[0;34m]\u001b[0m\u001b[0;34m[\u001b[0m\u001b[0;36m0\u001b[0m\u001b[0;34m]\u001b[0m\u001b[0;34m,\u001b[0m\u001b[0;34m-\u001b[0m\u001b[0mwaypointsFinal\u001b[0m\u001b[0;34m[\u001b[0m\u001b[0mi\u001b[0m\u001b[0;34m]\u001b[0m\u001b[0;34m[\u001b[0m\u001b[0;36m1\u001b[0m\u001b[0;34m]\u001b[0m\u001b[0;34m+\u001b[0m\u001b[0mthinned\u001b[0m\u001b[0;34m.\u001b[0m\u001b[0mshape\u001b[0m\u001b[0;34m[\u001b[0m\u001b[0;36m0\u001b[0m\u001b[0;34m]\u001b[0m\u001b[0;34m)\u001b[0m\u001b[0;34m\u001b[0m\u001b[0;34m\u001b[0m\u001b[0m\n\u001b[1;32m      5\u001b[0m \u001b[0mplt\u001b[0m\u001b[0;34m.\u001b[0m\u001b[0mshow\u001b[0m\u001b[0;34m(\u001b[0m\u001b[0;34m)\u001b[0m\u001b[0;34m\u001b[0m\u001b[0;34m\u001b[0m\u001b[0m\n",
            "\u001b[0;31mNameError\u001b[0m: name 'waypointsFinal' is not defined"
          ]
        },
        {
          "output_type": "display_data",
          "data": {
            "image/png": "[encoded data removed]",
            "text/plain": [
              "<Figure size 432x288 with 1 Axes>"
            ]
          },
          "metadata": {
            "needs_background": "light"
          }
        }
      ]
    },
    {
      "cell_type": "code",
      "source": [
        ""
      ],
      "metadata": {
        "id": "nPlkSkrtBRgt"
      },
      "execution_count": null,
      "outputs": []
    },
    {
      "cell_type": "code",
      "source": [
        "plt.figure()\n",
        "video = []\n",
        "for i in range(0,len(waypointsFinal),10):\n",
        "  image = cv2.UMat.get(cv2.circle(world, (waypointsFinal[i][0],-waypointsFinal[i][1]+thinned.shape[0]), radius=10,color=(0, 0, 255), thickness=-1))\n",
        "  plt.imshow(image,cmap='gray')\n",
        "  #plt.show()\n",
        "  plt.imsave('/content/maze1/'+str(i)+'.png',image,cmap='gray')\n",
        "  plt.clf()"
      ],
      "metadata": {
        "colab": {
          "base_uri": "https://localhost:8080/",
          "height": 34
        },
        "outputId": "1fb9a734-58b2-4d36-b29e-76022aa199a3",
        "id": "OekOQoNhBRgu"
      },
      "execution_count": null,
      "outputs": [
        {
          "output_type": "display_data",
          "data": {
            "text/plain": [
              "<Figure size 432x288 with 0 Axes>"
            ]
          },
          "metadata": {}
        }
      ]
    },
    {
      "cell_type": "code",
      "source": [
        "!zip -r /content/maze1.zip /content/maze1"
      ],
      "metadata": {
        "colab": {
          "base_uri": "https://localhost:8080/"
        },
        "outputId": "0ae5fedd-0c4f-4dda-e462-86857f9655bd",
        "id": "o71xVldJBRgu"
      },
      "execution_count": null,
      "outputs": [
        {
          "output_type": "stream",
          "name": "stdout",
          "text": [
            "  adding: content/maze1/ (stored 0%)\n",
            "  adding: content/maze1/440.png (deflated 76%)\n",
            "  adding: content/maze1/110.png (deflated 74%)\n",
            "  adding: content/maze1/590.png (deflated 76%)\n",
            "  adding: content/maze1/580.png (deflated 76%)\n",
            "  adding: content/maze1/170.png (deflated 75%)\n",
            "  adding: content/maze1/200.png (deflated 75%)\n",
            "  adding: content/maze1/80.png (deflated 75%)\n",
            "  adding: content/maze1/550.png (deflated 76%)\n",
            "  adding: content/maze1/280.png (deflated 76%)\n",
            "  adding: content/maze1/180.png (deflated 76%)\n",
            "  adding: content/maze1/20.png (deflated 75%)\n",
            "  adding: content/maze1/150.png (deflated 75%)\n",
            "  adding: content/maze1/490.png (deflated 76%)\n",
            "  adding: content/maze1/350.png (deflated 76%)\n",
            "  adding: content/maze1/530.png (deflated 76%)\n",
            "  adding: content/maze1/240.png (deflated 76%)\n",
            "  adding: content/maze1/620.png (deflated 77%)\n",
            "  adding: content/maze1/520.png (deflated 75%)\n",
            "  adding: content/maze1/470.png (deflated 76%)\n",
            "  adding: content/maze1/570.png (deflated 76%)\n",
            "  adding: content/maze1/360.png (deflated 76%)\n",
            "  adding: content/maze1/460.png (deflated 76%)\n",
            "  adding: content/maze1/320.png (deflated 76%)\n",
            "  adding: content/maze1/270.png (deflated 76%)\n",
            "  adding: content/maze1/260.png (deflated 76%)\n",
            "  adding: content/maze1/330.png (deflated 76%)\n",
            "  adding: content/maze1/250.png (deflated 75%)\n",
            "  adding: content/maze1/420.png (deflated 76%)\n",
            "  adding: content/maze1/390.png (deflated 76%)\n",
            "  adding: content/maze1/190.png (deflated 76%)\n",
            "  adding: content/maze1/230.png (deflated 76%)\n",
            "  adding: content/maze1/220.png (deflated 76%)\n",
            "  adding: content/maze1/560.png (deflated 76%)\n",
            "  adding: content/maze1/610.png (deflated 76%)\n",
            "  adding: content/maze1/0.png (deflated 74%)\n",
            "  adding: content/maze1/540.png (deflated 76%)\n",
            "  adding: content/maze1/40.png (deflated 75%)\n",
            "  adding: content/maze1/310.png (deflated 76%)\n",
            "  adding: content/maze1/210.png (deflated 76%)\n",
            "  adding: content/maze1/90.png (deflated 75%)\n",
            "  adding: content/maze1/430.png (deflated 76%)\n",
            "  adding: content/maze1/60.png (deflated 74%)\n",
            "  adding: content/maze1/10.png (deflated 75%)\n",
            "  adding: content/maze1/340.png (deflated 75%)\n",
            "  adding: content/maze1/300.png (deflated 76%)\n",
            "  adding: content/maze1/100.png (deflated 75%)\n",
            "  adding: content/maze1/400.png (deflated 76%)\n",
            "  adding: content/maze1/370.png (deflated 76%)\n",
            "  adding: content/maze1/120.png (deflated 75%)\n",
            "  adding: content/maze1/130.png (deflated 75%)\n",
            "  adding: content/maze1/140.png (deflated 75%)\n",
            "  adding: content/maze1/70.png (deflated 74%)\n",
            "  adding: content/maze1/410.png (deflated 76%)\n",
            "  adding: content/maze1/450.png (deflated 76%)\n",
            "  adding: content/maze1/30.png (deflated 75%)\n",
            "  adding: content/maze1/510.png (deflated 76%)\n",
            "  adding: content/maze1/290.png (deflated 76%)\n",
            "  adding: content/maze1/50.png (deflated 74%)\n",
            "  adding: content/maze1/500.png (deflated 75%)\n",
            "  adding: content/maze1/160.png (deflated 76%)\n",
            "  adding: content/maze1/600.png (deflated 75%)\n",
            "  adding: content/maze1/380.png (deflated 76%)\n",
            "  adding: content/maze1/480.png (deflated 76%)\n"
          ]
        }
      ]
    },
    {
      "cell_type": "code",
      "source": [
        ""
      ],
      "metadata": {
        "id": "L3Ulvvh8BRgu"
      },
      "execution_count": null,
      "outputs": []
    }
  ]
}