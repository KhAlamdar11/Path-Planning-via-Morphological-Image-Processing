{
  "cells": [
    {
      "cell_type": "markdown",
      "metadata": {
        "id": "d4-zIhTvBO-5"
      },
      "source": [
        "# Libraries\n"
      ]
    },
    {
      "cell_type": "code",
      "execution_count": null,
      "metadata": {
        "id": "NY0koUClAKWv"
      },
      "outputs": [],
      "source": [
        "#@title\n",
        "from skimage.morphology import thin, skeletonize\n",
        "from skimage.color import rgb2gray\n",
        "from skimage.filters import threshold_otsu\n",
        "import numpy as np\n",
        "import matplotlib.pyplot as plt\n",
        "import cv2\n",
        "# import cv2.imshow\n",
        "import time\n",
        "from PIL import Image\n",
        "from matplotlib import cm\n",
        "from PIL import Image"
      ]
    },
    {
      "attachments": {},
      "cell_type": "markdown",
      "metadata": {
        "id": "Ov9BjjkRBRgq"
      },
      "source": []
    },
    {
      "attachments": {},
      "cell_type": "markdown",
      "metadata": {
        "id": "N6HtnwraBRgr"
      },
      "source": [
        "# Create Tree using binary image"
      ]
    },
    {
      "cell_type": "code",
      "execution_count": null,
      "metadata": {
        "colab": {
          "base_uri": "https://localhost:8080/",
          "height": 269
        },
        "id": "VZwGqgJUBRgr",
        "outputId": "cf7e5ac5-e8da-4eb8-dc19-865059791b80"
      },
      "outputs": [
        {
          "data": {
            "image/png": "[encoded data removed]",
            "text/plain": [
              "<Figure size 432x288 with 1 Axes>"
            ]
          },
          "metadata": {
            "needs_background": "light"
          },
          "output_type": "display_data"
        }
      ],
      "source": [
        "world = rgb2gray(cv2.imread('mazeReal.png'))\n",
        "# Binarize image to reduce noise that may be present in the image\n",
        "thresh = threshold_otsu(world)\n",
        "world = world > thresh\n",
        "#world = 1 - world\n",
        "# skeletonize the free space to find the voronoi space\n",
        "thinned = skeletonize(world)\n",
        "#thinned = thin(world)\n",
        "#skel = skeletonize(world)\n",
        "plt.imshow(thinned+1-world)\n",
        "\n",
        "# Create a tree using the voronoi space\n",
        "waypoints = [];\n",
        "waypointsR = [];\n",
        "waypointsC = [];\n",
        "for i in range(thinned.shape[0]):\n",
        "  for j in range(thinned.shape[1]):\n",
        "    if thinned[i,j] == True:\n",
        "      waypoints.append([j,thinned.shape[0]-i])\n",
        "      waypointsR.append(j);\n",
        "      waypointsC.append(thinned.shape[0]-i);\n",
        "\n",
        "#In this section we do some coordinate transformations. Take waypoints to image \n",
        "#frame\n",
        "waypointsF = []\n",
        "for i in waypoints:\n",
        "  waypointsF.append([i[0],-i[1]+thinned.shape[0]])\n",
        "waypoints = waypointsF\n",
        "\n",
        "start = waypoints[0]\n",
        "Currentloc = []\n",
        "tree = {}\n",
        "for i in range(len(waypoints)):\n",
        "  x = waypoints[i][0]\n",
        "  y = waypoints[i][1]\n",
        "  neighbours = []\n",
        "  for j in range(len(waypoints)):\n",
        "    x_new = waypoints[j][0]\n",
        "    y_new = waypoints[j][1]\n",
        "    #              left                        right                 \n",
        "    if ((x == x_new + 1) and (y == y_new)) or ((x == x_new -1) and (y == y_new)) or ((x == x_new) and (y == y_new +1)) or ((x == x_new) and (y == y_new - 1)) or ((x == x_new+1) and (y == y_new+1)) or ((x == x_new - 1) and (y == y_new - 1)) or ((x == x_new+1) and (y == y_new-1)) or ((x == x_new - 1) and (y == y_new + 1)):\n",
        "      neighbours.append(str(waypoints[j]))\n",
        "      #print(neighbours)\n",
        "  tree[str(waypoints[i])]  = neighbours"
      ]
    },
    {
      "cell_type": "markdown",
      "metadata": {
        "id": "S1T_XSHCBRgs"
      },
      "source": [
        "**Select a starting point on bottom left corer and end point on top right**"
      ]
    },
    {
      "cell_type": "code",
      "execution_count": 8,
      "metadata": {
        "id": "9bfYKuN8BRgs"
      },
      "outputs": [],
      "source": [
        "# select start and end points from the voronoi space\n",
        "smallest = []\n",
        "largest = []\n",
        "for i in waypoints:\n",
        "  if i[0] < 80 and i[1] > 180 and i[1] < 220:\n",
        "    smallest.append(i)\n",
        "  if i[0] < 800 and i[1] > 310-50 and i[1] < 310+50:\n",
        "    largest.append(i)\n",
        "\n",
        "startPoint = [smallest[0][1],smallest[0][0]]\n",
        "endPoint = [largest[0][1],largest[0][0]]\n",
        "\n",
        "startPoint,endPoint"
      ]
    },
    {
      "cell_type": "code",
      "execution_count": 27,
      "metadata": {
        "colab": {
          "base_uri": "https://localhost:8080/",
          "height": 269
        },
        "id": "rcB4OnhNElKT",
        "outputId": "cd3a1f1d-95e8-4d05-8bcf-b8baabe58ee2"
      },
      "outputs": [
        {
          "data": {
            "image/png": "[encoded data removed]",
            "text/plain": [
              "<Figure size 432x288 with 1 Axes>"
            ]
          },
          "metadata": {
            "needs_background": "light"
          },
          "output_type": "display_data"
        }
      ],
      "source": [
        "plt.imshow(world)\n",
        "plt.scatter(startPoint[0],-startPoint[1]+thinned.shape[0])\n",
        "plt.scatter(endPoint[0],-endPoint[1]+thinned.shape[0])\n",
        "plt.show() "
      ]
    },
    {
      "cell_type": "markdown",
      "metadata": {
        "id": "orSg9m3-BRgs"
      },
      "source": [
        "**BFS Shortest Path**\n"
      ]
    },
    {
      "cell_type": "code",
      "execution_count": 12,
      "metadata": {
        "id": "5HDmGXedBRgs"
      },
      "outputs": [],
      "source": [
        "def BFS_SP(graph, start, goal):\n",
        "    explored = []\n",
        "     \n",
        "    # Queue for traversing the\n",
        "    # graph in the BFS\n",
        "    queue = [[start]]\n",
        "     \n",
        "    # If the desired node is\n",
        "    # reached\n",
        "    if start == goal:\n",
        "        print(\"Same Node\")\n",
        "        return\n",
        "     \n",
        "    # Loop to traverse the graph\n",
        "    # with the help of the queue\n",
        "    while queue:\n",
        "        path = queue.pop(0)\n",
        "        node = path[-1]\n",
        "         \n",
        "        # Condition to check if the\n",
        "        # current node is not visited\n",
        "        if node not in explored:\n",
        "            neighbours = graph[node]\n",
        "             \n",
        "            # Loop to iterate over the\n",
        "            # neighbours of the node\n",
        "            for neighbour in neighbours:\n",
        "                new_path = list(path)\n",
        "                new_path.append(neighbour)\n",
        "                queue.append(new_path)\n",
        "                 \n",
        "                # Condition to check if the\n",
        "                # neighbour node is the goal\n",
        "                if neighbour == goal:\n",
        "                    print(\"Shortest path = \", *new_path)\n",
        "                    return new_path\n",
        "            explored.append(node)\n",
        " \n",
        "    # Condition when the nodes\n",
        "    # are not connected\n",
        "    print(\"So sorry, but a connecting\"\\\n",
        "                \"path doesn't exist :(\")\n",
        "    return"
      ]
    },
    {
      "attachments": {},
      "cell_type": "markdown",
      "metadata": {},
      "source": [
        "**Find path from the voronoi tree using BFS**"
      ]
    },
    {
      "cell_type": "code",
      "execution_count": null,
      "metadata": {
        "colab": {
          "base_uri": "https://localhost:8080/",
          "height": 339
        },
        "id": "EEB9olgIBRgt",
        "outputId": "80b38c39-7a50-4c4d-cf85-1afca5bcb2af"
      },
      "outputs": [],
      "source": [
        "a = BFS_SP(tree, str(startPoint), str(endPoint))\n",
        "b = [i[1:-1] for i in a]\n",
        "b = [[int(i.split(\", \")[0]) ,int(i.split(\", \")[1])] for i in b]\n",
        "waypointsFinal = b\n",
        "len(waypointsFinal)"
      ]
    },
    {
      "attachments": {},
      "cell_type": "markdown",
      "metadata": {},
      "source": [
        "**Display the results**"
      ]
    },
    {
      "cell_type": "code",
      "execution_count": null,
      "metadata": {
        "colab": {
          "base_uri": "https://localhost:8080/",
          "height": 504
        },
        "id": "mtEBr3uuBRgt",
        "outputId": "98371cc1-2e03-4df7-9c64-cba558163fcc"
      },
      "outputs": [],
      "source": [
        "#image = cv2.UMat.get(cv2.circle(world, (thinned.shape[0]-start[1],start[0]), radius=20,color=(0, 0, 255), thickness=-1))\n",
        "plt.imshow(world)\n",
        "for i in range(len(waypointsFinal)):\n",
        "  plt.scatter(waypointsFinal[i][0],-waypointsFinal[i][1]+thinned.shape[0])\n",
        "plt.show() "
      ]
    },
    {
      "attachments": {},
      "cell_type": "markdown",
      "metadata": {},
      "source": [
        "**Code for saving multiple frames for animation purposes**"
      ]
    },
    {
      "cell_type": "code",
      "execution_count": null,
      "metadata": {
        "colab": {
          "base_uri": "https://localhost:8080/",
          "height": 34
        },
        "id": "OekOQoNhBRgu",
        "outputId": "1fb9a734-58b2-4d36-b29e-76022aa199a3"
      },
      "outputs": [],
      "source": [
        "# plt.figure()\n",
        "# video = []\n",
        "# for i in range(0,len(waypointsFinal),10):\n",
        "#   image = cv2.UMat.get(cv2.circle(world, (waypointsFinal[i][0],-waypointsFinal[i][1]+thinned.shape[0]), radius=10,color=(0, 0, 255), thickness=-1))\n",
        "#   plt.imshow(image,cmap='gray')\n",
        "#   #plt.show()\n",
        "#   plt.imsave('/content/maze1/'+str(i)+'.png',image,cmap='gray')\n",
        "#   plt.clf()"
      ]
    },
    {
      "cell_type": "code",
      "execution_count": null,
      "metadata": {
        "colab": {
          "base_uri": "https://localhost:8080/"
        },
        "id": "o71xVldJBRgu",
        "outputId": "0ae5fedd-0c4f-4dda-e462-86857f9655bd"
      },
      "outputs": [],
      "source": [
        "# !zip -r /content/maze1.zip /content/maze1"
      ]
    }
  ],
  "metadata": {
    "colab": {
      "collapsed_sections": [
        "d4-zIhTvBO-5",
        "Uj5qwAVoCRVZ",
        "U1XcxDlSG1vw",
        "4Q6eLdP-pEzn"
      ],
      "name": "MorphPP_(1) (1).ipynb",
      "provenance": [],
      "toc_visible": true
    },
    "kernelspec": {
      "display_name": "Python 3",
      "language": "python",
      "name": "python3"
    },
    "language_info": {
      "name": "python",
      "version": "3.8.10 (default, Nov 14 2022, 12:59:47) \n[GCC 9.4.0]"
    },
    "vscode": {
      "interpreter": {
        "hash": "31f2aee4e71d21fbe5cf8b01ff0e069b9275f58929596ceb00d14d90e3e16cd6"
      }
    }
  },
  "nbformat": 4,
  "nbformat_minor": 0
}
